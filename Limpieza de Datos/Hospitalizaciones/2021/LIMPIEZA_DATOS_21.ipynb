{
 "cells": [
  {
   "cell_type": "markdown",
   "id": "fae1784e-4c85-4ee4-960d-947146f2a6c1",
   "metadata": {},
   "source": [
    "# Limpieza de datos de hospitalizaciones 2021"
   ]
  },
  {
   "cell_type": "code",
   "execution_count": 1,
   "id": "830a1f0f-2131-43cb-8710-a28c5fd38565",
   "metadata": {},
   "outputs": [],
   "source": [
    "import numpy as np\n",
    "import pandas as pd\n",
    "import matplotlib.pyplot as plt\n",
    "import seaborn as sns"
   ]
  },
  {
   "cell_type": "code",
   "execution_count": 2,
   "id": "5edb4849-d052-4c67-aadc-ecc92a376d1c",
   "metadata": {},
   "outputs": [],
   "source": [
    "df21 = pd.read_csv(\"1-2021.csv\", delimiter= \";\", encoding = \"latin1\")\n",
    "df21.columns = df21.columns.str.strip()\n"
   ]
  },
  {
   "cell_type": "code",
   "execution_count": 3,
   "id": "8df351ec-70f8-4690-ab1f-961da5011bcb",
   "metadata": {},
   "outputs": [
    {
     "name": "stdout",
     "output_type": "stream",
     "text": [
      "Columnas de df21: Index(['Diagnóstico principal (CIE10MC)', 'Total Nacional',\n",
      "       'Comunidades y Ciudades Autónomas', 'Provincias', 'Sexo', 'Total'],\n",
      "      dtype='object')\n"
     ]
    }
   ],
   "source": [
    "# Mostrar los nombres de columnas para verificar\n",
    "print(\"Columnas de df21:\", df21.columns)"
   ]
  },
  {
   "cell_type": "code",
   "execution_count": 4,
   "id": "37c4136b-45c6-496f-9e79-da0490ca7740",
   "metadata": {},
   "outputs": [
    {
     "data": {
      "text/html": [
       "<div>\n",
       "<style scoped>\n",
       "    .dataframe tbody tr th:only-of-type {\n",
       "        vertical-align: middle;\n",
       "    }\n",
       "\n",
       "    .dataframe tbody tr th {\n",
       "        vertical-align: top;\n",
       "    }\n",
       "\n",
       "    .dataframe thead th {\n",
       "        text-align: right;\n",
       "    }\n",
       "</style>\n",
       "<table border=\"1\" class=\"dataframe\">\n",
       "  <thead>\n",
       "    <tr style=\"text-align: right;\">\n",
       "      <th></th>\n",
       "      <th>Diagnóstico principal (CIE10MC)</th>\n",
       "      <th>Total Nacional</th>\n",
       "      <th>Comunidades y Ciudades Autónomas</th>\n",
       "      <th>Provincias</th>\n",
       "      <th>Sexo</th>\n",
       "      <th>Total</th>\n",
       "    </tr>\n",
       "  </thead>\n",
       "  <tbody>\n",
       "    <tr>\n",
       "      <th>0</th>\n",
       "      <td>0106 COVID-19 U07.1</td>\n",
       "      <td>Total Nacional</td>\n",
       "      <td>01 Andalucía</td>\n",
       "      <td>04 Almería</td>\n",
       "      <td>Ambos sexos</td>\n",
       "      <td>37.449</td>\n",
       "    </tr>\n",
       "    <tr>\n",
       "      <th>1</th>\n",
       "      <td>0106 COVID-19 U07.1</td>\n",
       "      <td>Total Nacional</td>\n",
       "      <td>01 Andalucía</td>\n",
       "      <td>04 Almería</td>\n",
       "      <td>Hombres</td>\n",
       "      <td>23.840</td>\n",
       "    </tr>\n",
       "    <tr>\n",
       "      <th>2</th>\n",
       "      <td>0106 COVID-19 U07.1</td>\n",
       "      <td>Total Nacional</td>\n",
       "      <td>01 Andalucía</td>\n",
       "      <td>04 Almería</td>\n",
       "      <td>Mujeres</td>\n",
       "      <td>13.609</td>\n",
       "    </tr>\n",
       "    <tr>\n",
       "      <th>3</th>\n",
       "      <td>0106 COVID-19 U07.1</td>\n",
       "      <td>Total Nacional</td>\n",
       "      <td>01 Andalucía</td>\n",
       "      <td>11 Cádiz</td>\n",
       "      <td>Ambos sexos</td>\n",
       "      <td>47.372</td>\n",
       "    </tr>\n",
       "    <tr>\n",
       "      <th>4</th>\n",
       "      <td>0106 COVID-19 U07.1</td>\n",
       "      <td>Total Nacional</td>\n",
       "      <td>01 Andalucía</td>\n",
       "      <td>11 Cádiz</td>\n",
       "      <td>Hombres</td>\n",
       "      <td>28.573</td>\n",
       "    </tr>\n",
       "    <tr>\n",
       "      <th>5</th>\n",
       "      <td>0106 COVID-19 U07.1</td>\n",
       "      <td>Total Nacional</td>\n",
       "      <td>01 Andalucía</td>\n",
       "      <td>11 Cádiz</td>\n",
       "      <td>Mujeres</td>\n",
       "      <td>18.799</td>\n",
       "    </tr>\n",
       "    <tr>\n",
       "      <th>6</th>\n",
       "      <td>0106 COVID-19 U07.1</td>\n",
       "      <td>Total Nacional</td>\n",
       "      <td>01 Andalucía</td>\n",
       "      <td>14 Córdoba</td>\n",
       "      <td>Ambos sexos</td>\n",
       "      <td>33.560</td>\n",
       "    </tr>\n",
       "    <tr>\n",
       "      <th>7</th>\n",
       "      <td>0106 COVID-19 U07.1</td>\n",
       "      <td>Total Nacional</td>\n",
       "      <td>01 Andalucía</td>\n",
       "      <td>14 Córdoba</td>\n",
       "      <td>Hombres</td>\n",
       "      <td>20.559</td>\n",
       "    </tr>\n",
       "    <tr>\n",
       "      <th>8</th>\n",
       "      <td>0106 COVID-19 U07.1</td>\n",
       "      <td>Total Nacional</td>\n",
       "      <td>01 Andalucía</td>\n",
       "      <td>14 Córdoba</td>\n",
       "      <td>Mujeres</td>\n",
       "      <td>13.001</td>\n",
       "    </tr>\n",
       "    <tr>\n",
       "      <th>9</th>\n",
       "      <td>0106 COVID-19 U07.1</td>\n",
       "      <td>Total Nacional</td>\n",
       "      <td>01 Andalucía</td>\n",
       "      <td>18 Granada</td>\n",
       "      <td>Ambos sexos</td>\n",
       "      <td>60.372</td>\n",
       "    </tr>\n",
       "  </tbody>\n",
       "</table>\n",
       "</div>"
      ],
      "text/plain": [
       "  Diagnóstico principal (CIE10MC)  Total Nacional  \\\n",
       "0             0106 COVID-19 U07.1  Total Nacional   \n",
       "1             0106 COVID-19 U07.1  Total Nacional   \n",
       "2             0106 COVID-19 U07.1  Total Nacional   \n",
       "3             0106 COVID-19 U07.1  Total Nacional   \n",
       "4             0106 COVID-19 U07.1  Total Nacional   \n",
       "5             0106 COVID-19 U07.1  Total Nacional   \n",
       "6             0106 COVID-19 U07.1  Total Nacional   \n",
       "7             0106 COVID-19 U07.1  Total Nacional   \n",
       "8             0106 COVID-19 U07.1  Total Nacional   \n",
       "9             0106 COVID-19 U07.1  Total Nacional   \n",
       "\n",
       "  Comunidades y Ciudades Autónomas  Provincias         Sexo   Total  \n",
       "0                     01 Andalucía  04 Almería  Ambos sexos  37.449  \n",
       "1                     01 Andalucía  04 Almería      Hombres  23.840  \n",
       "2                     01 Andalucía  04 Almería      Mujeres  13.609  \n",
       "3                     01 Andalucía    11 Cádiz  Ambos sexos  47.372  \n",
       "4                     01 Andalucía    11 Cádiz      Hombres  28.573  \n",
       "5                     01 Andalucía    11 Cádiz      Mujeres  18.799  \n",
       "6                     01 Andalucía  14 Córdoba  Ambos sexos  33.560  \n",
       "7                     01 Andalucía  14 Córdoba      Hombres  20.559  \n",
       "8                     01 Andalucía  14 Córdoba      Mujeres  13.001  \n",
       "9                     01 Andalucía  18 Granada  Ambos sexos  60.372  "
      ]
     },
     "execution_count": 4,
     "metadata": {},
     "output_type": "execute_result"
    }
   ],
   "source": [
    "df21.head(10)"
   ]
  },
  {
   "cell_type": "code",
   "execution_count": 5,
   "id": "5a3c1af9-3200-4a49-a5d8-d608bffb94ca",
   "metadata": {},
   "outputs": [
    {
     "data": {
      "text/plain": [
       "Diagnóstico principal (CIE10MC)      object\n",
       "Total Nacional                       object\n",
       "Comunidades y Ciudades Autónomas     object\n",
       "Provincias                           object\n",
       "Sexo                                 object\n",
       "Total                               float64\n",
       "dtype: object"
      ]
     },
     "execution_count": 5,
     "metadata": {},
     "output_type": "execute_result"
    }
   ],
   "source": [
    "df21.dtypes"
   ]
  },
  {
   "cell_type": "code",
   "execution_count": 6,
   "id": "01a7bdf2-e05b-4ddc-8064-2639a971a32a",
   "metadata": {
    "scrolled": true
   },
   "outputs": [],
   "source": [
    "# LIMPIEZA COLUMNA TOTAL\n",
    "df21['Total'] = pd.to_numeric(df21['Total'].astype(str).str.replace('.', '', regex=False), errors='coerce').fillna(0).astype(int)"
   ]
  },
  {
   "cell_type": "code",
   "execution_count": 7,
   "id": "d9b9ab3e-7515-42db-880a-ebcb8daf6211",
   "metadata": {},
   "outputs": [],
   "source": [
    "df21['Total'] = df21['Total'].apply(lambda x: str(x).replace('.', '') if pd.notnull(x) else '0').astype(int)"
   ]
  },
  {
   "cell_type": "code",
   "execution_count": 8,
   "id": "48f42d0d-3c50-4e2a-9fff-739dbe3f4a88",
   "metadata": {},
   "outputs": [],
   "source": [
    "\n",
    "df21['Total'] = df21['Total'].replace('', '0').astype(str).str.replace('.', '', regex=False).astype(int)"
   ]
  },
  {
   "cell_type": "code",
   "execution_count": 9,
   "id": "8f452e4c-dcde-49d9-8409-a0129e25a5a2",
   "metadata": {},
   "outputs": [
    {
     "data": {
      "text/plain": [
       "Diagnóstico principal (CIE10MC)     object\n",
       "Total Nacional                      object\n",
       "Comunidades y Ciudades Autónomas    object\n",
       "Provincias                          object\n",
       "Sexo                                object\n",
       "Total                                int64\n",
       "dtype: object"
      ]
     },
     "execution_count": 9,
     "metadata": {},
     "output_type": "execute_result"
    }
   ],
   "source": [
    "df21.dtypes"
   ]
  },
  {
   "cell_type": "code",
   "execution_count": 10,
   "id": "47634797-6d93-45e0-8651-71308ebf3c45",
   "metadata": {},
   "outputs": [
    {
     "data": {
      "text/html": [
       "<div>\n",
       "<style scoped>\n",
       "    .dataframe tbody tr th:only-of-type {\n",
       "        vertical-align: middle;\n",
       "    }\n",
       "\n",
       "    .dataframe tbody tr th {\n",
       "        vertical-align: top;\n",
       "    }\n",
       "\n",
       "    .dataframe thead th {\n",
       "        text-align: right;\n",
       "    }\n",
       "</style>\n",
       "<table border=\"1\" class=\"dataframe\">\n",
       "  <thead>\n",
       "    <tr style=\"text-align: right;\">\n",
       "      <th></th>\n",
       "      <th>Diagnóstico principal (CIE10MC)</th>\n",
       "      <th>Total Nacional</th>\n",
       "      <th>Comunidades y Ciudades Autónomas</th>\n",
       "      <th>Provincias</th>\n",
       "      <th>Sexo</th>\n",
       "      <th>Total</th>\n",
       "    </tr>\n",
       "  </thead>\n",
       "  <tbody>\n",
       "    <tr>\n",
       "      <th>0</th>\n",
       "      <td>0106 COVID-19 U07.1</td>\n",
       "      <td>Total Nacional</td>\n",
       "      <td>01 Andalucía</td>\n",
       "      <td>04 Almería</td>\n",
       "      <td>Ambos sexos</td>\n",
       "      <td>37449</td>\n",
       "    </tr>\n",
       "    <tr>\n",
       "      <th>1</th>\n",
       "      <td>0106 COVID-19 U07.1</td>\n",
       "      <td>Total Nacional</td>\n",
       "      <td>01 Andalucía</td>\n",
       "      <td>04 Almería</td>\n",
       "      <td>Hombres</td>\n",
       "      <td>2384</td>\n",
       "    </tr>\n",
       "    <tr>\n",
       "      <th>2</th>\n",
       "      <td>0106 COVID-19 U07.1</td>\n",
       "      <td>Total Nacional</td>\n",
       "      <td>01 Andalucía</td>\n",
       "      <td>04 Almería</td>\n",
       "      <td>Mujeres</td>\n",
       "      <td>13609</td>\n",
       "    </tr>\n",
       "    <tr>\n",
       "      <th>3</th>\n",
       "      <td>0106 COVID-19 U07.1</td>\n",
       "      <td>Total Nacional</td>\n",
       "      <td>01 Andalucía</td>\n",
       "      <td>11 Cádiz</td>\n",
       "      <td>Ambos sexos</td>\n",
       "      <td>47372</td>\n",
       "    </tr>\n",
       "    <tr>\n",
       "      <th>4</th>\n",
       "      <td>0106 COVID-19 U07.1</td>\n",
       "      <td>Total Nacional</td>\n",
       "      <td>01 Andalucía</td>\n",
       "      <td>11 Cádiz</td>\n",
       "      <td>Hombres</td>\n",
       "      <td>28573</td>\n",
       "    </tr>\n",
       "  </tbody>\n",
       "</table>\n",
       "</div>"
      ],
      "text/plain": [
       "  Diagnóstico principal (CIE10MC)  Total Nacional  \\\n",
       "0             0106 COVID-19 U07.1  Total Nacional   \n",
       "1             0106 COVID-19 U07.1  Total Nacional   \n",
       "2             0106 COVID-19 U07.1  Total Nacional   \n",
       "3             0106 COVID-19 U07.1  Total Nacional   \n",
       "4             0106 COVID-19 U07.1  Total Nacional   \n",
       "\n",
       "  Comunidades y Ciudades Autónomas  Provincias         Sexo  Total  \n",
       "0                     01 Andalucía  04 Almería  Ambos sexos  37449  \n",
       "1                     01 Andalucía  04 Almería      Hombres   2384  \n",
       "2                     01 Andalucía  04 Almería      Mujeres  13609  \n",
       "3                     01 Andalucía    11 Cádiz  Ambos sexos  47372  \n",
       "4                     01 Andalucía    11 Cádiz      Hombres  28573  "
      ]
     },
     "execution_count": 10,
     "metadata": {},
     "output_type": "execute_result"
    }
   ],
   "source": [
    "df21.head()"
   ]
  },
  {
   "cell_type": "code",
   "execution_count": 11,
   "id": "c73692d6-cfd5-4c24-9ef7-ff3d063f9039",
   "metadata": {},
   "outputs": [],
   "source": [
    "df21 = df21.reset_index()"
   ]
  },
  {
   "cell_type": "code",
   "execution_count": 12,
   "id": "7345d8a7-3b20-43d2-b4f8-2d6059b9e62c",
   "metadata": {},
   "outputs": [],
   "source": [
    "df21.drop('index', axis=1, inplace=True)"
   ]
  },
  {
   "cell_type": "code",
   "execution_count": 13,
   "id": "0b4c3464-5fe8-4e6f-8e9d-5df5d24463e0",
   "metadata": {},
   "outputs": [
    {
     "data": {
      "text/plain": [
       "0"
      ]
     },
     "execution_count": 13,
     "metadata": {},
     "output_type": "execute_result"
    }
   ],
   "source": [
    "df21['Total'].isnull().sum()"
   ]
  },
  {
   "cell_type": "code",
   "execution_count": 14,
   "id": "efb6e7a3-cdfa-4122-8328-376aba8322e8",
   "metadata": {},
   "outputs": [],
   "source": [
    "df21['Comunidades y Ciudades Autónomas'] = df21['Comunidades y Ciudades Autónomas'].fillna('')\n",
    "df21['Provincias'] = df21['Provincias'].fillna('')"
   ]
  },
  {
   "cell_type": "code",
   "execution_count": 15,
   "id": "9459ba71-c5b0-426a-886d-01d47d49a7c5",
   "metadata": {},
   "outputs": [],
   "source": [
    "df21['Combinada'] = df21['Comunidades y Ciudades Autónomas'].str.cat(df21['Provincias'], sep=' ')"
   ]
  },
  {
   "cell_type": "code",
   "execution_count": 16,
   "id": "cfce6a8a-79f6-4294-a3be-edbae068b096",
   "metadata": {},
   "outputs": [
    {
     "data": {
      "text/html": [
       "<div>\n",
       "<style scoped>\n",
       "    .dataframe tbody tr th:only-of-type {\n",
       "        vertical-align: middle;\n",
       "    }\n",
       "\n",
       "    .dataframe tbody tr th {\n",
       "        vertical-align: top;\n",
       "    }\n",
       "\n",
       "    .dataframe thead th {\n",
       "        text-align: right;\n",
       "    }\n",
       "</style>\n",
       "<table border=\"1\" class=\"dataframe\">\n",
       "  <thead>\n",
       "    <tr style=\"text-align: right;\">\n",
       "      <th></th>\n",
       "      <th>Diagnóstico principal (CIE10MC)</th>\n",
       "      <th>Total Nacional</th>\n",
       "      <th>Comunidades y Ciudades Autónomas</th>\n",
       "      <th>Provincias</th>\n",
       "      <th>Sexo</th>\n",
       "      <th>Total</th>\n",
       "      <th>Combinada</th>\n",
       "    </tr>\n",
       "  </thead>\n",
       "  <tbody>\n",
       "    <tr>\n",
       "      <th>0</th>\n",
       "      <td>0106 COVID-19 U07.1</td>\n",
       "      <td>Total Nacional</td>\n",
       "      <td>01 Andalucía</td>\n",
       "      <td>04 Almería</td>\n",
       "      <td>Ambos sexos</td>\n",
       "      <td>37449</td>\n",
       "      <td>01 Andalucía 04 Almería</td>\n",
       "    </tr>\n",
       "  </tbody>\n",
       "</table>\n",
       "</div>"
      ],
      "text/plain": [
       "  Diagnóstico principal (CIE10MC)  Total Nacional  \\\n",
       "0             0106 COVID-19 U07.1  Total Nacional   \n",
       "\n",
       "  Comunidades y Ciudades Autónomas  Provincias         Sexo  Total  \\\n",
       "0                     01 Andalucía  04 Almería  Ambos sexos  37449   \n",
       "\n",
       "                 Combinada  \n",
       "0  01 Andalucía 04 Almería  "
      ]
     },
     "execution_count": 16,
     "metadata": {},
     "output_type": "execute_result"
    }
   ],
   "source": [
    "df21.head(1)"
   ]
  },
  {
   "cell_type": "code",
   "execution_count": 17,
   "id": "51cefdef-0ac6-4cda-ad15-59aac4ee1640",
   "metadata": {},
   "outputs": [],
   "source": [
    "df21 = df21[df21.columns[[0,4,5,6]]]"
   ]
  },
  {
   "cell_type": "code",
   "execution_count": 18,
   "id": "652e2922-4fa5-4689-8116-e95b77311be9",
   "metadata": {},
   "outputs": [
    {
     "data": {
      "text/html": [
       "<div>\n",
       "<style scoped>\n",
       "    .dataframe tbody tr th:only-of-type {\n",
       "        vertical-align: middle;\n",
       "    }\n",
       "\n",
       "    .dataframe tbody tr th {\n",
       "        vertical-align: top;\n",
       "    }\n",
       "\n",
       "    .dataframe thead th {\n",
       "        text-align: right;\n",
       "    }\n",
       "</style>\n",
       "<table border=\"1\" class=\"dataframe\">\n",
       "  <thead>\n",
       "    <tr style=\"text-align: right;\">\n",
       "      <th></th>\n",
       "      <th>Diagnóstico principal (CIE10MC)</th>\n",
       "      <th>Sexo</th>\n",
       "      <th>Total</th>\n",
       "      <th>Combinada</th>\n",
       "    </tr>\n",
       "  </thead>\n",
       "  <tbody>\n",
       "    <tr>\n",
       "      <th>0</th>\n",
       "      <td>0106 COVID-19 U07.1</td>\n",
       "      <td>Ambos sexos</td>\n",
       "      <td>37449</td>\n",
       "      <td>01 Andalucía 04 Almería</td>\n",
       "    </tr>\n",
       "    <tr>\n",
       "      <th>1</th>\n",
       "      <td>0106 COVID-19 U07.1</td>\n",
       "      <td>Hombres</td>\n",
       "      <td>2384</td>\n",
       "      <td>01 Andalucía 04 Almería</td>\n",
       "    </tr>\n",
       "    <tr>\n",
       "      <th>2</th>\n",
       "      <td>0106 COVID-19 U07.1</td>\n",
       "      <td>Mujeres</td>\n",
       "      <td>13609</td>\n",
       "      <td>01 Andalucía 04 Almería</td>\n",
       "    </tr>\n",
       "    <tr>\n",
       "      <th>3</th>\n",
       "      <td>0106 COVID-19 U07.1</td>\n",
       "      <td>Ambos sexos</td>\n",
       "      <td>47372</td>\n",
       "      <td>01 Andalucía 11 Cádiz</td>\n",
       "    </tr>\n",
       "    <tr>\n",
       "      <th>4</th>\n",
       "      <td>0106 COVID-19 U07.1</td>\n",
       "      <td>Hombres</td>\n",
       "      <td>28573</td>\n",
       "      <td>01 Andalucía 11 Cádiz</td>\n",
       "    </tr>\n",
       "    <tr>\n",
       "      <th>...</th>\n",
       "      <td>...</td>\n",
       "      <td>...</td>\n",
       "      <td>...</td>\n",
       "      <td>...</td>\n",
       "    </tr>\n",
       "    <tr>\n",
       "      <th>1711</th>\n",
       "      <td>1008 Otras enfermedades del sistema respirator...</td>\n",
       "      <td>Hombres</td>\n",
       "      <td>8090</td>\n",
       "      <td>18 Ceuta</td>\n",
       "    </tr>\n",
       "    <tr>\n",
       "      <th>1712</th>\n",
       "      <td>1008 Otras enfermedades del sistema respirator...</td>\n",
       "      <td>Mujeres</td>\n",
       "      <td>6700</td>\n",
       "      <td>18 Ceuta</td>\n",
       "    </tr>\n",
       "    <tr>\n",
       "      <th>1713</th>\n",
       "      <td>1008 Otras enfermedades del sistema respirator...</td>\n",
       "      <td>Ambos sexos</td>\n",
       "      <td>1011</td>\n",
       "      <td>19 Melilla</td>\n",
       "    </tr>\n",
       "    <tr>\n",
       "      <th>1714</th>\n",
       "      <td>1008 Otras enfermedades del sistema respirator...</td>\n",
       "      <td>Hombres</td>\n",
       "      <td>5380</td>\n",
       "      <td>19 Melilla</td>\n",
       "    </tr>\n",
       "    <tr>\n",
       "      <th>1715</th>\n",
       "      <td>1008 Otras enfermedades del sistema respirator...</td>\n",
       "      <td>Mujeres</td>\n",
       "      <td>4730</td>\n",
       "      <td>19 Melilla</td>\n",
       "    </tr>\n",
       "  </tbody>\n",
       "</table>\n",
       "<p>1716 rows × 4 columns</p>\n",
       "</div>"
      ],
      "text/plain": [
       "                        Diagnóstico principal (CIE10MC)         Sexo  Total  \\\n",
       "0                                   0106 COVID-19 U07.1  Ambos sexos  37449   \n",
       "1                                   0106 COVID-19 U07.1      Hombres   2384   \n",
       "2                                   0106 COVID-19 U07.1      Mujeres  13609   \n",
       "3                                   0106 COVID-19 U07.1  Ambos sexos  47372   \n",
       "4                                   0106 COVID-19 U07.1      Hombres  28573   \n",
       "...                                                 ...          ...    ...   \n",
       "1711  1008 Otras enfermedades del sistema respirator...      Hombres   8090   \n",
       "1712  1008 Otras enfermedades del sistema respirator...      Mujeres   6700   \n",
       "1713  1008 Otras enfermedades del sistema respirator...  Ambos sexos   1011   \n",
       "1714  1008 Otras enfermedades del sistema respirator...      Hombres   5380   \n",
       "1715  1008 Otras enfermedades del sistema respirator...      Mujeres   4730   \n",
       "\n",
       "                    Combinada  \n",
       "0     01 Andalucía 04 Almería  \n",
       "1     01 Andalucía 04 Almería  \n",
       "2     01 Andalucía 04 Almería  \n",
       "3       01 Andalucía 11 Cádiz  \n",
       "4       01 Andalucía 11 Cádiz  \n",
       "...                       ...  \n",
       "1711                18 Ceuta   \n",
       "1712                18 Ceuta   \n",
       "1713              19 Melilla   \n",
       "1714              19 Melilla   \n",
       "1715              19 Melilla   \n",
       "\n",
       "[1716 rows x 4 columns]"
      ]
     },
     "execution_count": 18,
     "metadata": {},
     "output_type": "execute_result"
    }
   ],
   "source": [
    "df21"
   ]
  },
  {
   "cell_type": "code",
   "execution_count": 19,
   "id": "e109d162-83b0-4e10-a5c0-5f6095f17bc4",
   "metadata": {},
   "outputs": [
    {
     "data": {
      "text/plain": [
       "array(['01 Andalucía 04 Almería', '01 Andalucía 11 Cádiz',\n",
       "       '01 Andalucía 14 Córdoba', '01 Andalucía 18 Granada',\n",
       "       '01 Andalucía 21 Huelva', '01 Andalucía 23 Jaén',\n",
       "       '01 Andalucía 29 Málaga', '01 Andalucía 41 Sevilla',\n",
       "       '02 Aragón 22 Huesca', '02 Aragón 44 Teruel',\n",
       "       '02 Aragón 50 Zaragoza', '03 Asturias, Principado de ',\n",
       "       '04 Balears, Illes ', '05 Canarias 35 Palmas, Las',\n",
       "       '05 Canarias 38 Santa Cruz de Tenerife', '06 Cantabria ',\n",
       "       '07 Castilla y León 05 Ávila', '07 Castilla y León 09 Burgos',\n",
       "       '07 Castilla y León 24 León', '07 Castilla y León 34 Palencia',\n",
       "       '07 Castilla y León 37 Salamanca', '07 Castilla y León 40 Segovia',\n",
       "       '07 Castilla y León 42 Soria', '07 Castilla y León 47 Valladolid',\n",
       "       '07 Castilla y León 49 Zamora',\n",
       "       '08 Castilla - La Mancha 02 Albacete',\n",
       "       '08 Castilla - La Mancha 13 Ciudad Real',\n",
       "       '08 Castilla - La Mancha 16 Cuenca',\n",
       "       '08 Castilla - La Mancha 19 Guadalajara',\n",
       "       '08 Castilla - La Mancha 45 Toledo', '09 Cataluña 08 Barcelona',\n",
       "       '09 Cataluña 17 Girona', '09 Cataluña 25 Lleida',\n",
       "       '09 Cataluña 43 Tarragona',\n",
       "       '10 Comunitat Valenciana 03 Alicante/Alacant',\n",
       "       '10 Comunitat Valenciana 12 Castellón/Castelló',\n",
       "       '10 Comunitat Valenciana 46 Valencia/València',\n",
       "       '11 Extremadura 06 Badajoz', '11 Extremadura 10 Cáceres',\n",
       "       '12 Galicia 15 Coruña, A', '12 Galicia 27 Lugo',\n",
       "       '12 Galicia 32 Ourense', '12 Galicia 36 Pontevedra',\n",
       "       '13 Madrid, Comunidad de ', '14 Murcia, Región de ',\n",
       "       '15 Navarra, Comunidad Foral de ', '16 País Vasco 01 Araba/Álava',\n",
       "       '16 País Vasco 48 Bizkaia', '16 País Vasco 20 Gipuzkoa',\n",
       "       '17 Rioja, La ', '18 Ceuta ', '19 Melilla '], dtype=object)"
      ]
     },
     "execution_count": 19,
     "metadata": {},
     "output_type": "execute_result"
    }
   ],
   "source": [
    "df21['Combinada'].unique()"
   ]
  },
  {
   "cell_type": "code",
   "execution_count": 20,
   "id": "89efb356-ded9-4a8e-9351-832d1b9f15f3",
   "metadata": {},
   "outputs": [],
   "source": [
    "# RENOMBRADO DE COLUMNAS\n",
    "df21.rename(\n",
    "    columns = {'Combinada': 'Provincia',\n",
    "              'Diagnóstico principal (CIE10MC)': 'Diagnóstico',\n",
    "              'Total': 'Hospitalizaciones'},\n",
    "    inplace = True\n",
    ")"
   ]
  },
  {
   "cell_type": "code",
   "execution_count": 21,
   "id": "a75901a6-4703-4886-a782-41973ed9e971",
   "metadata": {},
   "outputs": [],
   "source": [
    "df21 = df21[['Diagnóstico', 'Provincia', 'Sexo', 'Hospitalizaciones']]"
   ]
  },
  {
   "cell_type": "code",
   "execution_count": 22,
   "id": "6c71f9a8-63b5-433c-98e2-3155b9aae80e",
   "metadata": {},
   "outputs": [],
   "source": [
    "mapeo_combinada = {\n",
    "    '01 Andalucía 04 Almería': 'Almería',\n",
    "    '01 Andalucía 11 Cádiz': 'Cádiz',\n",
    "    '01 Andalucía 14 Córdoba': 'Córdoba',\n",
    "    '01 Andalucía 18 Granada': \"Granada\",\n",
    "    '01 Andalucía 21 Huelva': 'Huelva',\n",
    "    '01 Andalucía 23 Jaén': 'Jaén',\n",
    "    '01 Andalucía 29 Málaga': 'Málaga',\n",
    "    '01 Andalucía 41 Sevilla': 'Sevilla',\n",
    "    '02 Aragón 22 Huesca': 'Huesca',\n",
    "    '02 Aragón 44 Teruel': 'Teruel',\n",
    "    '02 Aragón 50 Zaragoza': 'Zaragoza',\n",
    "    '03 Asturias, Principado de ': 'Asturias',\n",
    "    '04 Balears, Illes ': 'Islas Baleares',\n",
    "    '05 Canarias 35 Palmas, Las': 'Las Palmas',\n",
    "    '05 Canarias 38 Santa Cruz de Tenerife': 'Santa Cruz de Tenerife',\n",
    "    '06 Cantabria ': 'Cantabria',\n",
    "    '07 Castilla y León 05 Ávila': 'Ávila',\n",
    "    '07 Castilla y León 09 Burgos': 'Burgos',\n",
    "    '07 Castilla y León 24 León': 'León',\n",
    "    '07 Castilla y León 34 Palencia': 'Palencia',\n",
    "    '07 Castilla y León 37 Salamanca': 'Salamanca',\n",
    "    '07 Castilla y León 40 Segovia': 'Segovia',\n",
    "    '07 Castilla y León 42 Soria': 'Soria',\n",
    "    '07 Castilla y León 47 Valladolid': 'Valladolid',\n",
    "    '07 Castilla y León 49 Zamora': 'Zamora',\n",
    "    '08 Castilla - La Mancha 02 Albacete': 'Albacete',\n",
    "    '08 Castilla - La Mancha 13 Ciudad Real': 'Ciudad Real',\n",
    "    '08 Castilla - La Mancha 16 Cuenca': 'Cuenca',\n",
    "    '08 Castilla - La Mancha 19 Guadalajara': 'Guadalajara',\n",
    "    '08 Castilla - La Mancha 45 Toledo': 'Toledo',\n",
    "    '09 Cataluña 08 Barcelona': 'Barcelona',\n",
    "    '09 Cataluña 17 Girona': 'Girona',\n",
    "    '09 Cataluña 25 Lleida': 'Lleida',\n",
    "    '09 Cataluña 43 Tarragona': 'Tarragona',\n",
    "    '10 Comunitat Valenciana 03 Alicante/Alacant': 'Alicante',\n",
    "    '10 Comunitat Valenciana 12 Castellón/Castelló': 'Castellón',\n",
    "    '10 Comunitat Valenciana 46 Valencia/València': 'Valencia',\n",
    "    '11 Extremadura 06 Badajoz': 'Badajoz',\n",
    "    '11 Extremadura 10 Cáceres': 'Cáceres',\n",
    "    '12 Galicia 15 Coruña, A': 'A Coruña',\n",
    "    '12 Galicia 27 Lugo': 'Lugo',\n",
    "    '12 Galicia 32 Ourense': 'Ourense',\n",
    "    '12 Galicia 36 Pontevedra': 'Pontevedra',\n",
    "    '13 Madrid, Comunidad de ': 'Madrid',\n",
    "    '14 Murcia, Región de ': 'Murcia',\n",
    "    '15 Navarra, Comunidad Foral de ': 'Navarra',\n",
    "    '16 País Vasco 01 Araba/Álava': 'Álava',\n",
    "    '16 País Vasco 48 Bizkaia': 'Bizkaia',\n",
    "    '16 País Vasco 20 Gipuzkoa': 'Gipuzkoa',\n",
    "    '17 Rioja, La ': 'La Rioja',\n",
    "    '18 Ceuta ': 'Ceuta',\n",
    "    '19 Melilla ': 'Melilla'\n",
    "}\n",
    "\n",
    "df21['Provincia'] = df21['Provincia'].map(mapeo_combinada)"
   ]
  },
  {
   "cell_type": "code",
   "execution_count": 23,
   "id": "ac9e931a",
   "metadata": {},
   "outputs": [
    {
     "data": {
      "text/html": [
       "<div>\n",
       "<style scoped>\n",
       "    .dataframe tbody tr th:only-of-type {\n",
       "        vertical-align: middle;\n",
       "    }\n",
       "\n",
       "    .dataframe tbody tr th {\n",
       "        vertical-align: top;\n",
       "    }\n",
       "\n",
       "    .dataframe thead th {\n",
       "        text-align: right;\n",
       "    }\n",
       "</style>\n",
       "<table border=\"1\" class=\"dataframe\">\n",
       "  <thead>\n",
       "    <tr style=\"text-align: right;\">\n",
       "      <th></th>\n",
       "      <th>Diagnóstico</th>\n",
       "      <th>Provincia</th>\n",
       "      <th>Sexo</th>\n",
       "      <th>Hospitalizaciones</th>\n",
       "    </tr>\n",
       "  </thead>\n",
       "  <tbody>\n",
       "  </tbody>\n",
       "</table>\n",
       "</div>"
      ],
      "text/plain": [
       "Empty DataFrame\n",
       "Columns: [Diagnóstico, Provincia, Sexo, Hospitalizaciones]\n",
       "Index: []"
      ]
     },
     "execution_count": 23,
     "metadata": {},
     "output_type": "execute_result"
    }
   ],
   "source": [
    "# Crear un filtro para seleccionar filas donde \"Provincia\" es NaN\n",
    "filtro = df21['Provincia'].isna()\n",
    "\n",
    "# Aplicar el filtro para obtener solo las filas donde \"Provincia\" es NaN\n",
    "df21_nan_provincia = df21.loc[filtro]\n",
    "\n",
    "# Mostrar el resultado\n",
    "df21_nan_provincia\n"
   ]
  },
  {
   "cell_type": "code",
   "execution_count": 24,
   "id": "f7d1fa88",
   "metadata": {},
   "outputs": [],
   "source": [
    "df21=df21.dropna()"
   ]
  },
  {
   "cell_type": "code",
   "execution_count": 25,
   "id": "683e1e0d",
   "metadata": {},
   "outputs": [
    {
     "data": {
      "text/plain": [
       "0"
      ]
     },
     "execution_count": 25,
     "metadata": {},
     "output_type": "execute_result"
    }
   ],
   "source": [
    "df21[\"Provincia\"].isna().sum()"
   ]
  },
  {
   "cell_type": "code",
   "execution_count": 26,
   "id": "badceeaf-f3e1-46d0-a59a-508eac962e8e",
   "metadata": {},
   "outputs": [
    {
     "data": {
      "text/html": [
       "<div>\n",
       "<style scoped>\n",
       "    .dataframe tbody tr th:only-of-type {\n",
       "        vertical-align: middle;\n",
       "    }\n",
       "\n",
       "    .dataframe tbody tr th {\n",
       "        vertical-align: top;\n",
       "    }\n",
       "\n",
       "    .dataframe thead th {\n",
       "        text-align: right;\n",
       "    }\n",
       "</style>\n",
       "<table border=\"1\" class=\"dataframe\">\n",
       "  <thead>\n",
       "    <tr style=\"text-align: right;\">\n",
       "      <th></th>\n",
       "      <th>Diagnóstico</th>\n",
       "      <th>Provincia</th>\n",
       "      <th>Sexo</th>\n",
       "      <th>Hospitalizaciones</th>\n",
       "    </tr>\n",
       "  </thead>\n",
       "  <tbody>\n",
       "    <tr>\n",
       "      <th>0</th>\n",
       "      <td>0106 COVID-19 U07.1</td>\n",
       "      <td>Almería</td>\n",
       "      <td>Ambos sexos</td>\n",
       "      <td>37449</td>\n",
       "    </tr>\n",
       "    <tr>\n",
       "      <th>1</th>\n",
       "      <td>0106 COVID-19 U07.1</td>\n",
       "      <td>Almería</td>\n",
       "      <td>Hombres</td>\n",
       "      <td>2384</td>\n",
       "    </tr>\n",
       "    <tr>\n",
       "      <th>2</th>\n",
       "      <td>0106 COVID-19 U07.1</td>\n",
       "      <td>Almería</td>\n",
       "      <td>Mujeres</td>\n",
       "      <td>13609</td>\n",
       "    </tr>\n",
       "  </tbody>\n",
       "</table>\n",
       "</div>"
      ],
      "text/plain": [
       "           Diagnóstico Provincia         Sexo  Hospitalizaciones\n",
       "0  0106 COVID-19 U07.1   Almería  Ambos sexos              37449\n",
       "1  0106 COVID-19 U07.1   Almería      Hombres               2384\n",
       "2  0106 COVID-19 U07.1   Almería      Mujeres              13609"
      ]
     },
     "execution_count": 26,
     "metadata": {},
     "output_type": "execute_result"
    }
   ],
   "source": [
    "df21.head(3)"
   ]
  },
  {
   "cell_type": "code",
   "execution_count": 27,
   "id": "d2f55e42-c856-499c-ae99-6c0f70bc999c",
   "metadata": {},
   "outputs": [],
   "source": [
    "# CREACIÓN DE OTRA COLUMNA PROVINCIA ID\n",
    "columna_duplicada = df21['Provincia']\n",
    "if 'ColumnaDuplicada' in df21.columns:\n",
    "    df21.drop(columns=['ColumnaDuplicada'], inplace=True)\n",
    "df21.insert(2, 'ColumnaDuplicada', columna_duplicada)"
   ]
  },
  {
   "cell_type": "code",
   "execution_count": 28,
   "id": "f0396d07-5486-469b-b15e-fb750910cc95",
   "metadata": {},
   "outputs": [],
   "source": [
    "df21.rename(\n",
    "    columns = {'ColumnaDuplicada': 'Provincia_ID'},\n",
    "    inplace = True\n",
    ")"
   ]
  },
  {
   "cell_type": "code",
   "execution_count": 29,
   "id": "537642b6-72ee-412b-a255-3e3bd3262d01",
   "metadata": {},
   "outputs": [],
   "source": [
    "mapeo_provincias = {\n",
    "    \"Álava\": 1,\n",
    "    \"Albacete\": 2,\n",
    "    \"Alicante\": 3,\n",
    "    \"Almería\": 4,\n",
    "    \"Ávila\": 5,\n",
    "    \"Badajoz\": 6,\n",
    "    \"Islas Baleares\": 7,\n",
    "    \"Barcelona\": 8,\n",
    "    \"Burgos\": 9,\n",
    "    \"Cáceres\": 10,\n",
    "    \"Cádiz\": 11,\n",
    "    \"Castellón\": 12,\n",
    "    \"Ciudad Real\": 13,\n",
    "    \"Córdoba\": 14,\n",
    "    \"A Coruña\": 15,\n",
    "    \"Cuenca\": 16,\n",
    "    \"Girona\": 17,\n",
    "    \"Granada\": 18,\n",
    "    \"Guadalajara\": 19,\n",
    "    \"Gipuzkoa\": 20,\n",
    "    \"Huelva\": 21,\n",
    "    \"Huesca\": 22,\n",
    "    \"Jaén\": 23,\n",
    "    \"León\": 24,\n",
    "    \"Lleida\": 25,\n",
    "    \"La Rioja\": 26,\n",
    "    \"Lugo\": 27,\n",
    "    \"Madrid\": 28,\n",
    "    \"Málaga\": 29,\n",
    "    \"Murcia\": 30,\n",
    "    \"Navarra\": 31,\n",
    "    \"Ourense\": 32,\n",
    "    \"Asturias\": 33,\n",
    "    \"Palencia\": 34,\n",
    "    \"Las Palmas\": 35,\n",
    "    \"Pontevedra\": 36,\n",
    "    \"Salamanca\": 37,\n",
    "    \"Santa Cruz de Tenerife\": 38,\n",
    "    \"Cantabria\": 39,\n",
    "    \"Segovia\": 40,\n",
    "    \"Sevilla\": 41,\n",
    "    \"Soria\": 42,\n",
    "    \"Tarragona\": 43,\n",
    "    \"Teruel\": 44,\n",
    "    \"Toledo\": 45,\n",
    "    \"Valencia\": 46,\n",
    "    \"Valladolid\": 47,\n",
    "    \"Bizkaia\": 48,\n",
    "    \"Zamora\": 49,\n",
    "    \"Zaragoza\": 50,\n",
    "    \"Ceuta\": 51,\n",
    "    \"Melilla\": 52\n",
    "}\n",
    "\n",
    "df21['Provincia_ID'] = df21['Provincia_ID'].map(mapeo_provincias)"
   ]
  },
  {
   "cell_type": "code",
   "execution_count": 30,
   "id": "0ab2f20c-c260-40d9-94c5-24c87df1ae3d",
   "metadata": {},
   "outputs": [
    {
     "data": {
      "text/html": [
       "<div>\n",
       "<style scoped>\n",
       "    .dataframe tbody tr th:only-of-type {\n",
       "        vertical-align: middle;\n",
       "    }\n",
       "\n",
       "    .dataframe tbody tr th {\n",
       "        vertical-align: top;\n",
       "    }\n",
       "\n",
       "    .dataframe thead th {\n",
       "        text-align: right;\n",
       "    }\n",
       "</style>\n",
       "<table border=\"1\" class=\"dataframe\">\n",
       "  <thead>\n",
       "    <tr style=\"text-align: right;\">\n",
       "      <th></th>\n",
       "      <th>Diagnóstico</th>\n",
       "      <th>Provincia</th>\n",
       "      <th>Provincia_ID</th>\n",
       "      <th>Sexo</th>\n",
       "      <th>Hospitalizaciones</th>\n",
       "    </tr>\n",
       "  </thead>\n",
       "  <tbody>\n",
       "    <tr>\n",
       "      <th>0</th>\n",
       "      <td>0106 COVID-19 U07.1</td>\n",
       "      <td>Almería</td>\n",
       "      <td>4</td>\n",
       "      <td>Ambos sexos</td>\n",
       "      <td>37449</td>\n",
       "    </tr>\n",
       "    <tr>\n",
       "      <th>1</th>\n",
       "      <td>0106 COVID-19 U07.1</td>\n",
       "      <td>Almería</td>\n",
       "      <td>4</td>\n",
       "      <td>Hombres</td>\n",
       "      <td>2384</td>\n",
       "    </tr>\n",
       "    <tr>\n",
       "      <th>2</th>\n",
       "      <td>0106 COVID-19 U07.1</td>\n",
       "      <td>Almería</td>\n",
       "      <td>4</td>\n",
       "      <td>Mujeres</td>\n",
       "      <td>13609</td>\n",
       "    </tr>\n",
       "    <tr>\n",
       "      <th>3</th>\n",
       "      <td>0106 COVID-19 U07.1</td>\n",
       "      <td>Cádiz</td>\n",
       "      <td>11</td>\n",
       "      <td>Ambos sexos</td>\n",
       "      <td>47372</td>\n",
       "    </tr>\n",
       "    <tr>\n",
       "      <th>4</th>\n",
       "      <td>0106 COVID-19 U07.1</td>\n",
       "      <td>Cádiz</td>\n",
       "      <td>11</td>\n",
       "      <td>Hombres</td>\n",
       "      <td>28573</td>\n",
       "    </tr>\n",
       "  </tbody>\n",
       "</table>\n",
       "</div>"
      ],
      "text/plain": [
       "           Diagnóstico Provincia  Provincia_ID         Sexo  Hospitalizaciones\n",
       "0  0106 COVID-19 U07.1   Almería             4  Ambos sexos              37449\n",
       "1  0106 COVID-19 U07.1   Almería             4      Hombres               2384\n",
       "2  0106 COVID-19 U07.1   Almería             4      Mujeres              13609\n",
       "3  0106 COVID-19 U07.1     Cádiz            11  Ambos sexos              47372\n",
       "4  0106 COVID-19 U07.1     Cádiz            11      Hombres              28573"
      ]
     },
     "execution_count": 30,
     "metadata": {},
     "output_type": "execute_result"
    }
   ],
   "source": [
    "df21.head()"
   ]
  },
  {
   "cell_type": "code",
   "execution_count": 31,
   "id": "1eccbef2-1d68-4db2-9dd5-98012eb19c4f",
   "metadata": {},
   "outputs": [
    {
     "data": {
      "text/plain": [
       "0"
      ]
     },
     "execution_count": 31,
     "metadata": {},
     "output_type": "execute_result"
    }
   ],
   "source": [
    "df21['Provincia_ID'].isna().sum()"
   ]
  },
  {
   "cell_type": "code",
   "execution_count": 32,
   "id": "ca29ce0c-ab0d-4632-acd7-65f3fe9ad572",
   "metadata": {},
   "outputs": [
    {
     "data": {
      "text/plain": [
       "0        4\n",
       "1        4\n",
       "2        4\n",
       "3       11\n",
       "4       11\n",
       "        ..\n",
       "1711    51\n",
       "1712    51\n",
       "1713    52\n",
       "1714    52\n",
       "1715    52\n",
       "Name: Provincia_ID, Length: 1716, dtype: int64"
      ]
     },
     "execution_count": 32,
     "metadata": {},
     "output_type": "execute_result"
    }
   ],
   "source": [
    "df21['Provincia_ID']"
   ]
  },
  {
   "cell_type": "code",
   "execution_count": 33,
   "id": "a4b80d09-2df1-41c8-a8b9-7099186e2754",
   "metadata": {},
   "outputs": [
    {
     "data": {
      "text/plain": [
       "array(['0106 COVID-19 U07.1',\n",
       "       '0202 Neoplasias malignas de tráquea, bronquios y pulmón  C33-C34',\n",
       "       '0905 Enfermedades de la circulación pulmonar I26-I28',\n",
       "       '1001 Infecciones agudas de las vías respiratorias superiores y gripe J00-J11',\n",
       "       '1002 Neumonía J12-J18',\n",
       "       '1003 Bronquitis y bronquiolitis agudas J20-J22',\n",
       "       '1004 Enfermedad crónica de amígdalas y adenoides J35',\n",
       "       '1005 Otras enfermedades del tracto respiratorio superior J30-J34, J36-J39',\n",
       "       '1006 Enfermedad pulmonar obstructiva crónica y bronquiectasias J40-J44, J47',\n",
       "       '1007 Asma J45',\n",
       "       '1008 Otras enfermedades del sistema respiratorio J60-J99'],\n",
       "      dtype=object)"
      ]
     },
     "execution_count": 33,
     "metadata": {},
     "output_type": "execute_result"
    }
   ],
   "source": [
    "df21['Diagnóstico'].unique()"
   ]
  },
  {
   "cell_type": "code",
   "execution_count": 34,
   "id": "37c9ea14-ca60-42c2-80dc-6f5cab5b1cf3",
   "metadata": {},
   "outputs": [],
   "source": [
    "mapeo_diagnostico = {\n",
    "    '0106 COVID-19 U07.1':'COVID-19',\n",
    "    '0202 Neoplasias malignas de tráquea, bronquios y pulmón  C33-C34': 'Neoplasia maligna de tráquea, bronquios y pulmón',\n",
    "    '0905 Enfermedades de la circulación pulmonar I26-I28': 'Enfermedades de la circulación pulmonar',\n",
    "    '1001 Infecciones agudas de las vías respiratorias superiores y gripe J00-J11': 'Infecciones/enfermedades de las vías respiratorias superiores y gripe',\n",
    "    '1002 Neumonía J12-J18': 'Neumonía',\n",
    "    '1003 Bronquitis y bronquiolitis agudas J20-J22': 'Otras infecciones de las vias respiratorias inferiores',\n",
    "    '1004 Enfermedad crónica de amígdalas y adenoides J35': 'Enfermedad crónica de amígdalas',\n",
    "    '1005 Otras enfermedades del tracto respiratorio superior J30-J34, J36-J39': 'Infecciones/enfermedades de las vías respiratorias superiores y gripe',\n",
    "    '1006 Enfermedad pulmonar obstructiva crónica y bronquiectasias J40-J44, J47': 'EPOC y bronquitis',\n",
    "    '1007 Asma J45': 'Asma',\n",
    "    '1008 Otras enfermedades del sistema respiratorio J60-J99': 'Neumoconiosis, enfermedades pulmonares por agentes externos y otras'\n",
    "}\n",
    "\n",
    "df21['Diagnóstico'] = df21['Diagnóstico'].map(mapeo_diagnostico)"
   ]
  },
  {
   "cell_type": "code",
   "execution_count": 35,
   "id": "d6d91ab9-fb8c-4404-8537-65b518832163",
   "metadata": {},
   "outputs": [],
   "source": [
    "df21.insert(0, 'Año', 2021)"
   ]
  },
  {
   "cell_type": "code",
   "execution_count": 36,
   "id": "dbeab9f0-4b4b-41c8-8043-38971db5907f",
   "metadata": {},
   "outputs": [],
   "source": [
    "columna_duplicada = df21['Diagnóstico']\n",
    "if 'ColumnaDuplicada' in df21.columns:\n",
    "    df21.drop(columns=['ColumnaDuplicada'], inplace=True)\n",
    "df21.insert(2, 'ColumnaDuplicada', columna_duplicada)"
   ]
  },
  {
   "cell_type": "code",
   "execution_count": 37,
   "id": "e6b93569-5dce-425c-9be3-a195381392f7",
   "metadata": {},
   "outputs": [],
   "source": [
    "df21.rename(\n",
    "    columns = \n",
    "    {'ColumnaDuplicada': 'Diagnóstico_ID'\n",
    "},\n",
    "inplace = True)"
   ]
  },
  {
   "cell_type": "code",
   "execution_count": 38,
   "id": "54807351-1a3f-4c0a-a5b1-f8ad75b00f20",
   "metadata": {},
   "outputs": [
    {
     "data": {
      "text/plain": [
       "array(['COVID-19', 'Neoplasia maligna de tráquea, bronquios y pulmón',\n",
       "       'Enfermedades de la circulación pulmonar',\n",
       "       'Infecciones/enfermedades de las vías respiratorias superiores y gripe',\n",
       "       'Neumonía',\n",
       "       'Otras infecciones de las vias respiratorias inferiores',\n",
       "       'Enfermedad crónica de amígdalas', 'EPOC y bronquitis', 'Asma',\n",
       "       'Neumoconiosis, enfermedades pulmonares por agentes externos y otras'],\n",
       "      dtype=object)"
      ]
     },
     "execution_count": 38,
     "metadata": {},
     "output_type": "execute_result"
    }
   ],
   "source": [
    "df21['Diagnóstico'].unique()"
   ]
  },
  {
   "cell_type": "code",
   "execution_count": 39,
   "id": "2511d24b-2e58-4d77-a648-7bc985b100b4",
   "metadata": {},
   "outputs": [],
   "source": [
    "mapeo_diagnostico = {\n",
    "    'Neoplasia maligna de tráquea, bronquios y pulmón': 1,\n",
    "    'Enfermedades de la circulación pulmonar':2,\n",
    "    'Enfermedad crónica de amígdalas': 3,\n",
    "    'Neumonía': 4,\n",
    "    'Asma': 5,\n",
    "    'EPOC y bronquitis': 6,\n",
    "    'Infecciones/enfermedades de las vías respiratorias superiores y gripe': 7,\n",
    "    'Otras infecciones de las vias respiratorias inferiores': 8,\n",
    "    'Neumoconiosis, enfermedades pulmonares por agentes externos y otras': 9,\n",
    "    'COVID-19':10\n",
    "}\n",
    "\n",
    "df21['Diagnóstico_ID'] = df21['Diagnóstico_ID'].map(mapeo_diagnostico)"
   ]
  },
  {
   "cell_type": "code",
   "execution_count": 40,
   "id": "5c39a092-7b9b-4696-a8cf-5f6544ed5f7c",
   "metadata": {},
   "outputs": [
    {
     "data": {
      "text/html": [
       "<div>\n",
       "<style scoped>\n",
       "    .dataframe tbody tr th:only-of-type {\n",
       "        vertical-align: middle;\n",
       "    }\n",
       "\n",
       "    .dataframe tbody tr th {\n",
       "        vertical-align: top;\n",
       "    }\n",
       "\n",
       "    .dataframe thead th {\n",
       "        text-align: right;\n",
       "    }\n",
       "</style>\n",
       "<table border=\"1\" class=\"dataframe\">\n",
       "  <thead>\n",
       "    <tr style=\"text-align: right;\">\n",
       "      <th></th>\n",
       "      <th>Año</th>\n",
       "      <th>Diagnóstico</th>\n",
       "      <th>Diagnóstico_ID</th>\n",
       "      <th>Provincia</th>\n",
       "      <th>Provincia_ID</th>\n",
       "      <th>Sexo</th>\n",
       "      <th>Hospitalizaciones</th>\n",
       "    </tr>\n",
       "  </thead>\n",
       "  <tbody>\n",
       "    <tr>\n",
       "      <th>0</th>\n",
       "      <td>2021</td>\n",
       "      <td>COVID-19</td>\n",
       "      <td>10</td>\n",
       "      <td>Almería</td>\n",
       "      <td>4</td>\n",
       "      <td>Ambos sexos</td>\n",
       "      <td>37449</td>\n",
       "    </tr>\n",
       "    <tr>\n",
       "      <th>1</th>\n",
       "      <td>2021</td>\n",
       "      <td>COVID-19</td>\n",
       "      <td>10</td>\n",
       "      <td>Almería</td>\n",
       "      <td>4</td>\n",
       "      <td>Hombres</td>\n",
       "      <td>2384</td>\n",
       "    </tr>\n",
       "    <tr>\n",
       "      <th>2</th>\n",
       "      <td>2021</td>\n",
       "      <td>COVID-19</td>\n",
       "      <td>10</td>\n",
       "      <td>Almería</td>\n",
       "      <td>4</td>\n",
       "      <td>Mujeres</td>\n",
       "      <td>13609</td>\n",
       "    </tr>\n",
       "    <tr>\n",
       "      <th>3</th>\n",
       "      <td>2021</td>\n",
       "      <td>COVID-19</td>\n",
       "      <td>10</td>\n",
       "      <td>Cádiz</td>\n",
       "      <td>11</td>\n",
       "      <td>Ambos sexos</td>\n",
       "      <td>47372</td>\n",
       "    </tr>\n",
       "    <tr>\n",
       "      <th>4</th>\n",
       "      <td>2021</td>\n",
       "      <td>COVID-19</td>\n",
       "      <td>10</td>\n",
       "      <td>Cádiz</td>\n",
       "      <td>11</td>\n",
       "      <td>Hombres</td>\n",
       "      <td>28573</td>\n",
       "    </tr>\n",
       "    <tr>\n",
       "      <th>...</th>\n",
       "      <td>...</td>\n",
       "      <td>...</td>\n",
       "      <td>...</td>\n",
       "      <td>...</td>\n",
       "      <td>...</td>\n",
       "      <td>...</td>\n",
       "      <td>...</td>\n",
       "    </tr>\n",
       "    <tr>\n",
       "      <th>1711</th>\n",
       "      <td>2021</td>\n",
       "      <td>Neumoconiosis, enfermedades pulmonares por age...</td>\n",
       "      <td>9</td>\n",
       "      <td>Ceuta</td>\n",
       "      <td>51</td>\n",
       "      <td>Hombres</td>\n",
       "      <td>8090</td>\n",
       "    </tr>\n",
       "    <tr>\n",
       "      <th>1712</th>\n",
       "      <td>2021</td>\n",
       "      <td>Neumoconiosis, enfermedades pulmonares por age...</td>\n",
       "      <td>9</td>\n",
       "      <td>Ceuta</td>\n",
       "      <td>51</td>\n",
       "      <td>Mujeres</td>\n",
       "      <td>6700</td>\n",
       "    </tr>\n",
       "    <tr>\n",
       "      <th>1713</th>\n",
       "      <td>2021</td>\n",
       "      <td>Neumoconiosis, enfermedades pulmonares por age...</td>\n",
       "      <td>9</td>\n",
       "      <td>Melilla</td>\n",
       "      <td>52</td>\n",
       "      <td>Ambos sexos</td>\n",
       "      <td>1011</td>\n",
       "    </tr>\n",
       "    <tr>\n",
       "      <th>1714</th>\n",
       "      <td>2021</td>\n",
       "      <td>Neumoconiosis, enfermedades pulmonares por age...</td>\n",
       "      <td>9</td>\n",
       "      <td>Melilla</td>\n",
       "      <td>52</td>\n",
       "      <td>Hombres</td>\n",
       "      <td>5380</td>\n",
       "    </tr>\n",
       "    <tr>\n",
       "      <th>1715</th>\n",
       "      <td>2021</td>\n",
       "      <td>Neumoconiosis, enfermedades pulmonares por age...</td>\n",
       "      <td>9</td>\n",
       "      <td>Melilla</td>\n",
       "      <td>52</td>\n",
       "      <td>Mujeres</td>\n",
       "      <td>4730</td>\n",
       "    </tr>\n",
       "  </tbody>\n",
       "</table>\n",
       "<p>1716 rows × 7 columns</p>\n",
       "</div>"
      ],
      "text/plain": [
       "       Año                                        Diagnóstico  Diagnóstico_ID  \\\n",
       "0     2021                                           COVID-19              10   \n",
       "1     2021                                           COVID-19              10   \n",
       "2     2021                                           COVID-19              10   \n",
       "3     2021                                           COVID-19              10   \n",
       "4     2021                                           COVID-19              10   \n",
       "...    ...                                                ...             ...   \n",
       "1711  2021  Neumoconiosis, enfermedades pulmonares por age...               9   \n",
       "1712  2021  Neumoconiosis, enfermedades pulmonares por age...               9   \n",
       "1713  2021  Neumoconiosis, enfermedades pulmonares por age...               9   \n",
       "1714  2021  Neumoconiosis, enfermedades pulmonares por age...               9   \n",
       "1715  2021  Neumoconiosis, enfermedades pulmonares por age...               9   \n",
       "\n",
       "     Provincia  Provincia_ID         Sexo  Hospitalizaciones  \n",
       "0      Almería             4  Ambos sexos              37449  \n",
       "1      Almería             4      Hombres               2384  \n",
       "2      Almería             4      Mujeres              13609  \n",
       "3        Cádiz            11  Ambos sexos              47372  \n",
       "4        Cádiz            11      Hombres              28573  \n",
       "...        ...           ...          ...                ...  \n",
       "1711     Ceuta            51      Hombres               8090  \n",
       "1712     Ceuta            51      Mujeres               6700  \n",
       "1713   Melilla            52  Ambos sexos               1011  \n",
       "1714   Melilla            52      Hombres               5380  \n",
       "1715   Melilla            52      Mujeres               4730  \n",
       "\n",
       "[1716 rows x 7 columns]"
      ]
     },
     "execution_count": 40,
     "metadata": {},
     "output_type": "execute_result"
    }
   ],
   "source": [
    "df21"
   ]
  },
  {
   "cell_type": "code",
   "execution_count": 41,
   "id": "94d1aa05-e563-4d29-bc2c-7ff09b78df7c",
   "metadata": {},
   "outputs": [],
   "source": [
    "# Función para quitar el último dígito de un número entero:\n",
    "def quitar_ultimo_digito(x):\n",
    "    return x // 10"
   ]
  },
  {
   "cell_type": "code",
   "execution_count": 42,
   "id": "8b52f740-bec9-4829-a95c-60d50e353767",
   "metadata": {},
   "outputs": [],
   "source": [
    "# Lista de índices de las celdas específicas a modificar:\n",
    "indices = [1711, 1712, 1714, 1715]"
   ]
  },
  {
   "cell_type": "code",
   "execution_count": 43,
   "id": "a03b6f94-e7f8-49f8-804c-429af82e6a19",
   "metadata": {},
   "outputs": [],
   "source": [
    "df21.loc[indices, 'Hospitalizaciones'] = df21.loc[indices, 'Hospitalizaciones'].astype(str).str[:-1].astype(int)"
   ]
  },
  {
   "cell_type": "code",
   "execution_count": 44,
   "id": "e094583f-c8b7-4ad6-bab9-4c30c0603c74",
   "metadata": {},
   "outputs": [
    {
     "data": {
      "text/html": [
       "<div>\n",
       "<style scoped>\n",
       "    .dataframe tbody tr th:only-of-type {\n",
       "        vertical-align: middle;\n",
       "    }\n",
       "\n",
       "    .dataframe tbody tr th {\n",
       "        vertical-align: top;\n",
       "    }\n",
       "\n",
       "    .dataframe thead th {\n",
       "        text-align: right;\n",
       "    }\n",
       "</style>\n",
       "<table border=\"1\" class=\"dataframe\">\n",
       "  <thead>\n",
       "    <tr style=\"text-align: right;\">\n",
       "      <th></th>\n",
       "      <th>Año</th>\n",
       "      <th>Diagnóstico</th>\n",
       "      <th>Diagnóstico_ID</th>\n",
       "      <th>Provincia</th>\n",
       "      <th>Provincia_ID</th>\n",
       "      <th>Sexo</th>\n",
       "      <th>Hospitalizaciones</th>\n",
       "    </tr>\n",
       "  </thead>\n",
       "  <tbody>\n",
       "    <tr>\n",
       "      <th>1711</th>\n",
       "      <td>2021</td>\n",
       "      <td>Neumoconiosis, enfermedades pulmonares por age...</td>\n",
       "      <td>9</td>\n",
       "      <td>Ceuta</td>\n",
       "      <td>51</td>\n",
       "      <td>Hombres</td>\n",
       "      <td>809</td>\n",
       "    </tr>\n",
       "    <tr>\n",
       "      <th>1712</th>\n",
       "      <td>2021</td>\n",
       "      <td>Neumoconiosis, enfermedades pulmonares por age...</td>\n",
       "      <td>9</td>\n",
       "      <td>Ceuta</td>\n",
       "      <td>51</td>\n",
       "      <td>Mujeres</td>\n",
       "      <td>670</td>\n",
       "    </tr>\n",
       "    <tr>\n",
       "      <th>1713</th>\n",
       "      <td>2021</td>\n",
       "      <td>Neumoconiosis, enfermedades pulmonares por age...</td>\n",
       "      <td>9</td>\n",
       "      <td>Melilla</td>\n",
       "      <td>52</td>\n",
       "      <td>Ambos sexos</td>\n",
       "      <td>1011</td>\n",
       "    </tr>\n",
       "    <tr>\n",
       "      <th>1714</th>\n",
       "      <td>2021</td>\n",
       "      <td>Neumoconiosis, enfermedades pulmonares por age...</td>\n",
       "      <td>9</td>\n",
       "      <td>Melilla</td>\n",
       "      <td>52</td>\n",
       "      <td>Hombres</td>\n",
       "      <td>538</td>\n",
       "    </tr>\n",
       "    <tr>\n",
       "      <th>1715</th>\n",
       "      <td>2021</td>\n",
       "      <td>Neumoconiosis, enfermedades pulmonares por age...</td>\n",
       "      <td>9</td>\n",
       "      <td>Melilla</td>\n",
       "      <td>52</td>\n",
       "      <td>Mujeres</td>\n",
       "      <td>473</td>\n",
       "    </tr>\n",
       "  </tbody>\n",
       "</table>\n",
       "</div>"
      ],
      "text/plain": [
       "       Año                                        Diagnóstico  Diagnóstico_ID  \\\n",
       "1711  2021  Neumoconiosis, enfermedades pulmonares por age...               9   \n",
       "1712  2021  Neumoconiosis, enfermedades pulmonares por age...               9   \n",
       "1713  2021  Neumoconiosis, enfermedades pulmonares por age...               9   \n",
       "1714  2021  Neumoconiosis, enfermedades pulmonares por age...               9   \n",
       "1715  2021  Neumoconiosis, enfermedades pulmonares por age...               9   \n",
       "\n",
       "     Provincia  Provincia_ID         Sexo  Hospitalizaciones  \n",
       "1711     Ceuta            51      Hombres                809  \n",
       "1712     Ceuta            51      Mujeres                670  \n",
       "1713   Melilla            52  Ambos sexos               1011  \n",
       "1714   Melilla            52      Hombres                538  \n",
       "1715   Melilla            52      Mujeres                473  "
      ]
     },
     "execution_count": 44,
     "metadata": {},
     "output_type": "execute_result"
    }
   ],
   "source": [
    "df21.tail()"
   ]
  },
  {
   "cell_type": "code",
   "execution_count": 45,
   "id": "129880b7-bf5e-4022-9a16-917f57a591cb",
   "metadata": {},
   "outputs": [],
   "source": [
    "df21 = df21[df21['Sexo'] != 'Ambos sexos']"
   ]
  },
  {
   "cell_type": "code",
   "execution_count": 46,
   "id": "bbb3bad3-d57c-44db-96f4-bed1fae4d12a",
   "metadata": {},
   "outputs": [],
   "source": [
    "df21 = df21.reset_index()"
   ]
  },
  {
   "cell_type": "code",
   "execution_count": 47,
   "id": "59de6532-a10c-4fb9-86b5-36141003684e",
   "metadata": {},
   "outputs": [],
   "source": [
    "df21.drop('index', axis=1, inplace=True)"
   ]
  },
  {
   "cell_type": "code",
   "execution_count": 48,
   "id": "c16aa8d0-5d64-418d-89c7-c2d9a570e978",
   "metadata": {},
   "outputs": [],
   "source": [
    "df21 = df21.groupby(['Diagnóstico_ID','Año','Diagnóstico','Sexo','Provincia','Provincia_ID'])['Hospitalizaciones'].sum().reset_index()"
   ]
  },
  {
   "cell_type": "code",
   "execution_count": 50,
   "id": "b635159f-a883-4f6b-b3b3-c2356cca0f08",
   "metadata": {},
   "outputs": [],
   "source": [
    "df21.to_csv(\"df21.csv\", index=False, encoding=\"iso-8859-1\")"
   ]
  },
  {
   "cell_type": "code",
   "execution_count": null,
   "id": "10cd3da7-fed6-46f3-9ad5-9e4680436289",
   "metadata": {},
   "outputs": [],
   "source": []
  },
  {
   "cell_type": "code",
   "execution_count": null,
   "id": "e11f5791-6952-40c6-be2d-50b02d8ca113",
   "metadata": {},
   "outputs": [],
   "source": []
  }
 ],
 "metadata": {
  "kernelspec": {
   "display_name": "Python 3 (ipykernel)",
   "language": "python",
   "name": "python3"
  },
  "language_info": {
   "codemirror_mode": {
    "name": "ipython",
    "version": 3
   },
   "file_extension": ".py",
   "mimetype": "text/x-python",
   "name": "python",
   "nbconvert_exporter": "python",
   "pygments_lexer": "ipython3",
   "version": "3.12.4"
  }
 },
 "nbformat": 4,
 "nbformat_minor": 5
}
