{
 "cells": [
  {
   "cell_type": "markdown",
   "id": "26a559ca-ab07-422a-a3c9-6eb4d19536db",
   "metadata": {},
   "source": [
    "# Limpieza de datos de hospitalizaciones 2013"
   ]
  },
  {
   "cell_type": "code",
   "execution_count": 1,
   "id": "4ddb7f3f-006d-4d5b-91bf-abbfa322e8b8",
   "metadata": {},
   "outputs": [],
   "source": [
    "import numpy as np\n",
    "import pandas as pd\n",
    "import matplotlib.pyplot as plt\n",
    "import seaborn as sns"
   ]
  },
  {
   "cell_type": "code",
   "execution_count": 2,
   "id": "304d02f0-b9ed-4e5c-a691-240123351cef",
   "metadata": {},
   "outputs": [],
   "source": [
    "df13 = pd.read_csv(\"1-2013.csv\", delimiter= \";\", encoding = \"latin1\")\n",
    "\n",
    "df13.columns = df13.columns.str.strip()"
   ]
  },
  {
   "cell_type": "code",
   "execution_count": 3,
   "id": "2e382bd9-df82-4394-a093-fde11da42296",
   "metadata": {},
   "outputs": [
    {
     "name": "stdout",
     "output_type": "stream",
     "text": [
      "Columnas de df13: Index(['Diagnóstico principal (CIE9MC)',\n",
      "       'Provincia, Comunidad y Ciudad autónoma de residencia', 'Sexo',\n",
      "       'Total'],\n",
      "      dtype='object')\n"
     ]
    }
   ],
   "source": [
    "# Mostrar los nombres de columnas para verificar\n",
    "print(\"Columnas de df13:\", df13.columns)"
   ]
  },
  {
   "cell_type": "code",
   "execution_count": 4,
   "id": "55397c0e-44d7-4c0c-b618-9e7996963fda",
   "metadata": {},
   "outputs": [
    {
     "data": {
      "text/plain": [
       "(1716, 4)"
      ]
     },
     "execution_count": 4,
     "metadata": {},
     "output_type": "execute_result"
    }
   ],
   "source": [
    "df13.shape"
   ]
  },
  {
   "cell_type": "code",
   "execution_count": 5,
   "id": "6c4a31e2-d112-4038-91e5-9a4efbb05c68",
   "metadata": {},
   "outputs": [],
   "source": [
    "# LIMPIEZA COLUMNA TOTAL\n",
    "df13['Total'] = df13['Total'].str.replace('.', '')\n",
    "df13['Total'] = pd.to_numeric(df13['Total'])"
   ]
  },
  {
   "cell_type": "code",
   "execution_count": 6,
   "id": "8663ddf0-548a-4433-8fc1-ab01be51ed32",
   "metadata": {},
   "outputs": [
    {
     "data": {
      "text/plain": [
       "40"
      ]
     },
     "execution_count": 6,
     "metadata": {},
     "output_type": "execute_result"
    }
   ],
   "source": [
    "df13['Total'].isnull().sum()"
   ]
  },
  {
   "cell_type": "code",
   "execution_count": 7,
   "id": "64393b65-b5eb-49aa-b145-a7f94c894e95",
   "metadata": {},
   "outputs": [],
   "source": [
    "df13['Total'] = df13['Total'].fillna(0)"
   ]
  },
  {
   "cell_type": "code",
   "execution_count": 8,
   "id": "4672b766-3c15-4341-817c-dcadfc804f04",
   "metadata": {},
   "outputs": [],
   "source": [
    "df13['Total'] = df13['Total'].astype(int)"
   ]
  },
  {
   "cell_type": "code",
   "execution_count": 9,
   "id": "d6d10c9c-1146-4206-a0de-ff5a1a7b232b",
   "metadata": {},
   "outputs": [
    {
     "data": {
      "text/plain": [
       "Diagnóstico principal (CIE9MC)                          object\n",
       "Provincia, Comunidad y Ciudad autónoma de residencia    object\n",
       "Sexo                                                    object\n",
       "Total                                                    int64\n",
       "dtype: object"
      ]
     },
     "execution_count": 9,
     "metadata": {},
     "output_type": "execute_result"
    }
   ],
   "source": [
    "df13.dtypes"
   ]
  },
  {
   "cell_type": "code",
   "execution_count": 10,
   "id": "41d4ada0-8c1a-46c0-84af-85c3d671b011",
   "metadata": {},
   "outputs": [],
   "source": [
    "# RENOMBRADO DE COLUMNAS\n",
    "df13.rename(\n",
    "    columns = {'Provincia, Comunidad y Ciudad autónoma de residencia': 'Provincia',\n",
    "              'Diagnóstico principal (CIE9MC)': 'Diagnóstico',\n",
    "              'Total': 'Hospitalizaciones'},\n",
    "    inplace = True\n",
    ")"
   ]
  },
  {
   "cell_type": "code",
   "execution_count": 11,
   "id": "c49b3b32-6777-467f-95b1-d9f92886ef9c",
   "metadata": {},
   "outputs": [],
   "source": [
    "# CREACIÓN DE OTRA COLUMNA PROVINCIA ID\n",
    "columna_duplicada = df13['Provincia']\n",
    "if 'ColumnaDuplicada' in df13.columns:\n",
    "    df13.drop(columns=['ColumnaDuplicada'], inplace=True)\n",
    "df13.insert(2, 'ColumnaDuplicada', columna_duplicada)"
   ]
  },
  {
   "cell_type": "code",
   "execution_count": 12,
   "id": "4c364278-9473-4737-8882-9f2d35665f33",
   "metadata": {},
   "outputs": [],
   "source": [
    "df13.rename(\n",
    "    columns = {'ColumnaDuplicada': 'Provincia_ID'},\n",
    "    inplace = True\n",
    ")"
   ]
  },
  {
   "cell_type": "code",
   "execution_count": 13,
   "id": "fe5b57ba-12a0-4660-b0ec-c0cabef64b5b",
   "metadata": {},
   "outputs": [],
   "source": [
    "mapeo_provincias = {\n",
    "    \"Araba/Álava\": 1,\n",
    "    \"Albacete\": 2,\n",
    "    \"Alicante/Alacant\": 3,\n",
    "    \"Almería\": 4,\n",
    "    \"Ávila\": 5,\n",
    "    \"Badajoz\": 6,\n",
    "    \"BALEARS, ILLES\": 7,\n",
    "    \"Barcelona\": 8,\n",
    "    \"Burgos\": 9,\n",
    "    \"Cáceres\": 10,\n",
    "    \"Cádiz\": 11,\n",
    "    \"Castellón/Castelló\": 12,\n",
    "    \"Ciudad Real\": 13,\n",
    "    \"Córdoba\": 14,\n",
    "    \"Coruña, A\": 15,\n",
    "    \"Cuenca\": 16,\n",
    "    \"Girona\": 17,\n",
    "    \"Granada\": 18,\n",
    "    \"Guadalajara\": 19,\n",
    "    \"Gipuzkoa\": 20,\n",
    "    \"Huelva\": 21,\n",
    "    \"Huesca\": 22,\n",
    "    \"Jaén\": 23,\n",
    "    \"León\": 24,\n",
    "    \"Lleida\": 25,\n",
    "    \"RIOJA, LA\": 26,\n",
    "    \"Lugo\": 27,\n",
    "    \"MADRID, COMUNIDAD DE\": 28,\n",
    "    \"Málaga\": 29,\n",
    "    \"MURCIA, REGIÓN DE\": 30,\n",
    "    \"NAVARRA, COMUNIDAD FORAL DE\": 31,\n",
    "    \"Ourense\": 32,\n",
    "    \"ASTURIAS, PRINCIPADO DE\": 33,\n",
    "    \"Palencia\": 34,\n",
    "    \"Palmas, Las\": 35,\n",
    "    \"Pontevedra\": 36,\n",
    "    \"Salamanca\": 37,\n",
    "    \"Santa Cruz de Tenerife\": 38,\n",
    "    \"CANTABRIA\": 39,\n",
    "    \"Segovia\": 40,\n",
    "    \"Sevilla\": 41,\n",
    "    \"Soria\": 42,\n",
    "    \"Tarragona\": 43,\n",
    "    \"Teruel\": 44,\n",
    "    \"Toledo\": 45,\n",
    "    \"Valencia/València\": 46,\n",
    "    \"Valladolid\": 47,\n",
    "    \"Bizkaia\": 48,\n",
    "    \"Zamora\": 49,\n",
    "    \"Zaragoza\": 50,\n",
    "    \"Ceuta\": 51,\n",
    "    \"Melilla\": 52\n",
    "}\n",
    "\n",
    "df13['Provincia_ID'] = df13['Provincia_ID'].map(mapeo_provincias)"
   ]
  },
  {
   "cell_type": "code",
   "execution_count": 14,
   "id": "eb1d9668-d159-4883-a942-82384ef8f996",
   "metadata": {},
   "outputs": [],
   "source": [
    "mapeo_provincias2 = {\n",
    "    \"Araba/Álava\": \"Álava\",\n",
    "    \"Albacete\": \"Albacete\",\n",
    "    \"Alicante/Alacant\": \"Alicante\",\n",
    "    \"Almería\": \"Almería\",\n",
    "    \"Ávila\": \"Ávila\",\n",
    "    \"Badajoz\": \"Badajoz\",\n",
    "    \"BALEARS, ILLES\": \"Islas Baleares\",\n",
    "    \"Barcelona\": \"Barcelona\",\n",
    "    \"Burgos\": \"Burgos\",\n",
    "    \"Cáceres\": \"Cáceres\",\n",
    "    \"Cádiz\": \"Cádiz\",\n",
    "    \"Castellón/Castelló\": \"Castellón\",\n",
    "    \"Ciudad Real\": \"Ciudad Real\",\n",
    "    \"Córdoba\": \"Córdoba\",\n",
    "    \"Coruña, A\": \"A Coruña\",\n",
    "    \"Cuenca\": \"Cuenca\",\n",
    "    \"Girona\": \"Girona\",\n",
    "    \"Granada\": \"Granada\",\n",
    "    \"Guadalajara\": \"Guadalajara\",\n",
    "    \"Gipuzkoa\": \"Gipuzkoa\",\n",
    "    \"Huelva\": \"Huelva\",\n",
    "    \"Huesca\": \"Huesca\",\n",
    "    \"Jaén\": \"Jaén\",\n",
    "    \"León\": \"León\",\n",
    "    \"Lleida\": \"Lleida\",\n",
    "    \"RIOJA, LA\": \"La Rioja\",\n",
    "    \"Lugo\": \"Lugo\",\n",
    "    \"MADRID, COMUNIDAD DE\": \"Madrid\",\n",
    "    \"Málaga\": \"Málaga\",\n",
    "    \"MURCIA, REGIÓN DE\": \"Murcia\",\n",
    "    \"NAVARRA, COMUNIDAD FORAL DE\": \"Navarra\",\n",
    "    \"Ourense\": \"Ourense\",\n",
    "    \"ASTURIAS, PRINCIPADO DE\": \"Asturias\",\n",
    "    \"Palencia\": \"Palencia\",\n",
    "    \"Palmas, Las\": \"Las Palmas\",\n",
    "    \"Pontevedra\": \"Pontevedra\",\n",
    "    \"Salamanca\": \"Salamanca\",\n",
    "    \"Santa Cruz de Tenerife\": \"Santa Cruz de Tenerife\",\n",
    "    \"CANTABRIA\": \"Cantabria\",\n",
    "    \"Segovia\": \"Segovia\",\n",
    "    \"Sevilla\": \"Sevilla\",\n",
    "    \"Soria\": \"Soria\",\n",
    "    \"Tarragona\": \"Tarragona\",\n",
    "    \"Teruel\": \"Teruel\",\n",
    "    \"Toledo\": \"Toledo\",\n",
    "    \"Valencia/València\": \"Valencia\",\n",
    "    \"Valladolid\": \"Valladolid\",\n",
    "    \"Bizkaia\": \"Bizkaia\",\n",
    "    \"Zamora\": \"Zamora\",\n",
    "    \"Zaragoza\": \"Zaragoza\",\n",
    "    \"Ceuta\": \"Ceuta\",\n",
    "    \"Melilla\": \"Melilla\"\n",
    "}\n",
    "\n",
    "df13['Provincia'] = df13['Provincia'].map(mapeo_provincias2)"
   ]
  },
  {
   "cell_type": "code",
   "execution_count": 15,
   "id": "751ec555-bf8b-44e8-9684-59d770c7b361",
   "metadata": {},
   "outputs": [
    {
     "data": {
      "text/html": [
       "<div>\n",
       "<style scoped>\n",
       "    .dataframe tbody tr th:only-of-type {\n",
       "        vertical-align: middle;\n",
       "    }\n",
       "\n",
       "    .dataframe tbody tr th {\n",
       "        vertical-align: top;\n",
       "    }\n",
       "\n",
       "    .dataframe thead th {\n",
       "        text-align: right;\n",
       "    }\n",
       "</style>\n",
       "<table border=\"1\" class=\"dataframe\">\n",
       "  <thead>\n",
       "    <tr style=\"text-align: right;\">\n",
       "      <th></th>\n",
       "      <th>Diagnóstico</th>\n",
       "      <th>Provincia</th>\n",
       "      <th>Provincia_ID</th>\n",
       "      <th>Sexo</th>\n",
       "      <th>Hospitalizaciones</th>\n",
       "    </tr>\n",
       "  </thead>\n",
       "  <tbody>\n",
       "    <tr>\n",
       "      <th>0</th>\n",
       "      <td>162 Neoplasia maligna de tráquea, bronquios y ...</td>\n",
       "      <td>Almería</td>\n",
       "      <td>4</td>\n",
       "      <td>Ambos sexos</td>\n",
       "      <td>4027</td>\n",
       "    </tr>\n",
       "    <tr>\n",
       "      <th>1</th>\n",
       "      <td>162 Neoplasia maligna de tráquea, bronquios y ...</td>\n",
       "      <td>Almería</td>\n",
       "      <td>4</td>\n",
       "      <td>Hombres</td>\n",
       "      <td>3282</td>\n",
       "    </tr>\n",
       "    <tr>\n",
       "      <th>2</th>\n",
       "      <td>162 Neoplasia maligna de tráquea, bronquios y ...</td>\n",
       "      <td>Almería</td>\n",
       "      <td>4</td>\n",
       "      <td>Mujeres</td>\n",
       "      <td>745</td>\n",
       "    </tr>\n",
       "    <tr>\n",
       "      <th>3</th>\n",
       "      <td>162 Neoplasia maligna de tráquea, bronquios y ...</td>\n",
       "      <td>Cádiz</td>\n",
       "      <td>11</td>\n",
       "      <td>Ambos sexos</td>\n",
       "      <td>7440</td>\n",
       "    </tr>\n",
       "    <tr>\n",
       "      <th>4</th>\n",
       "      <td>162 Neoplasia maligna de tráquea, bronquios y ...</td>\n",
       "      <td>Cádiz</td>\n",
       "      <td>11</td>\n",
       "      <td>Hombres</td>\n",
       "      <td>6111</td>\n",
       "    </tr>\n",
       "  </tbody>\n",
       "</table>\n",
       "</div>"
      ],
      "text/plain": [
       "                                         Diagnóstico Provincia  Provincia_ID  \\\n",
       "0  162 Neoplasia maligna de tráquea, bronquios y ...   Almería             4   \n",
       "1  162 Neoplasia maligna de tráquea, bronquios y ...   Almería             4   \n",
       "2  162 Neoplasia maligna de tráquea, bronquios y ...   Almería             4   \n",
       "3  162 Neoplasia maligna de tráquea, bronquios y ...     Cádiz            11   \n",
       "4  162 Neoplasia maligna de tráquea, bronquios y ...     Cádiz            11   \n",
       "\n",
       "          Sexo  Hospitalizaciones  \n",
       "0  Ambos sexos               4027  \n",
       "1      Hombres               3282  \n",
       "2      Mujeres                745  \n",
       "3  Ambos sexos               7440  \n",
       "4      Hombres               6111  "
      ]
     },
     "execution_count": 15,
     "metadata": {},
     "output_type": "execute_result"
    }
   ],
   "source": [
    "df13.head()"
   ]
  },
  {
   "cell_type": "code",
   "execution_count": 16,
   "id": "906bd398-c04d-42ca-bc08-15c2a885d149",
   "metadata": {},
   "outputs": [
    {
     "data": {
      "text/plain": [
       "0"
      ]
     },
     "execution_count": 16,
     "metadata": {},
     "output_type": "execute_result"
    }
   ],
   "source": [
    "df13['Provincia_ID'].isna().sum()"
   ]
  },
  {
   "cell_type": "code",
   "execution_count": 17,
   "id": "0aa1e097-4554-44b1-831a-2db97b89237f",
   "metadata": {},
   "outputs": [
    {
     "data": {
      "text/plain": [
       "array(['162 Neoplasia maligna de tráquea, bronquios y pulmón',\n",
       "       '415-417 VII.5 ENFERMEDADES DE LA CIRCULACIÓN PULMONAR',\n",
       "       '466 Bronquitis y bronquiolitis aguda',\n",
       "       '474 Enfermedad crónica de amígdalas y adenoides',\n",
       "       'Resto (460-478) Otras infecciones respiratorias agudas y otras enfermedades del tracto respiratorio superior',\n",
       "       '480-486 Neumonía', '487-488 Gripe',\n",
       "       '490-492,494,496 Enfermedad pulmonar obstructiva crónica y bronquitis',\n",
       "       '493 Asma',\n",
       "       'Resto (490-496) Otras enfermedades asociadas a enfermedad pulmonar obstructiva crónica',\n",
       "       '500-519 VIII.4 NEUMOCONIOSIS, ENFERMEDADES PULMONARES OCASIONADAS POR AGENTES EXTERNOS Y OTRAS ENF. DEL APARATO RESPIRATORIO'],\n",
       "      dtype=object)"
      ]
     },
     "execution_count": 17,
     "metadata": {},
     "output_type": "execute_result"
    }
   ],
   "source": [
    "df13['Diagnóstico'].unique()"
   ]
  },
  {
   "cell_type": "code",
   "execution_count": 18,
   "id": "7cb9dfdf-37b5-4152-8f1b-e62d31a8b012",
   "metadata": {},
   "outputs": [],
   "source": [
    "# SIMPLIFICACIÓN DE NOMBRES EN COLUMNA DIAGNÓSTICO\n",
    "mapeo_diagnostico = {\n",
    "    \"162 Neoplasia maligna de tráquea, bronquios y pulmón\": \"Neoplasia maligna de tráquea, bronquios y pulmón\",\n",
    "    \"415-417 VII.5 ENFERMEDADES DE LA CIRCULACIÓN PULMONAR\": \"Enfermedades de la circulación pulmonar\",\n",
    "    \"466 Bronquitis y bronquiolitis aguda\": \"Otras infecciones de las vias respiratorias inferiores\",\n",
    "    \"474 Enfermedad crónica de amígdalas y adenoides\": \"Enfermedad crónica de amígdalas\",\n",
    "    \"Resto (460-478) Otras infecciones respiratorias agudas y otras enfermedades del tracto respiratorio superior\": \"Infecciones/enfermedades de las vías respiratorias superiores y gripe\",\n",
    "    \"480-486 Neumonía\": \"Neumonía\",\n",
    "    \"487-488 Gripe\": \"Infecciones/enfermedades de las vías respiratorias superiores y gripe\",\n",
    "    \"490-492,494,496 Enfermedad pulmonar obstructiva crónica y bronquitis\": \"EPOC y bronquitis\",\n",
    "    \"493 Asma\": \"Asma\",\n",
    "    \"Resto (490-496) Otras enfermedades asociadas a enfermedad pulmonar obstructiva crónica\": \"Neumoconiosis, enfermedades pulmonares por agentes externos y otras\",\n",
    "    \"500-519 VIII.4 NEUMOCONIOSIS, ENFERMEDADES PULMONARES OCASIONADAS POR AGENTES EXTERNOS Y OTRAS ENF. DEL APARATO RESPIRATORIO\": \"Neumoconiosis, enfermedades pulmonares por agentes externos y otras\"\n",
    "}\n",
    "\n",
    "df13['Diagnóstico'] = df13['Diagnóstico'].map(mapeo_diagnostico)"
   ]
  },
  {
   "cell_type": "code",
   "execution_count": 19,
   "id": "6d268997-9f32-4430-9785-7a53eee2eec3",
   "metadata": {},
   "outputs": [],
   "source": [
    "df13.insert(0, 'Año', 2013)"
   ]
  },
  {
   "cell_type": "code",
   "execution_count": 20,
   "id": "4b9d52b7-c3db-4d61-b61b-55fc2e2af08e",
   "metadata": {},
   "outputs": [
    {
     "data": {
      "text/html": [
       "<div>\n",
       "<style scoped>\n",
       "    .dataframe tbody tr th:only-of-type {\n",
       "        vertical-align: middle;\n",
       "    }\n",
       "\n",
       "    .dataframe tbody tr th {\n",
       "        vertical-align: top;\n",
       "    }\n",
       "\n",
       "    .dataframe thead th {\n",
       "        text-align: right;\n",
       "    }\n",
       "</style>\n",
       "<table border=\"1\" class=\"dataframe\">\n",
       "  <thead>\n",
       "    <tr style=\"text-align: right;\">\n",
       "      <th></th>\n",
       "      <th>Año</th>\n",
       "      <th>Diagnóstico</th>\n",
       "      <th>Provincia</th>\n",
       "      <th>Provincia_ID</th>\n",
       "      <th>Sexo</th>\n",
       "      <th>Hospitalizaciones</th>\n",
       "    </tr>\n",
       "  </thead>\n",
       "  <tbody>\n",
       "    <tr>\n",
       "      <th>0</th>\n",
       "      <td>2013</td>\n",
       "      <td>Neoplasia maligna de tráquea, bronquios y pulmón</td>\n",
       "      <td>Almería</td>\n",
       "      <td>4</td>\n",
       "      <td>Ambos sexos</td>\n",
       "      <td>4027</td>\n",
       "    </tr>\n",
       "    <tr>\n",
       "      <th>1</th>\n",
       "      <td>2013</td>\n",
       "      <td>Neoplasia maligna de tráquea, bronquios y pulmón</td>\n",
       "      <td>Almería</td>\n",
       "      <td>4</td>\n",
       "      <td>Hombres</td>\n",
       "      <td>3282</td>\n",
       "    </tr>\n",
       "    <tr>\n",
       "      <th>2</th>\n",
       "      <td>2013</td>\n",
       "      <td>Neoplasia maligna de tráquea, bronquios y pulmón</td>\n",
       "      <td>Almería</td>\n",
       "      <td>4</td>\n",
       "      <td>Mujeres</td>\n",
       "      <td>745</td>\n",
       "    </tr>\n",
       "    <tr>\n",
       "      <th>3</th>\n",
       "      <td>2013</td>\n",
       "      <td>Neoplasia maligna de tráquea, bronquios y pulmón</td>\n",
       "      <td>Cádiz</td>\n",
       "      <td>11</td>\n",
       "      <td>Ambos sexos</td>\n",
       "      <td>7440</td>\n",
       "    </tr>\n",
       "    <tr>\n",
       "      <th>4</th>\n",
       "      <td>2013</td>\n",
       "      <td>Neoplasia maligna de tráquea, bronquios y pulmón</td>\n",
       "      <td>Cádiz</td>\n",
       "      <td>11</td>\n",
       "      <td>Hombres</td>\n",
       "      <td>6111</td>\n",
       "    </tr>\n",
       "    <tr>\n",
       "      <th>...</th>\n",
       "      <td>...</td>\n",
       "      <td>...</td>\n",
       "      <td>...</td>\n",
       "      <td>...</td>\n",
       "      <td>...</td>\n",
       "      <td>...</td>\n",
       "    </tr>\n",
       "    <tr>\n",
       "      <th>1711</th>\n",
       "      <td>2013</td>\n",
       "      <td>Neumoconiosis, enfermedades pulmonares por age...</td>\n",
       "      <td>Ceuta</td>\n",
       "      <td>51</td>\n",
       "      <td>Hombres</td>\n",
       "      <td>728</td>\n",
       "    </tr>\n",
       "    <tr>\n",
       "      <th>1712</th>\n",
       "      <td>2013</td>\n",
       "      <td>Neumoconiosis, enfermedades pulmonares por age...</td>\n",
       "      <td>Ceuta</td>\n",
       "      <td>51</td>\n",
       "      <td>Mujeres</td>\n",
       "      <td>520</td>\n",
       "    </tr>\n",
       "    <tr>\n",
       "      <th>1713</th>\n",
       "      <td>2013</td>\n",
       "      <td>Neumoconiosis, enfermedades pulmonares por age...</td>\n",
       "      <td>Melilla</td>\n",
       "      <td>52</td>\n",
       "      <td>Ambos sexos</td>\n",
       "      <td>1567</td>\n",
       "    </tr>\n",
       "    <tr>\n",
       "      <th>1714</th>\n",
       "      <td>2013</td>\n",
       "      <td>Neumoconiosis, enfermedades pulmonares por age...</td>\n",
       "      <td>Melilla</td>\n",
       "      <td>52</td>\n",
       "      <td>Hombres</td>\n",
       "      <td>658</td>\n",
       "    </tr>\n",
       "    <tr>\n",
       "      <th>1715</th>\n",
       "      <td>2013</td>\n",
       "      <td>Neumoconiosis, enfermedades pulmonares por age...</td>\n",
       "      <td>Melilla</td>\n",
       "      <td>52</td>\n",
       "      <td>Mujeres</td>\n",
       "      <td>909</td>\n",
       "    </tr>\n",
       "  </tbody>\n",
       "</table>\n",
       "<p>1716 rows × 6 columns</p>\n",
       "</div>"
      ],
      "text/plain": [
       "       Año                                        Diagnóstico Provincia  \\\n",
       "0     2013   Neoplasia maligna de tráquea, bronquios y pulmón   Almería   \n",
       "1     2013   Neoplasia maligna de tráquea, bronquios y pulmón   Almería   \n",
       "2     2013   Neoplasia maligna de tráquea, bronquios y pulmón   Almería   \n",
       "3     2013   Neoplasia maligna de tráquea, bronquios y pulmón     Cádiz   \n",
       "4     2013   Neoplasia maligna de tráquea, bronquios y pulmón     Cádiz   \n",
       "...    ...                                                ...       ...   \n",
       "1711  2013  Neumoconiosis, enfermedades pulmonares por age...     Ceuta   \n",
       "1712  2013  Neumoconiosis, enfermedades pulmonares por age...     Ceuta   \n",
       "1713  2013  Neumoconiosis, enfermedades pulmonares por age...   Melilla   \n",
       "1714  2013  Neumoconiosis, enfermedades pulmonares por age...   Melilla   \n",
       "1715  2013  Neumoconiosis, enfermedades pulmonares por age...   Melilla   \n",
       "\n",
       "      Provincia_ID         Sexo  Hospitalizaciones  \n",
       "0                4  Ambos sexos               4027  \n",
       "1                4      Hombres               3282  \n",
       "2                4      Mujeres                745  \n",
       "3               11  Ambos sexos               7440  \n",
       "4               11      Hombres               6111  \n",
       "...            ...          ...                ...  \n",
       "1711            51      Hombres                728  \n",
       "1712            51      Mujeres                520  \n",
       "1713            52  Ambos sexos               1567  \n",
       "1714            52      Hombres                658  \n",
       "1715            52      Mujeres                909  \n",
       "\n",
       "[1716 rows x 6 columns]"
      ]
     },
     "execution_count": 20,
     "metadata": {},
     "output_type": "execute_result"
    }
   ],
   "source": [
    "df13"
   ]
  },
  {
   "cell_type": "code",
   "execution_count": 21,
   "id": "27003f44-f387-4736-8548-081b83157b26",
   "metadata": {},
   "outputs": [
    {
     "data": {
      "text/plain": [
       "array(['Neoplasia maligna de tráquea, bronquios y pulmón',\n",
       "       'Enfermedades de la circulación pulmonar',\n",
       "       'Otras infecciones de las vias respiratorias inferiores',\n",
       "       'Enfermedad crónica de amígdalas',\n",
       "       'Infecciones/enfermedades de las vías respiratorias superiores y gripe',\n",
       "       'Neumonía', 'EPOC y bronquitis', 'Asma',\n",
       "       'Neumoconiosis, enfermedades pulmonares por agentes externos y otras'],\n",
       "      dtype=object)"
      ]
     },
     "execution_count": 21,
     "metadata": {},
     "output_type": "execute_result"
    }
   ],
   "source": [
    "df13['Diagnóstico'].unique()"
   ]
  },
  {
   "cell_type": "code",
   "execution_count": 22,
   "id": "110d3b1a-8ca9-4310-b54d-17be9dc10bcb",
   "metadata": {},
   "outputs": [
    {
     "data": {
      "text/plain": [
       "array(['Almería', 'Cádiz', 'Córdoba', 'Granada', 'Huelva', 'Jaén',\n",
       "       'Málaga', 'Sevilla', 'Huesca', 'Teruel', 'Zaragoza', 'Asturias',\n",
       "       'Islas Baleares', 'Las Palmas', 'Santa Cruz de Tenerife',\n",
       "       'Cantabria', 'Ávila', 'Burgos', 'León', 'Palencia', 'Salamanca',\n",
       "       'Segovia', 'Soria', 'Valladolid', 'Zamora', 'Albacete',\n",
       "       'Ciudad Real', 'Cuenca', 'Guadalajara', 'Toledo', 'Barcelona',\n",
       "       'Girona', 'Lleida', 'Tarragona', 'Alicante', 'Castellón',\n",
       "       'Valencia', 'Badajoz', 'Cáceres', 'A Coruña', 'Lugo', 'Ourense',\n",
       "       'Pontevedra', 'Madrid', 'Murcia', 'Navarra', 'Álava', 'Bizkaia',\n",
       "       'Gipuzkoa', 'La Rioja', 'Ceuta', 'Melilla'], dtype=object)"
      ]
     },
     "execution_count": 22,
     "metadata": {},
     "output_type": "execute_result"
    }
   ],
   "source": [
    "df13['Provincia'].unique()"
   ]
  },
  {
   "cell_type": "code",
   "execution_count": 23,
   "id": "2885e3b2-1f1d-4052-b5c9-6c80edddba29",
   "metadata": {},
   "outputs": [],
   "source": [
    "df13 = df13[df13['Sexo'] != 'Ambos sexos']"
   ]
  },
  {
   "cell_type": "code",
   "execution_count": 24,
   "id": "41cd2400-beda-44e5-b21f-ff7fe5f8b430",
   "metadata": {},
   "outputs": [
    {
     "data": {
      "text/html": [
       "<div>\n",
       "<style scoped>\n",
       "    .dataframe tbody tr th:only-of-type {\n",
       "        vertical-align: middle;\n",
       "    }\n",
       "\n",
       "    .dataframe tbody tr th {\n",
       "        vertical-align: top;\n",
       "    }\n",
       "\n",
       "    .dataframe thead th {\n",
       "        text-align: right;\n",
       "    }\n",
       "</style>\n",
       "<table border=\"1\" class=\"dataframe\">\n",
       "  <thead>\n",
       "    <tr style=\"text-align: right;\">\n",
       "      <th></th>\n",
       "      <th>Año</th>\n",
       "      <th>Diagnóstico</th>\n",
       "      <th>Provincia</th>\n",
       "      <th>Provincia_ID</th>\n",
       "      <th>Sexo</th>\n",
       "      <th>Hospitalizaciones</th>\n",
       "    </tr>\n",
       "  </thead>\n",
       "  <tbody>\n",
       "    <tr>\n",
       "      <th>1</th>\n",
       "      <td>2013</td>\n",
       "      <td>Neoplasia maligna de tráquea, bronquios y pulmón</td>\n",
       "      <td>Almería</td>\n",
       "      <td>4</td>\n",
       "      <td>Hombres</td>\n",
       "      <td>3282</td>\n",
       "    </tr>\n",
       "    <tr>\n",
       "      <th>2</th>\n",
       "      <td>2013</td>\n",
       "      <td>Neoplasia maligna de tráquea, bronquios y pulmón</td>\n",
       "      <td>Almería</td>\n",
       "      <td>4</td>\n",
       "      <td>Mujeres</td>\n",
       "      <td>745</td>\n",
       "    </tr>\n",
       "    <tr>\n",
       "      <th>4</th>\n",
       "      <td>2013</td>\n",
       "      <td>Neoplasia maligna de tráquea, bronquios y pulmón</td>\n",
       "      <td>Cádiz</td>\n",
       "      <td>11</td>\n",
       "      <td>Hombres</td>\n",
       "      <td>6111</td>\n",
       "    </tr>\n",
       "    <tr>\n",
       "      <th>5</th>\n",
       "      <td>2013</td>\n",
       "      <td>Neoplasia maligna de tráquea, bronquios y pulmón</td>\n",
       "      <td>Cádiz</td>\n",
       "      <td>11</td>\n",
       "      <td>Mujeres</td>\n",
       "      <td>1329</td>\n",
       "    </tr>\n",
       "    <tr>\n",
       "      <th>7</th>\n",
       "      <td>2013</td>\n",
       "      <td>Neoplasia maligna de tráquea, bronquios y pulmón</td>\n",
       "      <td>Córdoba</td>\n",
       "      <td>14</td>\n",
       "      <td>Hombres</td>\n",
       "      <td>3102</td>\n",
       "    </tr>\n",
       "    <tr>\n",
       "      <th>...</th>\n",
       "      <td>...</td>\n",
       "      <td>...</td>\n",
       "      <td>...</td>\n",
       "      <td>...</td>\n",
       "      <td>...</td>\n",
       "      <td>...</td>\n",
       "    </tr>\n",
       "    <tr>\n",
       "      <th>1709</th>\n",
       "      <td>2013</td>\n",
       "      <td>Neumoconiosis, enfermedades pulmonares por age...</td>\n",
       "      <td>La Rioja</td>\n",
       "      <td>26</td>\n",
       "      <td>Mujeres</td>\n",
       "      <td>6117</td>\n",
       "    </tr>\n",
       "    <tr>\n",
       "      <th>1711</th>\n",
       "      <td>2013</td>\n",
       "      <td>Neumoconiosis, enfermedades pulmonares por age...</td>\n",
       "      <td>Ceuta</td>\n",
       "      <td>51</td>\n",
       "      <td>Hombres</td>\n",
       "      <td>728</td>\n",
       "    </tr>\n",
       "    <tr>\n",
       "      <th>1712</th>\n",
       "      <td>2013</td>\n",
       "      <td>Neumoconiosis, enfermedades pulmonares por age...</td>\n",
       "      <td>Ceuta</td>\n",
       "      <td>51</td>\n",
       "      <td>Mujeres</td>\n",
       "      <td>520</td>\n",
       "    </tr>\n",
       "    <tr>\n",
       "      <th>1714</th>\n",
       "      <td>2013</td>\n",
       "      <td>Neumoconiosis, enfermedades pulmonares por age...</td>\n",
       "      <td>Melilla</td>\n",
       "      <td>52</td>\n",
       "      <td>Hombres</td>\n",
       "      <td>658</td>\n",
       "    </tr>\n",
       "    <tr>\n",
       "      <th>1715</th>\n",
       "      <td>2013</td>\n",
       "      <td>Neumoconiosis, enfermedades pulmonares por age...</td>\n",
       "      <td>Melilla</td>\n",
       "      <td>52</td>\n",
       "      <td>Mujeres</td>\n",
       "      <td>909</td>\n",
       "    </tr>\n",
       "  </tbody>\n",
       "</table>\n",
       "<p>1144 rows × 6 columns</p>\n",
       "</div>"
      ],
      "text/plain": [
       "       Año                                        Diagnóstico Provincia  \\\n",
       "1     2013   Neoplasia maligna de tráquea, bronquios y pulmón   Almería   \n",
       "2     2013   Neoplasia maligna de tráquea, bronquios y pulmón   Almería   \n",
       "4     2013   Neoplasia maligna de tráquea, bronquios y pulmón     Cádiz   \n",
       "5     2013   Neoplasia maligna de tráquea, bronquios y pulmón     Cádiz   \n",
       "7     2013   Neoplasia maligna de tráquea, bronquios y pulmón   Córdoba   \n",
       "...    ...                                                ...       ...   \n",
       "1709  2013  Neumoconiosis, enfermedades pulmonares por age...  La Rioja   \n",
       "1711  2013  Neumoconiosis, enfermedades pulmonares por age...     Ceuta   \n",
       "1712  2013  Neumoconiosis, enfermedades pulmonares por age...     Ceuta   \n",
       "1714  2013  Neumoconiosis, enfermedades pulmonares por age...   Melilla   \n",
       "1715  2013  Neumoconiosis, enfermedades pulmonares por age...   Melilla   \n",
       "\n",
       "      Provincia_ID     Sexo  Hospitalizaciones  \n",
       "1                4  Hombres               3282  \n",
       "2                4  Mujeres                745  \n",
       "4               11  Hombres               6111  \n",
       "5               11  Mujeres               1329  \n",
       "7               14  Hombres               3102  \n",
       "...            ...      ...                ...  \n",
       "1709            26  Mujeres               6117  \n",
       "1711            51  Hombres                728  \n",
       "1712            51  Mujeres                520  \n",
       "1714            52  Hombres                658  \n",
       "1715            52  Mujeres                909  \n",
       "\n",
       "[1144 rows x 6 columns]"
      ]
     },
     "execution_count": 24,
     "metadata": {},
     "output_type": "execute_result"
    }
   ],
   "source": [
    "df13"
   ]
  },
  {
   "cell_type": "code",
   "execution_count": 25,
   "id": "4981e695-d2be-4e3a-8384-91caa63447cd",
   "metadata": {},
   "outputs": [
    {
     "data": {
      "text/plain": [
       "array(['Neoplasia maligna de tráquea, bronquios y pulmón',\n",
       "       'Enfermedades de la circulación pulmonar',\n",
       "       'Otras infecciones de las vias respiratorias inferiores',\n",
       "       'Enfermedad crónica de amígdalas',\n",
       "       'Infecciones/enfermedades de las vías respiratorias superiores y gripe',\n",
       "       'Neumonía', 'EPOC y bronquitis', 'Asma',\n",
       "       'Neumoconiosis, enfermedades pulmonares por agentes externos y otras'],\n",
       "      dtype=object)"
      ]
     },
     "execution_count": 25,
     "metadata": {},
     "output_type": "execute_result"
    }
   ],
   "source": [
    "df13[\"Diagnóstico\"].unique()"
   ]
  },
  {
   "cell_type": "code",
   "execution_count": 26,
   "id": "100eaacb-29e1-4854-a21b-790a4ffeb675",
   "metadata": {},
   "outputs": [],
   "source": [
    "# CREACIÓN COLUMNA DIAGNÓSTICO ID\n",
    "columna_duplicada = df13['Diagnóstico']\n",
    "if 'ColumnaDuplicada' in df13.columns:\n",
    "    df13.drop(columns=['ColumnaDuplicada'], inplace=True)\n",
    "df13.insert(2, 'ColumnaDuplicada', columna_duplicada)"
   ]
  },
  {
   "cell_type": "code",
   "execution_count": 27,
   "id": "dbf1a5d7-db11-4038-91d0-bd5b2c7a4bcc",
   "metadata": {},
   "outputs": [
    {
     "name": "stderr",
     "output_type": "stream",
     "text": [
      "/var/folders/rc/n_wty2zd1nn1yx7fwtj0s5j80000gn/T/ipykernel_10183/3478986111.py:1: SettingWithCopyWarning: \n",
      "A value is trying to be set on a copy of a slice from a DataFrame\n",
      "\n",
      "See the caveats in the documentation: https://pandas.pydata.org/pandas-docs/stable/user_guide/indexing.html#returning-a-view-versus-a-copy\n",
      "  df13.rename(\n"
     ]
    }
   ],
   "source": [
    "df13.rename(\n",
    "    columns = {'ColumnaDuplicada': 'Diagnóstico_ID'},\n",
    "    inplace = True\n",
    ")"
   ]
  },
  {
   "cell_type": "code",
   "execution_count": 28,
   "id": "26005f8a-a194-450a-8996-63ba74856417",
   "metadata": {},
   "outputs": [
    {
     "name": "stderr",
     "output_type": "stream",
     "text": [
      "/var/folders/rc/n_wty2zd1nn1yx7fwtj0s5j80000gn/T/ipykernel_10183/3103834776.py:13: SettingWithCopyWarning: \n",
      "A value is trying to be set on a copy of a slice from a DataFrame.\n",
      "Try using .loc[row_indexer,col_indexer] = value instead\n",
      "\n",
      "See the caveats in the documentation: https://pandas.pydata.org/pandas-docs/stable/user_guide/indexing.html#returning-a-view-versus-a-copy\n",
      "  df13['Diagnóstico_ID'] = df13['Diagnóstico_ID'].map(mapeo_diagnostico)\n"
     ]
    }
   ],
   "source": [
    "mapeo_diagnostico = {\n",
    "    'Neoplasia maligna de tráquea, bronquios y pulmón': 1,\n",
    "    'Enfermedades de la circulación pulmonar':2,\n",
    "    'Enfermedad crónica de amígdalas': 3,\n",
    "    'Neumonía': 4,\n",
    "    'Asma': 5,\n",
    "    'EPOC y bronquitis': 6,\n",
    "    'Infecciones/enfermedades de las vías respiratorias superiores y gripe': 7,\n",
    "    'Otras infecciones de las vias respiratorias inferiores': 8,\n",
    "    'Neumoconiosis, enfermedades pulmonares por agentes externos y otras': 9\n",
    "}\n",
    "\n",
    "df13['Diagnóstico_ID'] = df13['Diagnóstico_ID'].map(mapeo_diagnostico)"
   ]
  },
  {
   "cell_type": "code",
   "execution_count": 29,
   "id": "11ad7ea3-0271-46fd-b169-aeba2c03a48e",
   "metadata": {},
   "outputs": [],
   "source": [
    "df13 = df13.reset_index()"
   ]
  },
  {
   "cell_type": "code",
   "execution_count": 30,
   "id": "a7cc9f17-0c16-4e2b-a607-d49201e0d407",
   "metadata": {},
   "outputs": [],
   "source": [
    "df13.drop('index', axis=1, inplace=True)"
   ]
  },
  {
   "cell_type": "code",
   "execution_count": 32,
   "id": "99aacb8f-fe75-438b-ac5c-f9bc6ddc49ee",
   "metadata": {},
   "outputs": [],
   "source": [
    "df13 = df13.groupby(['Diagnóstico_ID','Año','Diagnóstico','Sexo','Provincia','Provincia_ID'])['Hospitalizaciones'].sum().reset_index()"
   ]
  },
  {
   "cell_type": "code",
   "execution_count": 34,
   "id": "92c921ea-2f04-4d51-a4ed-e6546c30da30",
   "metadata": {},
   "outputs": [],
   "source": [
    "df13.to_csv(\"df13.csv\", index=False, encoding=\"iso-8859-1\")"
   ]
  },
  {
   "cell_type": "code",
   "execution_count": null,
   "id": "9ca2a715-83c0-49b6-be84-08603271db78",
   "metadata": {},
   "outputs": [],
   "source": []
  }
 ],
 "metadata": {
  "kernelspec": {
   "display_name": "Python 3 (ipykernel)",
   "language": "python",
   "name": "python3"
  },
  "language_info": {
   "codemirror_mode": {
    "name": "ipython",
    "version": 3
   },
   "file_extension": ".py",
   "mimetype": "text/x-python",
   "name": "python",
   "nbconvert_exporter": "python",
   "pygments_lexer": "ipython3",
   "version": "3.12.4"
  }
 },
 "nbformat": 4,
 "nbformat_minor": 5
}
