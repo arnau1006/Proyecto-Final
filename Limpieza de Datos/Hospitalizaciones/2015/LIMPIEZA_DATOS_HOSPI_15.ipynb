{
 "cells": [
  {
   "cell_type": "markdown",
   "id": "26a559ca-ab07-422a-a3c9-6eb4d19536db",
   "metadata": {},
   "source": [
    "# Limpieza de datos de hospitalizaciones 2015"
   ]
  },
  {
   "cell_type": "code",
   "execution_count": 1,
   "id": "4ddb7f3f-006d-4d5b-91bf-abbfa322e8b8",
   "metadata": {},
   "outputs": [],
   "source": [
    "import numpy as np\n",
    "import pandas as pd\n",
    "import matplotlib.pyplot as plt\n",
    "import seaborn as sns"
   ]
  },
  {
   "cell_type": "code",
   "execution_count": 2,
   "id": "304d02f0-b9ed-4e5c-a691-240123351cef",
   "metadata": {},
   "outputs": [],
   "source": [
    "df15 = pd.read_csv(\"1-2015.csv\", delimiter= \";\", encoding = \"latin1\")\n",
    "\n",
    "df15.columns = df15.columns.str.strip()"
   ]
  },
  {
   "cell_type": "code",
   "execution_count": 3,
   "id": "2e382bd9-df82-4394-a093-fde11da42296",
   "metadata": {},
   "outputs": [
    {
     "name": "stdout",
     "output_type": "stream",
     "text": [
      "Columnas de df15: Index(['Diagnóstico principal (CIE9MC)', 'Total Nacional',\n",
      "       'Comunidades y Ciudades Autónomas', 'Provincias', 'Sexo', 'Total'],\n",
      "      dtype='object')\n"
     ]
    }
   ],
   "source": [
    "# Mostrar los nombres de columnas para verificar\n",
    "print(\"Columnas de df15:\", df15.columns)"
   ]
  },
  {
   "cell_type": "code",
   "execution_count": 4,
   "id": "55397c0e-44d7-4c0c-b618-9e7996963fda",
   "metadata": {},
   "outputs": [
    {
     "data": {
      "text/plain": [
       "(1716, 6)"
      ]
     },
     "execution_count": 4,
     "metadata": {},
     "output_type": "execute_result"
    }
   ],
   "source": [
    "df15.shape"
   ]
  },
  {
   "cell_type": "code",
   "execution_count": 5,
   "id": "6c4a31e2-d112-4038-91e5-9a4efbb05c68",
   "metadata": {},
   "outputs": [],
   "source": [
    "# LIMPIEZA COLUMNA TOTAL\n",
    "df15['Total'] = df15['Total'].str.replace('.', '')\n",
    "df15['Total'] = pd.to_numeric(df15['Total'])"
   ]
  },
  {
   "cell_type": "code",
   "execution_count": 6,
   "id": "8663ddf0-548a-4433-8fc1-ab01be51ed32",
   "metadata": {},
   "outputs": [
    {
     "data": {
      "text/plain": [
       "49"
      ]
     },
     "execution_count": 6,
     "metadata": {},
     "output_type": "execute_result"
    }
   ],
   "source": [
    "df15['Total'].isnull().sum()"
   ]
  },
  {
   "cell_type": "code",
   "execution_count": 7,
   "id": "64393b65-b5eb-49aa-b145-a7f94c894e95",
   "metadata": {},
   "outputs": [],
   "source": [
    "df15['Total'] = df15['Total'].fillna(0)"
   ]
  },
  {
   "cell_type": "code",
   "execution_count": 8,
   "id": "4672b766-3c15-4341-817c-dcadfc804f04",
   "metadata": {},
   "outputs": [],
   "source": [
    "df15['Total'] = df15['Total'].astype(int)"
   ]
  },
  {
   "cell_type": "code",
   "execution_count": 9,
   "id": "d6d10c9c-1146-4206-a0de-ff5a1a7b232b",
   "metadata": {},
   "outputs": [
    {
     "data": {
      "text/plain": [
       "Diagnóstico principal (CIE9MC)      object\n",
       "Total Nacional                      object\n",
       "Comunidades y Ciudades Autónomas    object\n",
       "Provincias                          object\n",
       "Sexo                                object\n",
       "Total                                int64\n",
       "dtype: object"
      ]
     },
     "execution_count": 9,
     "metadata": {},
     "output_type": "execute_result"
    }
   ],
   "source": [
    "df15.dtypes"
   ]
  },
  {
   "cell_type": "code",
   "execution_count": 10,
   "id": "8d49bded-59d6-4899-b668-31628d42833a",
   "metadata": {},
   "outputs": [],
   "source": [
    "# CREACIÓN DE COLUMNA PROVINCIAS\n",
    "df15['Comunidades y Ciudades Autónomas'] = df15['Comunidades y Ciudades Autónomas'].fillna('')\n",
    "df15['Provincias'] = df15['Provincias'].fillna('')"
   ]
  },
  {
   "cell_type": "code",
   "execution_count": 11,
   "id": "2c0b24a5-2e14-4b8c-90c7-8ab5e844af38",
   "metadata": {},
   "outputs": [],
   "source": [
    "df15['Combinada'] = df15['Comunidades y Ciudades Autónomas'].str.cat(df15['Provincias'], sep=' ')"
   ]
  },
  {
   "cell_type": "code",
   "execution_count": 12,
   "id": "ea441e7e-ca2a-4860-9cff-09c84f597e02",
   "metadata": {},
   "outputs": [
    {
     "data": {
      "text/html": [
       "<div>\n",
       "<style scoped>\n",
       "    .dataframe tbody tr th:only-of-type {\n",
       "        vertical-align: middle;\n",
       "    }\n",
       "\n",
       "    .dataframe tbody tr th {\n",
       "        vertical-align: top;\n",
       "    }\n",
       "\n",
       "    .dataframe thead th {\n",
       "        text-align: right;\n",
       "    }\n",
       "</style>\n",
       "<table border=\"1\" class=\"dataframe\">\n",
       "  <thead>\n",
       "    <tr style=\"text-align: right;\">\n",
       "      <th></th>\n",
       "      <th>Diagnóstico principal (CIE9MC)</th>\n",
       "      <th>Total Nacional</th>\n",
       "      <th>Comunidades y Ciudades Autónomas</th>\n",
       "      <th>Provincias</th>\n",
       "      <th>Sexo</th>\n",
       "      <th>Total</th>\n",
       "      <th>Combinada</th>\n",
       "    </tr>\n",
       "  </thead>\n",
       "  <tbody>\n",
       "    <tr>\n",
       "      <th>0</th>\n",
       "      <td>162 Neoplasia maligna de tráquea, bronquios y ...</td>\n",
       "      <td>Total Nacional</td>\n",
       "      <td>01 Andalucía</td>\n",
       "      <td>04 Almería</td>\n",
       "      <td>Ambos sexos</td>\n",
       "      <td>3934</td>\n",
       "      <td>01 Andalucía 04 Almería</td>\n",
       "    </tr>\n",
       "  </tbody>\n",
       "</table>\n",
       "</div>"
      ],
      "text/plain": [
       "                      Diagnóstico principal (CIE9MC)  Total Nacional  \\\n",
       "0  162 Neoplasia maligna de tráquea, bronquios y ...  Total Nacional   \n",
       "\n",
       "  Comunidades y Ciudades Autónomas  Provincias         Sexo  Total  \\\n",
       "0                     01 Andalucía  04 Almería  Ambos sexos   3934   \n",
       "\n",
       "                 Combinada  \n",
       "0  01 Andalucía 04 Almería  "
      ]
     },
     "execution_count": 12,
     "metadata": {},
     "output_type": "execute_result"
    }
   ],
   "source": [
    "df15.head(1)"
   ]
  },
  {
   "cell_type": "code",
   "execution_count": 13,
   "id": "0a0a4fec-8c75-43ab-8586-f9d8388d43c1",
   "metadata": {},
   "outputs": [],
   "source": [
    "df15 = df15[df15.columns[[0,4,5,6]]]"
   ]
  },
  {
   "cell_type": "code",
   "execution_count": 14,
   "id": "add95c38-0389-4764-8c44-33f494eb20a1",
   "metadata": {},
   "outputs": [
    {
     "data": {
      "text/html": [
       "<div>\n",
       "<style scoped>\n",
       "    .dataframe tbody tr th:only-of-type {\n",
       "        vertical-align: middle;\n",
       "    }\n",
       "\n",
       "    .dataframe tbody tr th {\n",
       "        vertical-align: top;\n",
       "    }\n",
       "\n",
       "    .dataframe thead th {\n",
       "        text-align: right;\n",
       "    }\n",
       "</style>\n",
       "<table border=\"1\" class=\"dataframe\">\n",
       "  <thead>\n",
       "    <tr style=\"text-align: right;\">\n",
       "      <th></th>\n",
       "      <th>Diagnóstico principal (CIE9MC)</th>\n",
       "      <th>Sexo</th>\n",
       "      <th>Total</th>\n",
       "      <th>Combinada</th>\n",
       "    </tr>\n",
       "  </thead>\n",
       "  <tbody>\n",
       "    <tr>\n",
       "      <th>0</th>\n",
       "      <td>162 Neoplasia maligna de tráquea, bronquios y ...</td>\n",
       "      <td>Ambos sexos</td>\n",
       "      <td>3934</td>\n",
       "      <td>01 Andalucía 04 Almería</td>\n",
       "    </tr>\n",
       "    <tr>\n",
       "      <th>1</th>\n",
       "      <td>162 Neoplasia maligna de tráquea, bronquios y ...</td>\n",
       "      <td>Hombres</td>\n",
       "      <td>3253</td>\n",
       "      <td>01 Andalucía 04 Almería</td>\n",
       "    </tr>\n",
       "    <tr>\n",
       "      <th>2</th>\n",
       "      <td>162 Neoplasia maligna de tráquea, bronquios y ...</td>\n",
       "      <td>Mujeres</td>\n",
       "      <td>681</td>\n",
       "      <td>01 Andalucía 04 Almería</td>\n",
       "    </tr>\n",
       "    <tr>\n",
       "      <th>3</th>\n",
       "      <td>162 Neoplasia maligna de tráquea, bronquios y ...</td>\n",
       "      <td>Ambos sexos</td>\n",
       "      <td>7354</td>\n",
       "      <td>01 Andalucía 11 Cádiz</td>\n",
       "    </tr>\n",
       "    <tr>\n",
       "      <th>4</th>\n",
       "      <td>162 Neoplasia maligna de tráquea, bronquios y ...</td>\n",
       "      <td>Hombres</td>\n",
       "      <td>5947</td>\n",
       "      <td>01 Andalucía 11 Cádiz</td>\n",
       "    </tr>\n",
       "    <tr>\n",
       "      <th>...</th>\n",
       "      <td>...</td>\n",
       "      <td>...</td>\n",
       "      <td>...</td>\n",
       "      <td>...</td>\n",
       "    </tr>\n",
       "    <tr>\n",
       "      <th>1711</th>\n",
       "      <td>500-519 VIII.4 NEUMOCONIOSIS, ENFERMEDADES PUL...</td>\n",
       "      <td>Hombres</td>\n",
       "      <td>694</td>\n",
       "      <td>18 Ceuta</td>\n",
       "    </tr>\n",
       "    <tr>\n",
       "      <th>1712</th>\n",
       "      <td>500-519 VIII.4 NEUMOCONIOSIS, ENFERMEDADES PUL...</td>\n",
       "      <td>Mujeres</td>\n",
       "      <td>609</td>\n",
       "      <td>18 Ceuta</td>\n",
       "    </tr>\n",
       "    <tr>\n",
       "      <th>1713</th>\n",
       "      <td>500-519 VIII.4 NEUMOCONIOSIS, ENFERMEDADES PUL...</td>\n",
       "      <td>Ambos sexos</td>\n",
       "      <td>1470</td>\n",
       "      <td>19 Melilla</td>\n",
       "    </tr>\n",
       "    <tr>\n",
       "      <th>1714</th>\n",
       "      <td>500-519 VIII.4 NEUMOCONIOSIS, ENFERMEDADES PUL...</td>\n",
       "      <td>Hombres</td>\n",
       "      <td>746</td>\n",
       "      <td>19 Melilla</td>\n",
       "    </tr>\n",
       "    <tr>\n",
       "      <th>1715</th>\n",
       "      <td>500-519 VIII.4 NEUMOCONIOSIS, ENFERMEDADES PUL...</td>\n",
       "      <td>Mujeres</td>\n",
       "      <td>724</td>\n",
       "      <td>19 Melilla</td>\n",
       "    </tr>\n",
       "  </tbody>\n",
       "</table>\n",
       "<p>1716 rows × 4 columns</p>\n",
       "</div>"
      ],
      "text/plain": [
       "                         Diagnóstico principal (CIE9MC)         Sexo  Total  \\\n",
       "0     162 Neoplasia maligna de tráquea, bronquios y ...  Ambos sexos   3934   \n",
       "1     162 Neoplasia maligna de tráquea, bronquios y ...      Hombres   3253   \n",
       "2     162 Neoplasia maligna de tráquea, bronquios y ...      Mujeres    681   \n",
       "3     162 Neoplasia maligna de tráquea, bronquios y ...  Ambos sexos   7354   \n",
       "4     162 Neoplasia maligna de tráquea, bronquios y ...      Hombres   5947   \n",
       "...                                                 ...          ...    ...   \n",
       "1711  500-519 VIII.4 NEUMOCONIOSIS, ENFERMEDADES PUL...      Hombres    694   \n",
       "1712  500-519 VIII.4 NEUMOCONIOSIS, ENFERMEDADES PUL...      Mujeres    609   \n",
       "1713  500-519 VIII.4 NEUMOCONIOSIS, ENFERMEDADES PUL...  Ambos sexos   1470   \n",
       "1714  500-519 VIII.4 NEUMOCONIOSIS, ENFERMEDADES PUL...      Hombres    746   \n",
       "1715  500-519 VIII.4 NEUMOCONIOSIS, ENFERMEDADES PUL...      Mujeres    724   \n",
       "\n",
       "                    Combinada  \n",
       "0     01 Andalucía 04 Almería  \n",
       "1     01 Andalucía 04 Almería  \n",
       "2     01 Andalucía 04 Almería  \n",
       "3       01 Andalucía 11 Cádiz  \n",
       "4       01 Andalucía 11 Cádiz  \n",
       "...                       ...  \n",
       "1711                18 Ceuta   \n",
       "1712                18 Ceuta   \n",
       "1713              19 Melilla   \n",
       "1714              19 Melilla   \n",
       "1715              19 Melilla   \n",
       "\n",
       "[1716 rows x 4 columns]"
      ]
     },
     "execution_count": 14,
     "metadata": {},
     "output_type": "execute_result"
    }
   ],
   "source": [
    "df15"
   ]
  },
  {
   "cell_type": "code",
   "execution_count": 15,
   "id": "6133a49a-262e-4964-8002-5ca64847803c",
   "metadata": {},
   "outputs": [],
   "source": [
    "# RENOMBRADO DE COLUMNAS\n",
    "df15.rename(\n",
    "    columns = {'Combinada': 'Provincia',\n",
    "              'Diagnóstico principal (CIE9MC)': 'Diagnóstico',\n",
    "              'Total': 'Hospitalizaciones'},\n",
    "    inplace = True\n",
    ")"
   ]
  },
  {
   "cell_type": "code",
   "execution_count": 16,
   "id": "86cc1655-efc6-4ac0-b6a0-56ee61b59d68",
   "metadata": {},
   "outputs": [],
   "source": [
    "df15 = df15[['Diagnóstico', 'Provincia', 'Sexo', 'Hospitalizaciones']]"
   ]
  },
  {
   "cell_type": "code",
   "execution_count": 17,
   "id": "fe197877-200d-4b39-9d41-fe5830ead3b7",
   "metadata": {},
   "outputs": [],
   "source": [
    "mapeo_combinada = {\n",
    "    '01 Andalucía 04 Almería': 'Almería',\n",
    "    '01 Andalucía 11 Cádiz': 'Cádiz',\n",
    "    '01 Andalucía 14 Córdoba': 'Córdoba',\n",
    "    '01 Andalucía 18 Granada': \"Granada\",\n",
    "    '01 Andalucía 21 Huelva': 'Huelva',\n",
    "    '01 Andalucía 23 Jaén': 'Jaén',\n",
    "    '01 Andalucía 29 Málaga': 'Málaga',\n",
    "    '01 Andalucía 41 Sevilla': 'Sevilla',\n",
    "    '02 Aragón 22 Huesca': 'Huesca',\n",
    "    '02 Aragón 44 Teruel': 'Teruel',\n",
    "    '02 Aragón 50 Zaragoza': 'Zaragoza',\n",
    "    '03 Asturias, Principado de ': 'Asturias',\n",
    "    '04 Balears, Illes ': 'Islas Baleares',\n",
    "    '05 Canarias 35 Palmas, Las': 'Las Palmas',\n",
    "    '05 Canarias 38 Santa Cruz de Tenerife': 'Santa Cruz de Tenerife',\n",
    "    '06 Cantabria ': 'Cantabria',\n",
    "    '07 Castilla y León 05 Ávila': 'Ávila',\n",
    "    '07 Castilla y León 09 Burgos': 'Burgos',\n",
    "    '07 Castilla y León 24 León': 'León',\n",
    "    '07 Castilla y León 34 Palencia': 'Palencia',\n",
    "    '07 Castilla y León 37 Salamanca': 'Salamanca',\n",
    "    '07 Castilla y León 40 Segovia': 'Segovia',\n",
    "    '07 Castilla y León 42 Soria': 'Soria',\n",
    "    '07 Castilla y León 47 Valladolid': 'Valladolid',\n",
    "    '07 Castilla y León 49 Zamora': 'Zamora',\n",
    "    '08 Castilla - La Mancha 02 Albacete': 'Albacete',\n",
    "    '08 Castilla - La Mancha 13 Ciudad Real': 'Ciudad Real',\n",
    "    '08 Castilla - La Mancha 16 Cuenca': 'Cuenca',\n",
    "    '08 Castilla - La Mancha 19 Guadalajara': 'Guadalajara',\n",
    "    '08 Castilla - La Mancha 45 Toledo': 'Toledo',\n",
    "    '09 Cataluña 08 Barcelona': 'Barcelona',\n",
    "    '09 Cataluña 17 Girona': 'Girona',\n",
    "    '09 Cataluña 25 Lleida': 'Lleida',\n",
    "    '09 Cataluña 43 Tarragona': 'Tarragona',\n",
    "    '10 Comunitat Valenciana 03 Alicante/Alacant': 'Alicante',\n",
    "    '10 Comunitat Valenciana 12 Castellón/Castelló': 'Castellón',\n",
    "    '10 Comunitat Valenciana 46 Valencia/València': 'Valencia',\n",
    "    '11 Extremadura 06 Badajoz': 'Badajoz',\n",
    "    '11 Extremadura 10 Cáceres': 'Cáceres',\n",
    "    '12 Galicia 15 Coruña, A': 'A Coruña',\n",
    "    '12 Galicia 27 Lugo': 'Lugo',\n",
    "    '12 Galicia 32 Ourense': 'Ourense',\n",
    "    '12 Galicia 36 Pontevedra': 'Pontevedra',\n",
    "    '13 Madrid, Comunidad de ': 'Madrid',\n",
    "    '14 Murcia, Región de ': 'Murcia',\n",
    "    '15 Navarra, Comunidad Foral de ': 'Navarra',\n",
    "    '16 País Vasco 01 Araba/Álava': 'Álava',\n",
    "    '16 País Vasco 48 Bizkaia': 'Bizkaia',\n",
    "    '16 País Vasco 20 Gipuzkoa': 'Gipuzkoa',\n",
    "    '17 Rioja, La ': 'La Rioja',\n",
    "    '18 Ceuta ': 'Ceuta',\n",
    "    '19 Melilla ': 'Melilla'\n",
    "}\n",
    "\n",
    "df15['Provincia'] = df15['Provincia'].map(mapeo_combinada)"
   ]
  },
  {
   "cell_type": "code",
   "execution_count": 18,
   "id": "352e0f46-1da3-4e49-a100-591195ac8124",
   "metadata": {},
   "outputs": [
    {
     "data": {
      "text/html": [
       "<div>\n",
       "<style scoped>\n",
       "    .dataframe tbody tr th:only-of-type {\n",
       "        vertical-align: middle;\n",
       "    }\n",
       "\n",
       "    .dataframe tbody tr th {\n",
       "        vertical-align: top;\n",
       "    }\n",
       "\n",
       "    .dataframe thead th {\n",
       "        text-align: right;\n",
       "    }\n",
       "</style>\n",
       "<table border=\"1\" class=\"dataframe\">\n",
       "  <thead>\n",
       "    <tr style=\"text-align: right;\">\n",
       "      <th></th>\n",
       "      <th>Diagnóstico</th>\n",
       "      <th>Provincia</th>\n",
       "      <th>Sexo</th>\n",
       "      <th>Hospitalizaciones</th>\n",
       "    </tr>\n",
       "  </thead>\n",
       "  <tbody>\n",
       "    <tr>\n",
       "      <th>0</th>\n",
       "      <td>162 Neoplasia maligna de tráquea, bronquios y ...</td>\n",
       "      <td>Almería</td>\n",
       "      <td>Ambos sexos</td>\n",
       "      <td>3934</td>\n",
       "    </tr>\n",
       "    <tr>\n",
       "      <th>1</th>\n",
       "      <td>162 Neoplasia maligna de tráquea, bronquios y ...</td>\n",
       "      <td>Almería</td>\n",
       "      <td>Hombres</td>\n",
       "      <td>3253</td>\n",
       "    </tr>\n",
       "    <tr>\n",
       "      <th>2</th>\n",
       "      <td>162 Neoplasia maligna de tráquea, bronquios y ...</td>\n",
       "      <td>Almería</td>\n",
       "      <td>Mujeres</td>\n",
       "      <td>681</td>\n",
       "    </tr>\n",
       "  </tbody>\n",
       "</table>\n",
       "</div>"
      ],
      "text/plain": [
       "                                         Diagnóstico Provincia         Sexo  \\\n",
       "0  162 Neoplasia maligna de tráquea, bronquios y ...   Almería  Ambos sexos   \n",
       "1  162 Neoplasia maligna de tráquea, bronquios y ...   Almería      Hombres   \n",
       "2  162 Neoplasia maligna de tráquea, bronquios y ...   Almería      Mujeres   \n",
       "\n",
       "   Hospitalizaciones  \n",
       "0               3934  \n",
       "1               3253  \n",
       "2                681  "
      ]
     },
     "execution_count": 18,
     "metadata": {},
     "output_type": "execute_result"
    }
   ],
   "source": [
    "df15.head(3)"
   ]
  },
  {
   "cell_type": "code",
   "execution_count": 19,
   "id": "6fc6150e-7d18-414f-a479-644dd2d29cfa",
   "metadata": {},
   "outputs": [],
   "source": [
    "# CREACIÓN DE OTRA COLUMNA PROVINCIA ID\n",
    "columna_duplicada = df15['Provincia']\n",
    "if 'ColumnaDuplicada' in df15.columns:\n",
    "    df15.drop(columns=['ColumnaDuplicada'], inplace=True)\n",
    "df15.insert(2, 'ColumnaDuplicada', columna_duplicada)"
   ]
  },
  {
   "cell_type": "code",
   "execution_count": 20,
   "id": "6cac98b7-8056-4dc2-a5c9-e5a9ad2da84c",
   "metadata": {},
   "outputs": [],
   "source": [
    "df15.rename(\n",
    "    columns = {'ColumnaDuplicada': 'Provincia_ID'},\n",
    "    inplace = True\n",
    ")"
   ]
  },
  {
   "cell_type": "code",
   "execution_count": 21,
   "id": "fc5df650-70a5-499f-b974-141bc4345fe6",
   "metadata": {},
   "outputs": [],
   "source": [
    "mapeo_provincias = {\n",
    "    \"Álava\": 1,\n",
    "    \"Albacete\": 2,\n",
    "    \"Alicante\": 3,\n",
    "    \"Almería\": 4,\n",
    "    \"Ávila\": 5,\n",
    "    \"Badajoz\": 6,\n",
    "    \"Islas Baleares\": 7,\n",
    "    \"Barcelona\": 8,\n",
    "    \"Burgos\": 9,\n",
    "    \"Cáceres\": 10,\n",
    "    \"Cádiz\": 11,\n",
    "    \"Castellón\": 12,\n",
    "    \"Ciudad Real\": 13,\n",
    "    \"Córdoba\": 14,\n",
    "    \"A Coruña\": 15,\n",
    "    \"Cuenca\": 16,\n",
    "    \"Girona\": 17,\n",
    "    \"Granada\": 18,\n",
    "    \"Guadalajara\": 19,\n",
    "    \"Gipuzkoa\": 20,\n",
    "    \"Huelva\": 21,\n",
    "    \"Huesca\": 22,\n",
    "    \"Jaén\": 23,\n",
    "    \"León\": 24,\n",
    "    \"Lleida\": 25,\n",
    "    \"La Rioja\": 26,\n",
    "    \"Lugo\": 27,\n",
    "    \"Madrid\": 28,\n",
    "    \"Málaga\": 29,\n",
    "    \"Murcia\": 30,\n",
    "    \"Navarra\": 31,\n",
    "    \"Ourense\": 32,\n",
    "    \"Asturias\": 33,\n",
    "    \"Palencia\": 34,\n",
    "    \"Las Palmas\":35,\n",
    "    \"Santa Cruz de Tenerife\":38,\n",
    "    \"Pontevedra\": 36,\n",
    "    \"Salamanca\": 37,\n",
    "    \"Cantabria\": 39,\n",
    "    \"Segovia\": 40,\n",
    "    \"Sevilla\": 41,\n",
    "    \"Soria\": 42,\n",
    "    \"Tarragona\": 43,\n",
    "    \"Teruel\": 44,\n",
    "    \"Toledo\": 45,\n",
    "    \"Valencia\": 46,\n",
    "    \"Valladolid\": 47,\n",
    "    \"Bizkaia\": 48,\n",
    "    \"Zamora\": 49,\n",
    "    \"Zaragoza\": 50,\n",
    "    \"Ceuta\": 51,\n",
    "    \"Melilla\": 52\n",
    "}\n",
    "\n",
    "df15['Provincia_ID'] = df15['Provincia_ID'].map(mapeo_provincias)"
   ]
  },
  {
   "cell_type": "code",
   "execution_count": 22,
   "id": "1608087a-867f-4e65-868e-8b42f0a7a9c2",
   "metadata": {},
   "outputs": [
    {
     "data": {
      "text/html": [
       "<div>\n",
       "<style scoped>\n",
       "    .dataframe tbody tr th:only-of-type {\n",
       "        vertical-align: middle;\n",
       "    }\n",
       "\n",
       "    .dataframe tbody tr th {\n",
       "        vertical-align: top;\n",
       "    }\n",
       "\n",
       "    .dataframe thead th {\n",
       "        text-align: right;\n",
       "    }\n",
       "</style>\n",
       "<table border=\"1\" class=\"dataframe\">\n",
       "  <thead>\n",
       "    <tr style=\"text-align: right;\">\n",
       "      <th></th>\n",
       "      <th>Diagnóstico</th>\n",
       "      <th>Provincia</th>\n",
       "      <th>Provincia_ID</th>\n",
       "      <th>Sexo</th>\n",
       "      <th>Hospitalizaciones</th>\n",
       "    </tr>\n",
       "  </thead>\n",
       "  <tbody>\n",
       "    <tr>\n",
       "      <th>0</th>\n",
       "      <td>162 Neoplasia maligna de tráquea, bronquios y ...</td>\n",
       "      <td>Almería</td>\n",
       "      <td>4</td>\n",
       "      <td>Ambos sexos</td>\n",
       "      <td>3934</td>\n",
       "    </tr>\n",
       "    <tr>\n",
       "      <th>1</th>\n",
       "      <td>162 Neoplasia maligna de tráquea, bronquios y ...</td>\n",
       "      <td>Almería</td>\n",
       "      <td>4</td>\n",
       "      <td>Hombres</td>\n",
       "      <td>3253</td>\n",
       "    </tr>\n",
       "    <tr>\n",
       "      <th>2</th>\n",
       "      <td>162 Neoplasia maligna de tráquea, bronquios y ...</td>\n",
       "      <td>Almería</td>\n",
       "      <td>4</td>\n",
       "      <td>Mujeres</td>\n",
       "      <td>681</td>\n",
       "    </tr>\n",
       "    <tr>\n",
       "      <th>3</th>\n",
       "      <td>162 Neoplasia maligna de tráquea, bronquios y ...</td>\n",
       "      <td>Cádiz</td>\n",
       "      <td>11</td>\n",
       "      <td>Ambos sexos</td>\n",
       "      <td>7354</td>\n",
       "    </tr>\n",
       "    <tr>\n",
       "      <th>4</th>\n",
       "      <td>162 Neoplasia maligna de tráquea, bronquios y ...</td>\n",
       "      <td>Cádiz</td>\n",
       "      <td>11</td>\n",
       "      <td>Hombres</td>\n",
       "      <td>5947</td>\n",
       "    </tr>\n",
       "  </tbody>\n",
       "</table>\n",
       "</div>"
      ],
      "text/plain": [
       "                                         Diagnóstico Provincia  Provincia_ID  \\\n",
       "0  162 Neoplasia maligna de tráquea, bronquios y ...   Almería             4   \n",
       "1  162 Neoplasia maligna de tráquea, bronquios y ...   Almería             4   \n",
       "2  162 Neoplasia maligna de tráquea, bronquios y ...   Almería             4   \n",
       "3  162 Neoplasia maligna de tráquea, bronquios y ...     Cádiz            11   \n",
       "4  162 Neoplasia maligna de tráquea, bronquios y ...     Cádiz            11   \n",
       "\n",
       "          Sexo  Hospitalizaciones  \n",
       "0  Ambos sexos               3934  \n",
       "1      Hombres               3253  \n",
       "2      Mujeres                681  \n",
       "3  Ambos sexos               7354  \n",
       "4      Hombres               5947  "
      ]
     },
     "execution_count": 22,
     "metadata": {},
     "output_type": "execute_result"
    }
   ],
   "source": [
    "df15.head()"
   ]
  },
  {
   "cell_type": "code",
   "execution_count": 23,
   "id": "7cc2860c-0cfd-411f-9d88-f82a130a2c64",
   "metadata": {},
   "outputs": [
    {
     "data": {
      "text/plain": [
       "0"
      ]
     },
     "execution_count": 23,
     "metadata": {},
     "output_type": "execute_result"
    }
   ],
   "source": [
    "df15['Provincia_ID'].isna().sum()"
   ]
  },
  {
   "cell_type": "code",
   "execution_count": 24,
   "id": "0d56926d-4373-4d9d-b989-093a7f26829c",
   "metadata": {},
   "outputs": [
    {
     "data": {
      "text/plain": [
       "array(['162 Neoplasia maligna de tráquea, bronquios y pulmón',\n",
       "       '415-417 VII.5 ENFERMEDADES DE LA CIRCULACIÓN PULMONAR',\n",
       "       '466 Bronquitis y bronquiolitis aguda',\n",
       "       '474 Enfermedad crónica de amígdalas y adenoides',\n",
       "       'Resto (460-478) Otras infecciones respiratorias agudas y otras enfermedades del tracto respiratorio superior',\n",
       "       '480-486 Neumonía', '487-488 Gripe',\n",
       "       '490-492,494,496 Enfermedad pulmonar obstructiva crónica y bronquitis',\n",
       "       '493 Asma',\n",
       "       'Resto (490-496) Otras enfermedades asociadas a enfermedad pulmonar obstructiva crónica',\n",
       "       '500-519 VIII.4 NEUMOCONIOSIS, ENFERMEDADES PULMONARES OCASIONADAS POR AGENTES EXTERNOS Y OTRAS ENF. DEL APARATO RESPIRATORIO'],\n",
       "      dtype=object)"
      ]
     },
     "execution_count": 24,
     "metadata": {},
     "output_type": "execute_result"
    }
   ],
   "source": [
    "df15['Diagnóstico'].unique()"
   ]
  },
  {
   "cell_type": "code",
   "execution_count": 25,
   "id": "3c9aecab-203d-4fb9-9a1e-4cd03a70135e",
   "metadata": {},
   "outputs": [],
   "source": [
    "# SIMPLIFICACIÓN DE NOMBRES EN COLUMNA DIAGNÓSTICO\n",
    "mapeo_diagnostico = {\n",
    "    \"162 Neoplasia maligna de tráquea, bronquios y pulmón\": \"Neoplasia maligna de tráquea, bronquios y pulmón\",\n",
    "    \"415-417 VII.5 ENFERMEDADES DE LA CIRCULACIÓN PULMONAR\": \"Enfermedades de la circulación pulmonar\",\n",
    "    \"466 Bronquitis y bronquiolitis aguda\": \"Otras infecciones de las vias respiratorias inferiores\",\n",
    "    \"474 Enfermedad crónica de amígdalas y adenoides\": \"Enfermedad crónica de amígdalas\",\n",
    "    \"Resto (460-478) Otras infecciones respiratorias agudas y otras enfermedades del tracto respiratorio superior\": \"Infecciones/enfermedades de las vías respiratorias superiores y gripe\",\n",
    "    \"480-486 Neumonía\": \"Neumonía\",\n",
    "    \"487-488 Gripe\": \"Infecciones/enfermedades de las vías respiratorias superiores y gripe\",\n",
    "    \"490-492,494,496 Enfermedad pulmonar obstructiva crónica y bronquitis\": \"EPOC y bronquitis\",\n",
    "    \"493 Asma\": \"Asma\",\n",
    "    \"Resto (490-496) Otras enfermedades asociadas a enfermedad pulmonar obstructiva crónica\": \"Neumoconiosis, enfermedades pulmonares por agentes externos y otras\",\n",
    "    \"500-519 VIII.4 NEUMOCONIOSIS, ENFERMEDADES PULMONARES OCASIONADAS POR AGENTES EXTERNOS Y OTRAS ENF. DEL APARATO RESPIRATORIO\": \"Neumoconiosis, enfermedades pulmonares por agentes externos y otras\"\n",
    "}\n",
    "\n",
    "df15['Diagnóstico'] = df15['Diagnóstico'].map(mapeo_diagnostico)"
   ]
  },
  {
   "cell_type": "code",
   "execution_count": 26,
   "id": "6d268997-9f32-4430-9785-7a53eee2eec3",
   "metadata": {},
   "outputs": [],
   "source": [
    "df15.insert(0, 'Año', 2015)"
   ]
  },
  {
   "cell_type": "code",
   "execution_count": 27,
   "id": "4b9d52b7-c3db-4d61-b61b-55fc2e2af08e",
   "metadata": {},
   "outputs": [
    {
     "data": {
      "text/html": [
       "<div>\n",
       "<style scoped>\n",
       "    .dataframe tbody tr th:only-of-type {\n",
       "        vertical-align: middle;\n",
       "    }\n",
       "\n",
       "    .dataframe tbody tr th {\n",
       "        vertical-align: top;\n",
       "    }\n",
       "\n",
       "    .dataframe thead th {\n",
       "        text-align: right;\n",
       "    }\n",
       "</style>\n",
       "<table border=\"1\" class=\"dataframe\">\n",
       "  <thead>\n",
       "    <tr style=\"text-align: right;\">\n",
       "      <th></th>\n",
       "      <th>Año</th>\n",
       "      <th>Diagnóstico</th>\n",
       "      <th>Provincia</th>\n",
       "      <th>Provincia_ID</th>\n",
       "      <th>Sexo</th>\n",
       "      <th>Hospitalizaciones</th>\n",
       "    </tr>\n",
       "  </thead>\n",
       "  <tbody>\n",
       "    <tr>\n",
       "      <th>0</th>\n",
       "      <td>2015</td>\n",
       "      <td>Neoplasia maligna de tráquea, bronquios y pulmón</td>\n",
       "      <td>Almería</td>\n",
       "      <td>4</td>\n",
       "      <td>Ambos sexos</td>\n",
       "      <td>3934</td>\n",
       "    </tr>\n",
       "    <tr>\n",
       "      <th>1</th>\n",
       "      <td>2015</td>\n",
       "      <td>Neoplasia maligna de tráquea, bronquios y pulmón</td>\n",
       "      <td>Almería</td>\n",
       "      <td>4</td>\n",
       "      <td>Hombres</td>\n",
       "      <td>3253</td>\n",
       "    </tr>\n",
       "    <tr>\n",
       "      <th>2</th>\n",
       "      <td>2015</td>\n",
       "      <td>Neoplasia maligna de tráquea, bronquios y pulmón</td>\n",
       "      <td>Almería</td>\n",
       "      <td>4</td>\n",
       "      <td>Mujeres</td>\n",
       "      <td>681</td>\n",
       "    </tr>\n",
       "    <tr>\n",
       "      <th>3</th>\n",
       "      <td>2015</td>\n",
       "      <td>Neoplasia maligna de tráquea, bronquios y pulmón</td>\n",
       "      <td>Cádiz</td>\n",
       "      <td>11</td>\n",
       "      <td>Ambos sexos</td>\n",
       "      <td>7354</td>\n",
       "    </tr>\n",
       "    <tr>\n",
       "      <th>4</th>\n",
       "      <td>2015</td>\n",
       "      <td>Neoplasia maligna de tráquea, bronquios y pulmón</td>\n",
       "      <td>Cádiz</td>\n",
       "      <td>11</td>\n",
       "      <td>Hombres</td>\n",
       "      <td>5947</td>\n",
       "    </tr>\n",
       "    <tr>\n",
       "      <th>...</th>\n",
       "      <td>...</td>\n",
       "      <td>...</td>\n",
       "      <td>...</td>\n",
       "      <td>...</td>\n",
       "      <td>...</td>\n",
       "      <td>...</td>\n",
       "    </tr>\n",
       "    <tr>\n",
       "      <th>1711</th>\n",
       "      <td>2015</td>\n",
       "      <td>Neumoconiosis, enfermedades pulmonares por age...</td>\n",
       "      <td>Ceuta</td>\n",
       "      <td>51</td>\n",
       "      <td>Hombres</td>\n",
       "      <td>694</td>\n",
       "    </tr>\n",
       "    <tr>\n",
       "      <th>1712</th>\n",
       "      <td>2015</td>\n",
       "      <td>Neumoconiosis, enfermedades pulmonares por age...</td>\n",
       "      <td>Ceuta</td>\n",
       "      <td>51</td>\n",
       "      <td>Mujeres</td>\n",
       "      <td>609</td>\n",
       "    </tr>\n",
       "    <tr>\n",
       "      <th>1713</th>\n",
       "      <td>2015</td>\n",
       "      <td>Neumoconiosis, enfermedades pulmonares por age...</td>\n",
       "      <td>Melilla</td>\n",
       "      <td>52</td>\n",
       "      <td>Ambos sexos</td>\n",
       "      <td>1470</td>\n",
       "    </tr>\n",
       "    <tr>\n",
       "      <th>1714</th>\n",
       "      <td>2015</td>\n",
       "      <td>Neumoconiosis, enfermedades pulmonares por age...</td>\n",
       "      <td>Melilla</td>\n",
       "      <td>52</td>\n",
       "      <td>Hombres</td>\n",
       "      <td>746</td>\n",
       "    </tr>\n",
       "    <tr>\n",
       "      <th>1715</th>\n",
       "      <td>2015</td>\n",
       "      <td>Neumoconiosis, enfermedades pulmonares por age...</td>\n",
       "      <td>Melilla</td>\n",
       "      <td>52</td>\n",
       "      <td>Mujeres</td>\n",
       "      <td>724</td>\n",
       "    </tr>\n",
       "  </tbody>\n",
       "</table>\n",
       "<p>1716 rows × 6 columns</p>\n",
       "</div>"
      ],
      "text/plain": [
       "       Año                                        Diagnóstico Provincia  \\\n",
       "0     2015   Neoplasia maligna de tráquea, bronquios y pulmón   Almería   \n",
       "1     2015   Neoplasia maligna de tráquea, bronquios y pulmón   Almería   \n",
       "2     2015   Neoplasia maligna de tráquea, bronquios y pulmón   Almería   \n",
       "3     2015   Neoplasia maligna de tráquea, bronquios y pulmón     Cádiz   \n",
       "4     2015   Neoplasia maligna de tráquea, bronquios y pulmón     Cádiz   \n",
       "...    ...                                                ...       ...   \n",
       "1711  2015  Neumoconiosis, enfermedades pulmonares por age...     Ceuta   \n",
       "1712  2015  Neumoconiosis, enfermedades pulmonares por age...     Ceuta   \n",
       "1713  2015  Neumoconiosis, enfermedades pulmonares por age...   Melilla   \n",
       "1714  2015  Neumoconiosis, enfermedades pulmonares por age...   Melilla   \n",
       "1715  2015  Neumoconiosis, enfermedades pulmonares por age...   Melilla   \n",
       "\n",
       "      Provincia_ID         Sexo  Hospitalizaciones  \n",
       "0                4  Ambos sexos               3934  \n",
       "1                4      Hombres               3253  \n",
       "2                4      Mujeres                681  \n",
       "3               11  Ambos sexos               7354  \n",
       "4               11      Hombres               5947  \n",
       "...            ...          ...                ...  \n",
       "1711            51      Hombres                694  \n",
       "1712            51      Mujeres                609  \n",
       "1713            52  Ambos sexos               1470  \n",
       "1714            52      Hombres                746  \n",
       "1715            52      Mujeres                724  \n",
       "\n",
       "[1716 rows x 6 columns]"
      ]
     },
     "execution_count": 27,
     "metadata": {},
     "output_type": "execute_result"
    }
   ],
   "source": [
    "df15"
   ]
  },
  {
   "cell_type": "code",
   "execution_count": 28,
   "id": "27003f44-f387-4736-8548-081b83157b26",
   "metadata": {},
   "outputs": [
    {
     "data": {
      "text/plain": [
       "array(['Neoplasia maligna de tráquea, bronquios y pulmón',\n",
       "       'Enfermedades de la circulación pulmonar',\n",
       "       'Otras infecciones de las vias respiratorias inferiores',\n",
       "       'Enfermedad crónica de amígdalas',\n",
       "       'Infecciones/enfermedades de las vías respiratorias superiores y gripe',\n",
       "       'Neumonía', 'EPOC y bronquitis', 'Asma',\n",
       "       'Neumoconiosis, enfermedades pulmonares por agentes externos y otras'],\n",
       "      dtype=object)"
      ]
     },
     "execution_count": 28,
     "metadata": {},
     "output_type": "execute_result"
    }
   ],
   "source": [
    "df15['Diagnóstico'].unique()"
   ]
  },
  {
   "cell_type": "code",
   "execution_count": 29,
   "id": "110d3b1a-8ca9-4310-b54d-17be9dc10bcb",
   "metadata": {},
   "outputs": [
    {
     "data": {
      "text/plain": [
       "array(['Almería', 'Cádiz', 'Córdoba', 'Granada', 'Huelva', 'Jaén',\n",
       "       'Málaga', 'Sevilla', 'Huesca', 'Teruel', 'Zaragoza', 'Asturias',\n",
       "       'Islas Baleares', 'Las Palmas', 'Santa Cruz de Tenerife',\n",
       "       'Cantabria', 'Ávila', 'Burgos', 'León', 'Palencia', 'Salamanca',\n",
       "       'Segovia', 'Soria', 'Valladolid', 'Zamora', 'Albacete',\n",
       "       'Ciudad Real', 'Cuenca', 'Guadalajara', 'Toledo', 'Barcelona',\n",
       "       'Girona', 'Lleida', 'Tarragona', 'Alicante', 'Castellón',\n",
       "       'Valencia', 'Badajoz', 'Cáceres', 'A Coruña', 'Lugo', 'Ourense',\n",
       "       'Pontevedra', 'Madrid', 'Murcia', 'Navarra', 'Álava', 'Bizkaia',\n",
       "       'Gipuzkoa', 'La Rioja', 'Ceuta', 'Melilla'], dtype=object)"
      ]
     },
     "execution_count": 29,
     "metadata": {},
     "output_type": "execute_result"
    }
   ],
   "source": [
    "df15['Provincia'].unique()"
   ]
  },
  {
   "cell_type": "code",
   "execution_count": 30,
   "id": "2885e3b2-1f1d-4052-b5c9-6c80edddba29",
   "metadata": {},
   "outputs": [],
   "source": [
    "df15 = df15[df15['Sexo'] != 'Ambos sexos']"
   ]
  },
  {
   "cell_type": "code",
   "execution_count": 31,
   "id": "41cd2400-beda-44e5-b21f-ff7fe5f8b430",
   "metadata": {},
   "outputs": [
    {
     "data": {
      "text/html": [
       "<div>\n",
       "<style scoped>\n",
       "    .dataframe tbody tr th:only-of-type {\n",
       "        vertical-align: middle;\n",
       "    }\n",
       "\n",
       "    .dataframe tbody tr th {\n",
       "        vertical-align: top;\n",
       "    }\n",
       "\n",
       "    .dataframe thead th {\n",
       "        text-align: right;\n",
       "    }\n",
       "</style>\n",
       "<table border=\"1\" class=\"dataframe\">\n",
       "  <thead>\n",
       "    <tr style=\"text-align: right;\">\n",
       "      <th></th>\n",
       "      <th>Año</th>\n",
       "      <th>Diagnóstico</th>\n",
       "      <th>Provincia</th>\n",
       "      <th>Provincia_ID</th>\n",
       "      <th>Sexo</th>\n",
       "      <th>Hospitalizaciones</th>\n",
       "    </tr>\n",
       "  </thead>\n",
       "  <tbody>\n",
       "    <tr>\n",
       "      <th>1</th>\n",
       "      <td>2015</td>\n",
       "      <td>Neoplasia maligna de tráquea, bronquios y pulmón</td>\n",
       "      <td>Almería</td>\n",
       "      <td>4</td>\n",
       "      <td>Hombres</td>\n",
       "      <td>3253</td>\n",
       "    </tr>\n",
       "    <tr>\n",
       "      <th>2</th>\n",
       "      <td>2015</td>\n",
       "      <td>Neoplasia maligna de tráquea, bronquios y pulmón</td>\n",
       "      <td>Almería</td>\n",
       "      <td>4</td>\n",
       "      <td>Mujeres</td>\n",
       "      <td>681</td>\n",
       "    </tr>\n",
       "    <tr>\n",
       "      <th>4</th>\n",
       "      <td>2015</td>\n",
       "      <td>Neoplasia maligna de tráquea, bronquios y pulmón</td>\n",
       "      <td>Cádiz</td>\n",
       "      <td>11</td>\n",
       "      <td>Hombres</td>\n",
       "      <td>5947</td>\n",
       "    </tr>\n",
       "    <tr>\n",
       "      <th>5</th>\n",
       "      <td>2015</td>\n",
       "      <td>Neoplasia maligna de tráquea, bronquios y pulmón</td>\n",
       "      <td>Cádiz</td>\n",
       "      <td>11</td>\n",
       "      <td>Mujeres</td>\n",
       "      <td>1406</td>\n",
       "    </tr>\n",
       "    <tr>\n",
       "      <th>7</th>\n",
       "      <td>2015</td>\n",
       "      <td>Neoplasia maligna de tráquea, bronquios y pulmón</td>\n",
       "      <td>Córdoba</td>\n",
       "      <td>14</td>\n",
       "      <td>Hombres</td>\n",
       "      <td>3287</td>\n",
       "    </tr>\n",
       "    <tr>\n",
       "      <th>...</th>\n",
       "      <td>...</td>\n",
       "      <td>...</td>\n",
       "      <td>...</td>\n",
       "      <td>...</td>\n",
       "      <td>...</td>\n",
       "      <td>...</td>\n",
       "    </tr>\n",
       "    <tr>\n",
       "      <th>1709</th>\n",
       "      <td>2015</td>\n",
       "      <td>Neumoconiosis, enfermedades pulmonares por age...</td>\n",
       "      <td>La Rioja</td>\n",
       "      <td>26</td>\n",
       "      <td>Mujeres</td>\n",
       "      <td>7121</td>\n",
       "    </tr>\n",
       "    <tr>\n",
       "      <th>1711</th>\n",
       "      <td>2015</td>\n",
       "      <td>Neumoconiosis, enfermedades pulmonares por age...</td>\n",
       "      <td>Ceuta</td>\n",
       "      <td>51</td>\n",
       "      <td>Hombres</td>\n",
       "      <td>694</td>\n",
       "    </tr>\n",
       "    <tr>\n",
       "      <th>1712</th>\n",
       "      <td>2015</td>\n",
       "      <td>Neumoconiosis, enfermedades pulmonares por age...</td>\n",
       "      <td>Ceuta</td>\n",
       "      <td>51</td>\n",
       "      <td>Mujeres</td>\n",
       "      <td>609</td>\n",
       "    </tr>\n",
       "    <tr>\n",
       "      <th>1714</th>\n",
       "      <td>2015</td>\n",
       "      <td>Neumoconiosis, enfermedades pulmonares por age...</td>\n",
       "      <td>Melilla</td>\n",
       "      <td>52</td>\n",
       "      <td>Hombres</td>\n",
       "      <td>746</td>\n",
       "    </tr>\n",
       "    <tr>\n",
       "      <th>1715</th>\n",
       "      <td>2015</td>\n",
       "      <td>Neumoconiosis, enfermedades pulmonares por age...</td>\n",
       "      <td>Melilla</td>\n",
       "      <td>52</td>\n",
       "      <td>Mujeres</td>\n",
       "      <td>724</td>\n",
       "    </tr>\n",
       "  </tbody>\n",
       "</table>\n",
       "<p>1144 rows × 6 columns</p>\n",
       "</div>"
      ],
      "text/plain": [
       "       Año                                        Diagnóstico Provincia  \\\n",
       "1     2015   Neoplasia maligna de tráquea, bronquios y pulmón   Almería   \n",
       "2     2015   Neoplasia maligna de tráquea, bronquios y pulmón   Almería   \n",
       "4     2015   Neoplasia maligna de tráquea, bronquios y pulmón     Cádiz   \n",
       "5     2015   Neoplasia maligna de tráquea, bronquios y pulmón     Cádiz   \n",
       "7     2015   Neoplasia maligna de tráquea, bronquios y pulmón   Córdoba   \n",
       "...    ...                                                ...       ...   \n",
       "1709  2015  Neumoconiosis, enfermedades pulmonares por age...  La Rioja   \n",
       "1711  2015  Neumoconiosis, enfermedades pulmonares por age...     Ceuta   \n",
       "1712  2015  Neumoconiosis, enfermedades pulmonares por age...     Ceuta   \n",
       "1714  2015  Neumoconiosis, enfermedades pulmonares por age...   Melilla   \n",
       "1715  2015  Neumoconiosis, enfermedades pulmonares por age...   Melilla   \n",
       "\n",
       "      Provincia_ID     Sexo  Hospitalizaciones  \n",
       "1                4  Hombres               3253  \n",
       "2                4  Mujeres                681  \n",
       "4               11  Hombres               5947  \n",
       "5               11  Mujeres               1406  \n",
       "7               14  Hombres               3287  \n",
       "...            ...      ...                ...  \n",
       "1709            26  Mujeres               7121  \n",
       "1711            51  Hombres                694  \n",
       "1712            51  Mujeres                609  \n",
       "1714            52  Hombres                746  \n",
       "1715            52  Mujeres                724  \n",
       "\n",
       "[1144 rows x 6 columns]"
      ]
     },
     "execution_count": 31,
     "metadata": {},
     "output_type": "execute_result"
    }
   ],
   "source": [
    "df15"
   ]
  },
  {
   "cell_type": "code",
   "execution_count": 32,
   "id": "4981e695-d2be-4e3a-8384-91caa63447cd",
   "metadata": {},
   "outputs": [
    {
     "data": {
      "text/plain": [
       "array(['Neoplasia maligna de tráquea, bronquios y pulmón',\n",
       "       'Enfermedades de la circulación pulmonar',\n",
       "       'Otras infecciones de las vias respiratorias inferiores',\n",
       "       'Enfermedad crónica de amígdalas',\n",
       "       'Infecciones/enfermedades de las vías respiratorias superiores y gripe',\n",
       "       'Neumonía', 'EPOC y bronquitis', 'Asma',\n",
       "       'Neumoconiosis, enfermedades pulmonares por agentes externos y otras'],\n",
       "      dtype=object)"
      ]
     },
     "execution_count": 32,
     "metadata": {},
     "output_type": "execute_result"
    }
   ],
   "source": [
    "df15[\"Diagnóstico\"].unique()"
   ]
  },
  {
   "cell_type": "code",
   "execution_count": 33,
   "id": "100eaacb-29e1-4854-a21b-790a4ffeb675",
   "metadata": {},
   "outputs": [],
   "source": [
    "# CREACIÓN COLUMNA DIAGNÓSTICO ID\n",
    "columna_duplicada = df15['Diagnóstico']\n",
    "if 'ColumnaDuplicada' in df15.columns:\n",
    "    df15.drop(columns=['ColumnaDuplicada'], inplace=True)\n",
    "df15.insert(2, 'ColumnaDuplicada', columna_duplicada)"
   ]
  },
  {
   "cell_type": "code",
   "execution_count": 34,
   "id": "dbf1a5d7-db11-4038-91d0-bd5b2c7a4bcc",
   "metadata": {},
   "outputs": [
    {
     "name": "stderr",
     "output_type": "stream",
     "text": [
      "/var/folders/rc/n_wty2zd1nn1yx7fwtj0s5j80000gn/T/ipykernel_10301/3233674369.py:1: SettingWithCopyWarning: \n",
      "A value is trying to be set on a copy of a slice from a DataFrame\n",
      "\n",
      "See the caveats in the documentation: https://pandas.pydata.org/pandas-docs/stable/user_guide/indexing.html#returning-a-view-versus-a-copy\n",
      "  df15.rename(\n"
     ]
    }
   ],
   "source": [
    "df15.rename(\n",
    "    columns = {'ColumnaDuplicada': 'Diagnóstico_ID'},\n",
    "    inplace = True\n",
    ")"
   ]
  },
  {
   "cell_type": "code",
   "execution_count": 35,
   "id": "26005f8a-a194-450a-8996-63ba74856417",
   "metadata": {},
   "outputs": [
    {
     "name": "stderr",
     "output_type": "stream",
     "text": [
      "/var/folders/rc/n_wty2zd1nn1yx7fwtj0s5j80000gn/T/ipykernel_10301/2966987324.py:13: SettingWithCopyWarning: \n",
      "A value is trying to be set on a copy of a slice from a DataFrame.\n",
      "Try using .loc[row_indexer,col_indexer] = value instead\n",
      "\n",
      "See the caveats in the documentation: https://pandas.pydata.org/pandas-docs/stable/user_guide/indexing.html#returning-a-view-versus-a-copy\n",
      "  df15['Diagnóstico_ID'] = df15['Diagnóstico_ID'].map(mapeo_diagnostico)\n"
     ]
    }
   ],
   "source": [
    "mapeo_diagnostico = {\n",
    "    'Neoplasia maligna de tráquea, bronquios y pulmón': 1,\n",
    "    'Enfermedades de la circulación pulmonar':2,\n",
    "    'Enfermedad crónica de amígdalas': 3,\n",
    "    'Neumonía': 4,\n",
    "    'Asma': 5,\n",
    "    'EPOC y bronquitis': 6,\n",
    "    'Infecciones/enfermedades de las vías respiratorias superiores y gripe': 7,\n",
    "    'Otras infecciones de las vias respiratorias inferiores': 8,\n",
    "    'Neumoconiosis, enfermedades pulmonares por agentes externos y otras': 9\n",
    "}\n",
    "\n",
    "df15['Diagnóstico_ID'] = df15['Diagnóstico_ID'].map(mapeo_diagnostico)"
   ]
  },
  {
   "cell_type": "code",
   "execution_count": 36,
   "id": "11ad7ea3-0271-46fd-b169-aeba2c03a48e",
   "metadata": {},
   "outputs": [],
   "source": [
    "df15 = df15.reset_index()"
   ]
  },
  {
   "cell_type": "code",
   "execution_count": 37,
   "id": "a7cc9f17-0c16-4e2b-a607-d49201e0d407",
   "metadata": {},
   "outputs": [],
   "source": [
    "df15.drop('index', axis=1, inplace=True)"
   ]
  },
  {
   "cell_type": "code",
   "execution_count": 38,
   "id": "9e38dd7d-afc3-44f0-b408-5353d6cd9678",
   "metadata": {},
   "outputs": [
    {
     "data": {
      "text/html": [
       "<div>\n",
       "<style scoped>\n",
       "    .dataframe tbody tr th:only-of-type {\n",
       "        vertical-align: middle;\n",
       "    }\n",
       "\n",
       "    .dataframe tbody tr th {\n",
       "        vertical-align: top;\n",
       "    }\n",
       "\n",
       "    .dataframe thead th {\n",
       "        text-align: right;\n",
       "    }\n",
       "</style>\n",
       "<table border=\"1\" class=\"dataframe\">\n",
       "  <thead>\n",
       "    <tr style=\"text-align: right;\">\n",
       "      <th></th>\n",
       "      <th>Año</th>\n",
       "      <th>Diagnóstico</th>\n",
       "      <th>Diagnóstico_ID</th>\n",
       "      <th>Provincia</th>\n",
       "      <th>Provincia_ID</th>\n",
       "      <th>Sexo</th>\n",
       "      <th>Hospitalizaciones</th>\n",
       "    </tr>\n",
       "  </thead>\n",
       "  <tbody>\n",
       "    <tr>\n",
       "      <th>0</th>\n",
       "      <td>2015</td>\n",
       "      <td>Neoplasia maligna de tráquea, bronquios y pulmón</td>\n",
       "      <td>1</td>\n",
       "      <td>Almería</td>\n",
       "      <td>4</td>\n",
       "      <td>Hombres</td>\n",
       "      <td>3253</td>\n",
       "    </tr>\n",
       "    <tr>\n",
       "      <th>1</th>\n",
       "      <td>2015</td>\n",
       "      <td>Neoplasia maligna de tráquea, bronquios y pulmón</td>\n",
       "      <td>1</td>\n",
       "      <td>Almería</td>\n",
       "      <td>4</td>\n",
       "      <td>Mujeres</td>\n",
       "      <td>681</td>\n",
       "    </tr>\n",
       "    <tr>\n",
       "      <th>2</th>\n",
       "      <td>2015</td>\n",
       "      <td>Neoplasia maligna de tráquea, bronquios y pulmón</td>\n",
       "      <td>1</td>\n",
       "      <td>Cádiz</td>\n",
       "      <td>11</td>\n",
       "      <td>Hombres</td>\n",
       "      <td>5947</td>\n",
       "    </tr>\n",
       "    <tr>\n",
       "      <th>3</th>\n",
       "      <td>2015</td>\n",
       "      <td>Neoplasia maligna de tráquea, bronquios y pulmón</td>\n",
       "      <td>1</td>\n",
       "      <td>Cádiz</td>\n",
       "      <td>11</td>\n",
       "      <td>Mujeres</td>\n",
       "      <td>1406</td>\n",
       "    </tr>\n",
       "    <tr>\n",
       "      <th>4</th>\n",
       "      <td>2015</td>\n",
       "      <td>Neoplasia maligna de tráquea, bronquios y pulmón</td>\n",
       "      <td>1</td>\n",
       "      <td>Córdoba</td>\n",
       "      <td>14</td>\n",
       "      <td>Hombres</td>\n",
       "      <td>3287</td>\n",
       "    </tr>\n",
       "    <tr>\n",
       "      <th>...</th>\n",
       "      <td>...</td>\n",
       "      <td>...</td>\n",
       "      <td>...</td>\n",
       "      <td>...</td>\n",
       "      <td>...</td>\n",
       "      <td>...</td>\n",
       "      <td>...</td>\n",
       "    </tr>\n",
       "    <tr>\n",
       "      <th>1139</th>\n",
       "      <td>2015</td>\n",
       "      <td>Neumoconiosis, enfermedades pulmonares por age...</td>\n",
       "      <td>9</td>\n",
       "      <td>La Rioja</td>\n",
       "      <td>26</td>\n",
       "      <td>Mujeres</td>\n",
       "      <td>7121</td>\n",
       "    </tr>\n",
       "    <tr>\n",
       "      <th>1140</th>\n",
       "      <td>2015</td>\n",
       "      <td>Neumoconiosis, enfermedades pulmonares por age...</td>\n",
       "      <td>9</td>\n",
       "      <td>Ceuta</td>\n",
       "      <td>51</td>\n",
       "      <td>Hombres</td>\n",
       "      <td>694</td>\n",
       "    </tr>\n",
       "    <tr>\n",
       "      <th>1141</th>\n",
       "      <td>2015</td>\n",
       "      <td>Neumoconiosis, enfermedades pulmonares por age...</td>\n",
       "      <td>9</td>\n",
       "      <td>Ceuta</td>\n",
       "      <td>51</td>\n",
       "      <td>Mujeres</td>\n",
       "      <td>609</td>\n",
       "    </tr>\n",
       "    <tr>\n",
       "      <th>1142</th>\n",
       "      <td>2015</td>\n",
       "      <td>Neumoconiosis, enfermedades pulmonares por age...</td>\n",
       "      <td>9</td>\n",
       "      <td>Melilla</td>\n",
       "      <td>52</td>\n",
       "      <td>Hombres</td>\n",
       "      <td>746</td>\n",
       "    </tr>\n",
       "    <tr>\n",
       "      <th>1143</th>\n",
       "      <td>2015</td>\n",
       "      <td>Neumoconiosis, enfermedades pulmonares por age...</td>\n",
       "      <td>9</td>\n",
       "      <td>Melilla</td>\n",
       "      <td>52</td>\n",
       "      <td>Mujeres</td>\n",
       "      <td>724</td>\n",
       "    </tr>\n",
       "  </tbody>\n",
       "</table>\n",
       "<p>1144 rows × 7 columns</p>\n",
       "</div>"
      ],
      "text/plain": [
       "       Año                                        Diagnóstico  Diagnóstico_ID  \\\n",
       "0     2015   Neoplasia maligna de tráquea, bronquios y pulmón               1   \n",
       "1     2015   Neoplasia maligna de tráquea, bronquios y pulmón               1   \n",
       "2     2015   Neoplasia maligna de tráquea, bronquios y pulmón               1   \n",
       "3     2015   Neoplasia maligna de tráquea, bronquios y pulmón               1   \n",
       "4     2015   Neoplasia maligna de tráquea, bronquios y pulmón               1   \n",
       "...    ...                                                ...             ...   \n",
       "1139  2015  Neumoconiosis, enfermedades pulmonares por age...               9   \n",
       "1140  2015  Neumoconiosis, enfermedades pulmonares por age...               9   \n",
       "1141  2015  Neumoconiosis, enfermedades pulmonares por age...               9   \n",
       "1142  2015  Neumoconiosis, enfermedades pulmonares por age...               9   \n",
       "1143  2015  Neumoconiosis, enfermedades pulmonares por age...               9   \n",
       "\n",
       "     Provincia  Provincia_ID     Sexo  Hospitalizaciones  \n",
       "0      Almería             4  Hombres               3253  \n",
       "1      Almería             4  Mujeres                681  \n",
       "2        Cádiz            11  Hombres               5947  \n",
       "3        Cádiz            11  Mujeres               1406  \n",
       "4      Córdoba            14  Hombres               3287  \n",
       "...        ...           ...      ...                ...  \n",
       "1139  La Rioja            26  Mujeres               7121  \n",
       "1140     Ceuta            51  Hombres                694  \n",
       "1141     Ceuta            51  Mujeres                609  \n",
       "1142   Melilla            52  Hombres                746  \n",
       "1143   Melilla            52  Mujeres                724  \n",
       "\n",
       "[1144 rows x 7 columns]"
      ]
     },
     "execution_count": 38,
     "metadata": {},
     "output_type": "execute_result"
    }
   ],
   "source": [
    "df15"
   ]
  },
  {
   "cell_type": "code",
   "execution_count": 39,
   "id": "42121acd-d482-4002-8cf5-75dc1867ba41",
   "metadata": {},
   "outputs": [],
   "source": [
    "df15 = df15.groupby(['Diagnóstico_ID','Año','Diagnóstico','Sexo','Provincia','Provincia_ID'])['Hospitalizaciones'].sum().reset_index()"
   ]
  },
  {
   "cell_type": "code",
   "execution_count": 41,
   "id": "92c921ea-2f04-4d51-a4ed-e6546c30da30",
   "metadata": {},
   "outputs": [],
   "source": [
    "df15.to_csv(\"df15.csv\", index=False, encoding=\"iso-8859-1\")"
   ]
  },
  {
   "cell_type": "code",
   "execution_count": null,
   "id": "9ca2a715-83c0-49b6-be84-08603271db78",
   "metadata": {},
   "outputs": [],
   "source": []
  }
 ],
 "metadata": {
  "kernelspec": {
   "display_name": "Python 3 (ipykernel)",
   "language": "python",
   "name": "python3"
  },
  "language_info": {
   "codemirror_mode": {
    "name": "ipython",
    "version": 3
   },
   "file_extension": ".py",
   "mimetype": "text/x-python",
   "name": "python",
   "nbconvert_exporter": "python",
   "pygments_lexer": "ipython3",
   "version": "3.12.4"
  }
 },
 "nbformat": 4,
 "nbformat_minor": 5
}
