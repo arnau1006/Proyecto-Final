{
 "cells": [
  {
   "cell_type": "markdown",
   "id": "d4bcf433-ce62-4bd8-925f-18a086ee7507",
   "metadata": {},
   "source": [
    "# Limpieza datos Censo Poblacion"
   ]
  },
  {
   "cell_type": "code",
   "execution_count": 2,
   "id": "5aca2f4a-f50d-49dc-a58c-68e337f524d6",
   "metadata": {},
   "outputs": [],
   "source": [
    "import numpy as np\n",
    "import pandas as pd\n",
    "import matplotlib.pyplot as plt\n",
    "import statsmodels.formula.api as snf\n",
    "import seaborn as sns"
   ]
  },
  {
   "cell_type": "code",
   "execution_count": 4,
   "id": "8dbac9cd-aeef-470f-91f4-28ab6af30070",
   "metadata": {},
   "outputs": [],
   "source": [
    "Poblacion = pd.read_csv(\"Poblacion.csv\", delimiter= \";\", encoding = \"latin1\")\n",
    "\n",
    "Poblacion.columns = Poblacion.columns.str.strip()"
   ]
  },
  {
   "cell_type": "code",
   "execution_count": 6,
   "id": "cc722fa4-402b-4b29-898e-89e37d026d6f",
   "metadata": {},
   "outputs": [
    {
     "data": {
      "text/html": [
       "<div>\n",
       "<style scoped>\n",
       "    .dataframe tbody tr th:only-of-type {\n",
       "        vertical-align: middle;\n",
       "    }\n",
       "\n",
       "    .dataframe tbody tr th {\n",
       "        vertical-align: top;\n",
       "    }\n",
       "\n",
       "    .dataframe thead th {\n",
       "        text-align: right;\n",
       "    }\n",
       "</style>\n",
       "<table border=\"1\" class=\"dataframe\">\n",
       "  <thead>\n",
       "    <tr style=\"text-align: right;\">\n",
       "      <th></th>\n",
       "      <th>Edad simple</th>\n",
       "      <th>Sexo</th>\n",
       "      <th>Provincias</th>\n",
       "      <th>Periodo</th>\n",
       "      <th>Total</th>\n",
       "    </tr>\n",
       "  </thead>\n",
       "  <tbody>\n",
       "    <tr>\n",
       "      <th>0</th>\n",
       "      <td>Todas las edades</td>\n",
       "      <td>Total</td>\n",
       "      <td>02 Albacete</td>\n",
       "      <td>1 de enero de 2021</td>\n",
       "      <td>386.726</td>\n",
       "    </tr>\n",
       "    <tr>\n",
       "      <th>1</th>\n",
       "      <td>Todas las edades</td>\n",
       "      <td>Total</td>\n",
       "      <td>02 Albacete</td>\n",
       "      <td>1 de enero de 2020</td>\n",
       "      <td>387.838</td>\n",
       "    </tr>\n",
       "    <tr>\n",
       "      <th>2</th>\n",
       "      <td>Todas las edades</td>\n",
       "      <td>Total</td>\n",
       "      <td>02 Albacete</td>\n",
       "      <td>1 de enero de 2019</td>\n",
       "      <td>387.818</td>\n",
       "    </tr>\n",
       "    <tr>\n",
       "      <th>3</th>\n",
       "      <td>Todas las edades</td>\n",
       "      <td>Total</td>\n",
       "      <td>02 Albacete</td>\n",
       "      <td>1 de enero de 2018</td>\n",
       "      <td>388.948</td>\n",
       "    </tr>\n",
       "    <tr>\n",
       "      <th>4</th>\n",
       "      <td>Todas las edades</td>\n",
       "      <td>Total</td>\n",
       "      <td>02 Albacete</td>\n",
       "      <td>1 de enero de 2017</td>\n",
       "      <td>390.225</td>\n",
       "    </tr>\n",
       "  </tbody>\n",
       "</table>\n",
       "</div>"
      ],
      "text/plain": [
       "        Edad simple   Sexo   Provincias             Periodo    Total\n",
       "0  Todas las edades  Total  02 Albacete  1 de enero de 2021  386.726\n",
       "1  Todas las edades  Total  02 Albacete  1 de enero de 2020  387.838\n",
       "2  Todas las edades  Total  02 Albacete  1 de enero de 2019  387.818\n",
       "3  Todas las edades  Total  02 Albacete  1 de enero de 2018  388.948\n",
       "4  Todas las edades  Total  02 Albacete  1 de enero de 2017  390.225"
      ]
     },
     "execution_count": 6,
     "metadata": {},
     "output_type": "execute_result"
    }
   ],
   "source": [
    "Poblacion.head(5)"
   ]
  },
  {
   "cell_type": "code",
   "execution_count": 8,
   "id": "6e73998b-1242-47d0-bc5f-10075bd3563b",
   "metadata": {},
   "outputs": [
    {
     "name": "stdout",
     "output_type": "stream",
     "text": [
      "Index(['Edad simple', 'Sexo', 'Provincias', 'Periodo', 'Total'], dtype='object')\n"
     ]
    }
   ],
   "source": [
    "print(Poblacion.columns)"
   ]
  },
  {
   "cell_type": "code",
   "execution_count": 10,
   "id": "83f16cc8-c2ab-4388-a5af-f1d5a2c72e15",
   "metadata": {},
   "outputs": [
    {
     "data": {
      "text/plain": [
       "(1560, 5)"
      ]
     },
     "execution_count": 10,
     "metadata": {},
     "output_type": "execute_result"
    }
   ],
   "source": [
    "Poblacion.shape"
   ]
  },
  {
   "cell_type": "code",
   "execution_count": 12,
   "id": "d08fd156-a182-46ae-af11-b0243983d801",
   "metadata": {},
   "outputs": [
    {
     "data": {
      "text/plain": [
       "Edad simple    object\n",
       "Sexo           object\n",
       "Provincias     object\n",
       "Periodo        object\n",
       "Total          object\n",
       "dtype: object"
      ]
     },
     "execution_count": 12,
     "metadata": {},
     "output_type": "execute_result"
    }
   ],
   "source": [
    "Poblacion.dtypes"
   ]
  },
  {
   "cell_type": "code",
   "execution_count": 14,
   "id": "e00a417b-9ac4-4025-af92-ff5e94f95cc7",
   "metadata": {},
   "outputs": [],
   "source": [
    "# Limpieza columna total \n",
    "\n",
    "Poblacion['Total'] = Poblacion['Total'].str.replace(r'[^\\d]', '', regex=True)\n",
    "Poblacion['Total'] = pd.to_numeric(Poblacion['Total'], errors='coerce').fillna(0).astype(int)\n"
   ]
  },
  {
   "cell_type": "code",
   "execution_count": 16,
   "id": "1f426bae-c9c6-4529-afbf-329a06cd1b26",
   "metadata": {},
   "outputs": [],
   "source": [
    "Poblacion = Poblacion.rename(columns={'Total':'Habitantes'})"
   ]
  },
  {
   "cell_type": "code",
   "execution_count": 18,
   "id": "692c261c-904d-4c89-a5db-fd3d15d863b8",
   "metadata": {},
   "outputs": [
    {
     "data": {
      "text/plain": [
       "0    386726\n",
       "1    387838\n",
       "2    387818\n",
       "3    388948\n",
       "4    390225\n",
       "5    391865\n",
       "6    394012\n",
       "7    396017\n",
       "8    399093\n",
       "9    401590\n",
       "Name: Habitantes, dtype: int32"
      ]
     },
     "execution_count": 18,
     "metadata": {},
     "output_type": "execute_result"
    }
   ],
   "source": [
    "Poblacion['Habitantes'].head(10)"
   ]
  },
  {
   "cell_type": "code",
   "execution_count": 20,
   "id": "9ab46d8e-72c9-40ae-920a-d70b75faad57",
   "metadata": {},
   "outputs": [
    {
     "data": {
      "text/plain": [
       "Edad simple    object\n",
       "Sexo           object\n",
       "Provincias     object\n",
       "Periodo        object\n",
       "Habitantes      int32\n",
       "dtype: object"
      ]
     },
     "execution_count": 20,
     "metadata": {},
     "output_type": "execute_result"
    }
   ],
   "source": [
    "Poblacion.dtypes"
   ]
  },
  {
   "cell_type": "code",
   "execution_count": 22,
   "id": "0606367a-d8be-4185-b440-0cfd69214df5",
   "metadata": {},
   "outputs": [
    {
     "data": {
      "text/plain": [
       "array(['1 de enero de 2021', '1 de enero de 2020', '1 de enero de 2019',\n",
       "       '1 de enero de 2018', '1 de enero de 2017', '1 de enero de 2016',\n",
       "       '1 de enero de 2015', '1 de enero de 2014', '1 de enero de 2013',\n",
       "       '1 de enero de 2012'], dtype=object)"
      ]
     },
     "execution_count": 22,
     "metadata": {},
     "output_type": "execute_result"
    }
   ],
   "source": [
    "Poblacion['Periodo'].unique()"
   ]
  },
  {
   "cell_type": "code",
   "execution_count": 24,
   "id": "640f7936-6ac6-4a05-b712-b913cffc9a17",
   "metadata": {},
   "outputs": [],
   "source": [
    "mapeo_periodo = {\n",
    "    \"1 de enero de 2021\": 2021,\n",
    "    \"1 de enero de 2020\": 2020,\n",
    "    \"1 de enero de 2019\": 2019,\n",
    "    \"1 de enero de 2018\": 2018,\n",
    "    \"1 de enero de 2017\": 2017,\n",
    "    \"1 de enero de 2016\": 2016,\n",
    "    \"1 de enero de 2015\": 2015,\n",
    "    \"1 de enero de 2014\": 2014,\n",
    "    \"1 de enero de 2013\": 2013,\n",
    "    \"1 de enero de 2012\": 2012\n",
    "}\n",
    "Poblacion['Periodo'] = Poblacion['Periodo'].map(mapeo_periodo)"
   ]
  },
  {
   "cell_type": "code",
   "execution_count": 26,
   "id": "097eef33-f14b-4d5c-8f56-8cce6544a69b",
   "metadata": {},
   "outputs": [
    {
     "data": {
      "text/plain": [
       "0    2021\n",
       "1    2020\n",
       "2    2019\n",
       "3    2018\n",
       "4    2017\n",
       "Name: Periodo, dtype: int64"
      ]
     },
     "execution_count": 26,
     "metadata": {},
     "output_type": "execute_result"
    }
   ],
   "source": [
    "Poblacion['Periodo'].head()"
   ]
  },
  {
   "cell_type": "code",
   "execution_count": 28,
   "id": "dc850c1e-930c-4202-a3a0-dc6baced2611",
   "metadata": {},
   "outputs": [],
   "source": [
    "Poblacion['Periodo'] = pd.to_datetime(Poblacion['Periodo'], format='%Y')\n"
   ]
  },
  {
   "cell_type": "code",
   "execution_count": 30,
   "id": "2159feb2-f0b8-4cda-84ae-70bdf1823fde",
   "metadata": {},
   "outputs": [
    {
     "data": {
      "text/plain": [
       "Edad simple            object\n",
       "Sexo                   object\n",
       "Provincias             object\n",
       "Periodo        datetime64[ns]\n",
       "Habitantes              int32\n",
       "dtype: object"
      ]
     },
     "execution_count": 30,
     "metadata": {},
     "output_type": "execute_result"
    }
   ],
   "source": [
    "Poblacion.dtypes"
   ]
  },
  {
   "cell_type": "code",
   "execution_count": 32,
   "id": "f5975758-2d13-4bc4-b2a6-d3a2a1103473",
   "metadata": {},
   "outputs": [],
   "source": [
    "Poblacion = Poblacion.drop(columns=['Edad simple'])"
   ]
  },
  {
   "cell_type": "code",
   "execution_count": 34,
   "id": "ef749394-ada7-425f-8420-497ebfb5a590",
   "metadata": {},
   "outputs": [],
   "source": [
    "Poblacion = Poblacion .rename(columns={'Periodo': 'Año'})\n"
   ]
  },
  {
   "cell_type": "code",
   "execution_count": 36,
   "id": "5a49b5a5-2e55-4cf7-a1c2-599b79f3fe26",
   "metadata": {},
   "outputs": [],
   "source": [
    "Poblacion['Año'] = pd.to_datetime(Poblacion['Año'], errors='coerce')\n",
    "Poblacion['Año'] = Poblacion['Año'].dt.year\n"
   ]
  },
  {
   "cell_type": "code",
   "execution_count": 38,
   "id": "d66d2ec5-44e5-4a4f-bc5d-b1a3b23b5d75",
   "metadata": {},
   "outputs": [
    {
     "data": {
      "text/html": [
       "<div>\n",
       "<style scoped>\n",
       "    .dataframe tbody tr th:only-of-type {\n",
       "        vertical-align: middle;\n",
       "    }\n",
       "\n",
       "    .dataframe tbody tr th {\n",
       "        vertical-align: top;\n",
       "    }\n",
       "\n",
       "    .dataframe thead th {\n",
       "        text-align: right;\n",
       "    }\n",
       "</style>\n",
       "<table border=\"1\" class=\"dataframe\">\n",
       "  <thead>\n",
       "    <tr style=\"text-align: right;\">\n",
       "      <th></th>\n",
       "      <th>Sexo</th>\n",
       "      <th>Provincias</th>\n",
       "      <th>Año</th>\n",
       "      <th>Habitantes</th>\n",
       "    </tr>\n",
       "  </thead>\n",
       "  <tbody>\n",
       "    <tr>\n",
       "      <th>0</th>\n",
       "      <td>Total</td>\n",
       "      <td>02 Albacete</td>\n",
       "      <td>2021</td>\n",
       "      <td>386726</td>\n",
       "    </tr>\n",
       "    <tr>\n",
       "      <th>1</th>\n",
       "      <td>Total</td>\n",
       "      <td>02 Albacete</td>\n",
       "      <td>2020</td>\n",
       "      <td>387838</td>\n",
       "    </tr>\n",
       "    <tr>\n",
       "      <th>2</th>\n",
       "      <td>Total</td>\n",
       "      <td>02 Albacete</td>\n",
       "      <td>2019</td>\n",
       "      <td>387818</td>\n",
       "    </tr>\n",
       "    <tr>\n",
       "      <th>3</th>\n",
       "      <td>Total</td>\n",
       "      <td>02 Albacete</td>\n",
       "      <td>2018</td>\n",
       "      <td>388948</td>\n",
       "    </tr>\n",
       "    <tr>\n",
       "      <th>4</th>\n",
       "      <td>Total</td>\n",
       "      <td>02 Albacete</td>\n",
       "      <td>2017</td>\n",
       "      <td>390225</td>\n",
       "    </tr>\n",
       "  </tbody>\n",
       "</table>\n",
       "</div>"
      ],
      "text/plain": [
       "    Sexo   Provincias   Año  Habitantes\n",
       "0  Total  02 Albacete  2021      386726\n",
       "1  Total  02 Albacete  2020      387838\n",
       "2  Total  02 Albacete  2019      387818\n",
       "3  Total  02 Albacete  2018      388948\n",
       "4  Total  02 Albacete  2017      390225"
      ]
     },
     "execution_count": 38,
     "metadata": {},
     "output_type": "execute_result"
    }
   ],
   "source": [
    "Poblacion.head()"
   ]
  },
  {
   "cell_type": "code",
   "execution_count": 40,
   "id": "b540778b-cb23-49e9-bab2-2ecedd8db741",
   "metadata": {},
   "outputs": [],
   "source": [
    "columna_duplicada = Poblacion['Provincias']\n",
    "if 'ColumnaDuplicada' in Poblacion.columns:\n",
    "    Poblacion.drop(columns=['ColumnaDuplicada'], inplace=True)\n",
    "Poblacion.insert(2, 'ColumnaDuplicada', columna_duplicada)"
   ]
  },
  {
   "cell_type": "code",
   "execution_count": 42,
   "id": "f2e5089f-b418-45b7-bf32-08c43a33c37b",
   "metadata": {},
   "outputs": [],
   "source": [
    "Poblacion.rename(\n",
    "    columns = {'ColumnaDuplicada': 'Provincia_ID'},\n",
    "    inplace = True\n",
    ")"
   ]
  },
  {
   "cell_type": "code",
   "execution_count": 44,
   "id": "e8b802b8-d2e9-4dc9-ab3a-9928501a097e",
   "metadata": {},
   "outputs": [],
   "source": [
    "columna_fecha = Poblacion.pop('Año')\n",
    "Poblacion.insert(0, 'Año', columna_fecha)"
   ]
  },
  {
   "cell_type": "code",
   "execution_count": 46,
   "id": "0b14cc23-63d9-46dc-82a7-d899155676e6",
   "metadata": {},
   "outputs": [],
   "source": [
    "columna_Sexo = Poblacion.pop('Sexo')\n",
    "Poblacion.insert(3, 'Sexo', columna_Sexo)"
   ]
  },
  {
   "cell_type": "code",
   "execution_count": 48,
   "id": "2691d99b-bc91-4bfd-b85e-18e686d8feb7",
   "metadata": {},
   "outputs": [
    {
     "data": {
      "text/html": [
       "<div>\n",
       "<style scoped>\n",
       "    .dataframe tbody tr th:only-of-type {\n",
       "        vertical-align: middle;\n",
       "    }\n",
       "\n",
       "    .dataframe tbody tr th {\n",
       "        vertical-align: top;\n",
       "    }\n",
       "\n",
       "    .dataframe thead th {\n",
       "        text-align: right;\n",
       "    }\n",
       "</style>\n",
       "<table border=\"1\" class=\"dataframe\">\n",
       "  <thead>\n",
       "    <tr style=\"text-align: right;\">\n",
       "      <th></th>\n",
       "      <th>Año</th>\n",
       "      <th>Provincias</th>\n",
       "      <th>Provincia_ID</th>\n",
       "      <th>Sexo</th>\n",
       "      <th>Habitantes</th>\n",
       "    </tr>\n",
       "  </thead>\n",
       "  <tbody>\n",
       "    <tr>\n",
       "      <th>0</th>\n",
       "      <td>2021</td>\n",
       "      <td>02 Albacete</td>\n",
       "      <td>02 Albacete</td>\n",
       "      <td>Total</td>\n",
       "      <td>386726</td>\n",
       "    </tr>\n",
       "    <tr>\n",
       "      <th>1</th>\n",
       "      <td>2020</td>\n",
       "      <td>02 Albacete</td>\n",
       "      <td>02 Albacete</td>\n",
       "      <td>Total</td>\n",
       "      <td>387838</td>\n",
       "    </tr>\n",
       "    <tr>\n",
       "      <th>2</th>\n",
       "      <td>2019</td>\n",
       "      <td>02 Albacete</td>\n",
       "      <td>02 Albacete</td>\n",
       "      <td>Total</td>\n",
       "      <td>387818</td>\n",
       "    </tr>\n",
       "  </tbody>\n",
       "</table>\n",
       "</div>"
      ],
      "text/plain": [
       "    Año   Provincias Provincia_ID   Sexo  Habitantes\n",
       "0  2021  02 Albacete  02 Albacete  Total      386726\n",
       "1  2020  02 Albacete  02 Albacete  Total      387838\n",
       "2  2019  02 Albacete  02 Albacete  Total      387818"
      ]
     },
     "execution_count": 48,
     "metadata": {},
     "output_type": "execute_result"
    }
   ],
   "source": [
    "Poblacion.head(3)"
   ]
  },
  {
   "cell_type": "code",
   "execution_count": 50,
   "id": "1c1458f9-2bea-4dde-a9a8-d659519a016c",
   "metadata": {},
   "outputs": [],
   "source": [
    "Poblacion.rename(columns= {'Provincias':'Provincia'}, inplace=True)"
   ]
  },
  {
   "cell_type": "code",
   "execution_count": 52,
   "id": "6796bb77-c43d-4ff0-9a96-d42b9826d422",
   "metadata": {},
   "outputs": [
    {
     "data": {
      "text/html": [
       "<div>\n",
       "<style scoped>\n",
       "    .dataframe tbody tr th:only-of-type {\n",
       "        vertical-align: middle;\n",
       "    }\n",
       "\n",
       "    .dataframe tbody tr th {\n",
       "        vertical-align: top;\n",
       "    }\n",
       "\n",
       "    .dataframe thead th {\n",
       "        text-align: right;\n",
       "    }\n",
       "</style>\n",
       "<table border=\"1\" class=\"dataframe\">\n",
       "  <thead>\n",
       "    <tr style=\"text-align: right;\">\n",
       "      <th></th>\n",
       "      <th>Año</th>\n",
       "      <th>Provincia</th>\n",
       "      <th>Provincia_ID</th>\n",
       "      <th>Sexo</th>\n",
       "      <th>Habitantes</th>\n",
       "    </tr>\n",
       "  </thead>\n",
       "  <tbody>\n",
       "    <tr>\n",
       "      <th>0</th>\n",
       "      <td>2021</td>\n",
       "      <td>02 Albacete</td>\n",
       "      <td>02 Albacete</td>\n",
       "      <td>Total</td>\n",
       "      <td>386726</td>\n",
       "    </tr>\n",
       "    <tr>\n",
       "      <th>1</th>\n",
       "      <td>2020</td>\n",
       "      <td>02 Albacete</td>\n",
       "      <td>02 Albacete</td>\n",
       "      <td>Total</td>\n",
       "      <td>387838</td>\n",
       "    </tr>\n",
       "    <tr>\n",
       "      <th>2</th>\n",
       "      <td>2019</td>\n",
       "      <td>02 Albacete</td>\n",
       "      <td>02 Albacete</td>\n",
       "      <td>Total</td>\n",
       "      <td>387818</td>\n",
       "    </tr>\n",
       "  </tbody>\n",
       "</table>\n",
       "</div>"
      ],
      "text/plain": [
       "    Año    Provincia Provincia_ID   Sexo  Habitantes\n",
       "0  2021  02 Albacete  02 Albacete  Total      386726\n",
       "1  2020  02 Albacete  02 Albacete  Total      387838\n",
       "2  2019  02 Albacete  02 Albacete  Total      387818"
      ]
     },
     "execution_count": 52,
     "metadata": {},
     "output_type": "execute_result"
    }
   ],
   "source": [
    "Poblacion.head(3)"
   ]
  },
  {
   "cell_type": "code",
   "execution_count": 54,
   "id": "d03813ee-4b5f-434b-9c77-d6e22af50d82",
   "metadata": {},
   "outputs": [
    {
     "data": {
      "text/plain": [
       "array(['02 Albacete', '03 Alicante/Alacant', '04 Almería',\n",
       "       '01 Araba/Álava', '33 Asturias', '05 Ávila', '06 Badajoz',\n",
       "       '07 Balears, Illes', '08 Barcelona', '48 Bizkaia', '09 Burgos',\n",
       "       '10 Cáceres', '11 Cádiz', '39 Cantabria', '12 Castellón/Castelló',\n",
       "       '13 Ciudad Real', '14 Córdoba', '15 Coruña, A', '16 Cuenca',\n",
       "       '20 Gipuzkoa', '17 Girona', '18 Granada', '19 Guadalajara',\n",
       "       '21 Huelva', '22 Huesca', '23 Jaén', '24 León', '25 Lleida',\n",
       "       '27 Lugo', '28 Madrid', '29 Málaga', '30 Murcia', '31 Navarra',\n",
       "       '32 Ourense', '34 Palencia', '35 Palmas, Las', '36 Pontevedra',\n",
       "       '26 Rioja, La', '37 Salamanca', '38 Santa Cruz de Tenerife',\n",
       "       '40 Segovia', '41 Sevilla', '42 Soria', '43 Tarragona',\n",
       "       '44 Teruel', '45 Toledo', '46 Valencia/València', '47 Valladolid',\n",
       "       '49 Zamora', '50 Zaragoza', '51 Ceuta', '52 Melilla'], dtype=object)"
      ]
     },
     "execution_count": 54,
     "metadata": {},
     "output_type": "execute_result"
    }
   ],
   "source": [
    "Poblacion['Provincia'].unique()"
   ]
  },
  {
   "cell_type": "code",
   "execution_count": 56,
   "id": "425f840d-edf1-441f-b41d-d021f11b5be0",
   "metadata": {},
   "outputs": [],
   "source": [
    "mapeo_provincias2 = {\n",
    "    \"01 Araba/Álava\": \"Álava\",\n",
    "    \"02 Albacete\": \"Albacete\",\n",
    "    \"03 Alicante/Alacant\": \"Alicante\",\n",
    "    \"04 Almería\": \"Almería\",\n",
    "    \"05 Ávila\": \"Ávila\",\n",
    "    \"06 Badajoz\": \"Badajoz\",\n",
    "    \"07 Balears, Illes\": \"Islas Baleares\",\n",
    "    \"08 Barcelona\": \"Barcelona\",\n",
    "    \"09 Burgos\": \"Burgos\",\n",
    "    \"10 Cáceres\": \"Cáceres\",\n",
    "    \"11 Cádiz\": \"Cádiz\",\n",
    "    \"12 Castellón/Castelló\": \"Castellón\",\n",
    "    \"13 Ciudad Real\": \"Ciudad Real\",\n",
    "    \"14 Córdoba\": \"Córdoba\",\n",
    "    \"15 Coruña, A\": \"A Coruña\",\n",
    "    \"16 Cuenca\": \"Cuenca\",\n",
    "    \"17 Girona\": \"Girona\",\n",
    "    \"18 Granada\": \"Granada\",\n",
    "    \"19 Guadalajara\": \"Guadalajara\",\n",
    "    \"20 Gipuzkoa\": \"Gipuzkoa\",\n",
    "    \"21 Huelva\": \"Huelva\",\n",
    "    \"22 Huesca\": \"Huesca\",\n",
    "    \"23 Jaén\": \"Jaén\",\n",
    "    \"24 León\": \"León\",\n",
    "    \"25 Lleida\": \"Lleida\",\n",
    "    \"26 Rioja, La\": \"La Rioja\",\n",
    "    \"27 Lugo\": \"Lugo\",\n",
    "    \"28 Madrid\": \"Madrid\",\n",
    "    \"29 Málaga\": \"Málaga\",\n",
    "    \"30 Murcia\": \"Murcia\",\n",
    "    \"31 Navarra\": \"Navarra\",\n",
    "    \"32 Ourense\": \"Ourense\",\n",
    "    \"33 Asturias\": \"Asturias\",\n",
    "    \"34 Palencia\": \"Palencia\",\n",
    "    \"35 Palmas, Las\": \"Islas Canarias\",\n",
    "    \"36 Pontevedra\": \"Pontevedra\",\n",
    "    \"37 Salamanca\": \"Salamanca\",\n",
    "    \"38 Santa Cruz de Tenerife\": \"Islas Canarias\",\n",
    "    \"39 Cantabria\": \"Cantabria\",\n",
    "    \"40 Segovia\": \"Segovia\",\n",
    "    \"41 Sevilla\": \"Sevilla\",\n",
    "    \"42 Soria\": \"Soria\",\n",
    "    \"43 Tarragona\": \"Tarragona\",\n",
    "    \"44 Teruel\": \"Teruel\",\n",
    "    \"45 Toledo\": \"Toledo\",\n",
    "    \"46 Valencia/València\": \"Valencia\",\n",
    "    \"47 Valladolid\": \"Valladolid\",\n",
    "    \"48 Bizkaia\": \"Bizkaia\",\n",
    "    \"49 Zamora\": \"Zamora\",\n",
    "    \"50 Zaragoza\": \"Zaragoza\",\n",
    "    \"51 Ceuta\": \"Ceuta\",\n",
    "    \"52 Melilla\": \"Melilla\"\n",
    "}\n",
    "\n",
    "Poblacion['Provincia'] = Poblacion['Provincia'].map(mapeo_provincias2)"
   ]
  },
  {
   "cell_type": "code",
   "execution_count": 58,
   "id": "2b7858cc-2480-42c5-8bf0-f95cd6e16b8a",
   "metadata": {},
   "outputs": [],
   "source": [
    "mapeo_provinciasID = {\n",
    "    \"01 Araba/Álava\": 1,\n",
    "    \"02 Albacete\": 2,\n",
    "    \"03 Alicante/Alacant\": 3,\n",
    "    \"04 Almería\": 4,\n",
    "    \"05 Ávila\": 5,\n",
    "    \"06 Badajoz\": 6,\n",
    "    \"07 Balears, Illes\": 7,\n",
    "    \"08 Barcelona\": 8,\n",
    "    \"09 Burgos\": 9,\n",
    "    \"10 Cáceres\": 10,\n",
    "    \"11 Cádiz\": 11,\n",
    "    \"12 Castellón/Castelló\": 12,\n",
    "    \"13 Ciudad Real\": 13,\n",
    "    \"14 Córdoba\": 14,\n",
    "    \"15 Coruña, A\": 15,\n",
    "    \"16 Cuenca\": 16,\n",
    "    \"17 Girona\": 17,\n",
    "    \"18 Granada\": 18,\n",
    "    \"19 Guadalajara\": 19,\n",
    "    \"20 Gipuzkoa\": 20,\n",
    "    \"21 Huelva\": 21,\n",
    "    \"22 Huesca\": 22,\n",
    "    \"23 Jaén\": 23,\n",
    "    \"24 León\": 24,\n",
    "    \"25 Lleida\": 25,\n",
    "    \"26 Rioja, La\": 26,\n",
    "    \"27 Lugo\": 27,\n",
    "    \"28 Madrid\": 28,\n",
    "    \"29 Málaga\": 29,\n",
    "    \"30 Murcia\": 30,\n",
    "    \"31 Navarra\": 31,\n",
    "    \"32 Ourense\": 32,\n",
    "    \"33 Asturias\": 33,\n",
    "    \"34 Palencia\": 34,\n",
    "    \"35 Palmas, Las\": 36,\n",
    "    \"36 Pontevedra\": 37,\n",
    "    \"37 Salamanca\": 38,\n",
    "    \"38 Santa Cruz de Tenerife\": 38,\n",
    "    \"39 Cantabria\": 39,\n",
    "    \"40 Segovia\": 40,\n",
    "    \"41 Sevilla\": 41,\n",
    "    \"42 Soria\": 42,\n",
    "    \"43 Tarragona\": 43,\n",
    "    \"44 Teruel\": 44,\n",
    "    \"45 Toledo\": 45,\n",
    "    \"46 Valencia/València\": 46,\n",
    "    \"47 Valladolid\": 47,\n",
    "    \"48 Bizkaia\": 48,\n",
    "    \"49 Zamora\": 49,\n",
    "    \"50 Zaragoza\": 50,\n",
    "    \"51 Ceuta\": 51,\n",
    "    \"52 Melilla\": 52\n",
    "}\n",
    "\n",
    "Poblacion['Provincia_ID'] = Poblacion['Provincia_ID'].map(mapeo_provinciasID)"
   ]
  },
  {
   "cell_type": "code",
   "execution_count": 60,
   "id": "3a518501-e2f9-4075-989d-a740955c5ca2",
   "metadata": {},
   "outputs": [
    {
     "data": {
      "text/html": [
       "<div>\n",
       "<style scoped>\n",
       "    .dataframe tbody tr th:only-of-type {\n",
       "        vertical-align: middle;\n",
       "    }\n",
       "\n",
       "    .dataframe tbody tr th {\n",
       "        vertical-align: top;\n",
       "    }\n",
       "\n",
       "    .dataframe thead th {\n",
       "        text-align: right;\n",
       "    }\n",
       "</style>\n",
       "<table border=\"1\" class=\"dataframe\">\n",
       "  <thead>\n",
       "    <tr style=\"text-align: right;\">\n",
       "      <th></th>\n",
       "      <th>Año</th>\n",
       "      <th>Provincia</th>\n",
       "      <th>Provincia_ID</th>\n",
       "      <th>Sexo</th>\n",
       "      <th>Habitantes</th>\n",
       "    </tr>\n",
       "  </thead>\n",
       "  <tbody>\n",
       "    <tr>\n",
       "      <th>0</th>\n",
       "      <td>2021</td>\n",
       "      <td>Albacete</td>\n",
       "      <td>2</td>\n",
       "      <td>Total</td>\n",
       "      <td>386726</td>\n",
       "    </tr>\n",
       "    <tr>\n",
       "      <th>1</th>\n",
       "      <td>2020</td>\n",
       "      <td>Albacete</td>\n",
       "      <td>2</td>\n",
       "      <td>Total</td>\n",
       "      <td>387838</td>\n",
       "    </tr>\n",
       "    <tr>\n",
       "      <th>2</th>\n",
       "      <td>2019</td>\n",
       "      <td>Albacete</td>\n",
       "      <td>2</td>\n",
       "      <td>Total</td>\n",
       "      <td>387818</td>\n",
       "    </tr>\n",
       "    <tr>\n",
       "      <th>3</th>\n",
       "      <td>2018</td>\n",
       "      <td>Albacete</td>\n",
       "      <td>2</td>\n",
       "      <td>Total</td>\n",
       "      <td>388948</td>\n",
       "    </tr>\n",
       "    <tr>\n",
       "      <th>4</th>\n",
       "      <td>2017</td>\n",
       "      <td>Albacete</td>\n",
       "      <td>2</td>\n",
       "      <td>Total</td>\n",
       "      <td>390225</td>\n",
       "    </tr>\n",
       "    <tr>\n",
       "      <th>5</th>\n",
       "      <td>2016</td>\n",
       "      <td>Albacete</td>\n",
       "      <td>2</td>\n",
       "      <td>Total</td>\n",
       "      <td>391865</td>\n",
       "    </tr>\n",
       "    <tr>\n",
       "      <th>6</th>\n",
       "      <td>2015</td>\n",
       "      <td>Albacete</td>\n",
       "      <td>2</td>\n",
       "      <td>Total</td>\n",
       "      <td>394012</td>\n",
       "    </tr>\n",
       "    <tr>\n",
       "      <th>7</th>\n",
       "      <td>2014</td>\n",
       "      <td>Albacete</td>\n",
       "      <td>2</td>\n",
       "      <td>Total</td>\n",
       "      <td>396017</td>\n",
       "    </tr>\n",
       "    <tr>\n",
       "      <th>8</th>\n",
       "      <td>2013</td>\n",
       "      <td>Albacete</td>\n",
       "      <td>2</td>\n",
       "      <td>Total</td>\n",
       "      <td>399093</td>\n",
       "    </tr>\n",
       "    <tr>\n",
       "      <th>9</th>\n",
       "      <td>2012</td>\n",
       "      <td>Albacete</td>\n",
       "      <td>2</td>\n",
       "      <td>Total</td>\n",
       "      <td>401590</td>\n",
       "    </tr>\n",
       "  </tbody>\n",
       "</table>\n",
       "</div>"
      ],
      "text/plain": [
       "    Año Provincia  Provincia_ID   Sexo  Habitantes\n",
       "0  2021  Albacete             2  Total      386726\n",
       "1  2020  Albacete             2  Total      387838\n",
       "2  2019  Albacete             2  Total      387818\n",
       "3  2018  Albacete             2  Total      388948\n",
       "4  2017  Albacete             2  Total      390225\n",
       "5  2016  Albacete             2  Total      391865\n",
       "6  2015  Albacete             2  Total      394012\n",
       "7  2014  Albacete             2  Total      396017\n",
       "8  2013  Albacete             2  Total      399093\n",
       "9  2012  Albacete             2  Total      401590"
      ]
     },
     "execution_count": 60,
     "metadata": {},
     "output_type": "execute_result"
    }
   ],
   "source": [
    "Poblacion.head(10)"
   ]
  },
  {
   "cell_type": "code",
   "execution_count": 63,
   "id": "6e6595ae-e8d4-47c5-998d-2dc5be6e2402",
   "metadata": {},
   "outputs": [],
   "source": [
    "Poblacion = Poblacion[Poblacion['Sexo'] != 'Total']"
   ]
  },
  {
   "cell_type": "code",
   "execution_count": 66,
   "id": "8e029747-7797-4d13-a6fc-492cd699af6a",
   "metadata": {},
   "outputs": [],
   "source": [
    "Poblacion = Poblacion.reset_index()"
   ]
  },
  {
   "cell_type": "code",
   "execution_count": 69,
   "id": "460e7e23-aef1-4ac7-bd25-15f2c3457b33",
   "metadata": {},
   "outputs": [],
   "source": [
    "Poblacion.drop('index', axis=1, inplace=True)"
   ]
  },
  {
   "cell_type": "code",
   "execution_count": 72,
   "id": "807b0037-e995-4893-ada5-6ce7ff61abf6",
   "metadata": {},
   "outputs": [
    {
     "data": {
      "text/html": [
       "<div>\n",
       "<style scoped>\n",
       "    .dataframe tbody tr th:only-of-type {\n",
       "        vertical-align: middle;\n",
       "    }\n",
       "\n",
       "    .dataframe tbody tr th {\n",
       "        vertical-align: top;\n",
       "    }\n",
       "\n",
       "    .dataframe thead th {\n",
       "        text-align: right;\n",
       "    }\n",
       "</style>\n",
       "<table border=\"1\" class=\"dataframe\">\n",
       "  <thead>\n",
       "    <tr style=\"text-align: right;\">\n",
       "      <th></th>\n",
       "      <th>Año</th>\n",
       "      <th>Provincia</th>\n",
       "      <th>Provincia_ID</th>\n",
       "      <th>Sexo</th>\n",
       "      <th>Habitantes</th>\n",
       "    </tr>\n",
       "  </thead>\n",
       "  <tbody>\n",
       "    <tr>\n",
       "      <th>0</th>\n",
       "      <td>2021</td>\n",
       "      <td>Albacete</td>\n",
       "      <td>2</td>\n",
       "      <td>Hombres</td>\n",
       "      <td>193487</td>\n",
       "    </tr>\n",
       "    <tr>\n",
       "      <th>1</th>\n",
       "      <td>2020</td>\n",
       "      <td>Albacete</td>\n",
       "      <td>2</td>\n",
       "      <td>Hombres</td>\n",
       "      <td>193913</td>\n",
       "    </tr>\n",
       "    <tr>\n",
       "      <th>2</th>\n",
       "      <td>2019</td>\n",
       "      <td>Albacete</td>\n",
       "      <td>2</td>\n",
       "      <td>Hombres</td>\n",
       "      <td>193806</td>\n",
       "    </tr>\n",
       "    <tr>\n",
       "      <th>3</th>\n",
       "      <td>2018</td>\n",
       "      <td>Albacete</td>\n",
       "      <td>2</td>\n",
       "      <td>Hombres</td>\n",
       "      <td>194405</td>\n",
       "    </tr>\n",
       "    <tr>\n",
       "      <th>4</th>\n",
       "      <td>2017</td>\n",
       "      <td>Albacete</td>\n",
       "      <td>2</td>\n",
       "      <td>Hombres</td>\n",
       "      <td>195065</td>\n",
       "    </tr>\n",
       "    <tr>\n",
       "      <th>...</th>\n",
       "      <td>...</td>\n",
       "      <td>...</td>\n",
       "      <td>...</td>\n",
       "      <td>...</td>\n",
       "      <td>...</td>\n",
       "    </tr>\n",
       "    <tr>\n",
       "      <th>1035</th>\n",
       "      <td>2016</td>\n",
       "      <td>Melilla</td>\n",
       "      <td>52</td>\n",
       "      <td>Mujeres</td>\n",
       "      <td>41749</td>\n",
       "    </tr>\n",
       "    <tr>\n",
       "      <th>1036</th>\n",
       "      <td>2015</td>\n",
       "      <td>Melilla</td>\n",
       "      <td>52</td>\n",
       "      <td>Mujeres</td>\n",
       "      <td>41451</td>\n",
       "    </tr>\n",
       "    <tr>\n",
       "      <th>1037</th>\n",
       "      <td>2014</td>\n",
       "      <td>Melilla</td>\n",
       "      <td>52</td>\n",
       "      <td>Mujeres</td>\n",
       "      <td>41006</td>\n",
       "    </tr>\n",
       "    <tr>\n",
       "      <th>1038</th>\n",
       "      <td>2013</td>\n",
       "      <td>Melilla</td>\n",
       "      <td>52</td>\n",
       "      <td>Mujeres</td>\n",
       "      <td>40479</td>\n",
       "    </tr>\n",
       "    <tr>\n",
       "      <th>1039</th>\n",
       "      <td>2012</td>\n",
       "      <td>Melilla</td>\n",
       "      <td>52</td>\n",
       "      <td>Mujeres</td>\n",
       "      <td>39476</td>\n",
       "    </tr>\n",
       "  </tbody>\n",
       "</table>\n",
       "<p>1040 rows × 5 columns</p>\n",
       "</div>"
      ],
      "text/plain": [
       "       Año Provincia  Provincia_ID     Sexo  Habitantes\n",
       "0     2021  Albacete             2  Hombres      193487\n",
       "1     2020  Albacete             2  Hombres      193913\n",
       "2     2019  Albacete             2  Hombres      193806\n",
       "3     2018  Albacete             2  Hombres      194405\n",
       "4     2017  Albacete             2  Hombres      195065\n",
       "...    ...       ...           ...      ...         ...\n",
       "1035  2016   Melilla            52  Mujeres       41749\n",
       "1036  2015   Melilla            52  Mujeres       41451\n",
       "1037  2014   Melilla            52  Mujeres       41006\n",
       "1038  2013   Melilla            52  Mujeres       40479\n",
       "1039  2012   Melilla            52  Mujeres       39476\n",
       "\n",
       "[1040 rows x 5 columns]"
      ]
     },
     "execution_count": 72,
     "metadata": {},
     "output_type": "execute_result"
    }
   ],
   "source": [
    "Poblacion"
   ]
  },
  {
   "cell_type": "code",
   "execution_count": 76,
   "id": "526aa41d-158d-4a97-ba8d-14b9b73c931f",
   "metadata": {},
   "outputs": [],
   "source": [
    "Poblacion.to_csv('Censo.csv', index=False)"
   ]
  },
  {
   "cell_type": "code",
   "execution_count": null,
   "id": "113abfec-4a78-44ab-9060-7cc2ea9e2bf8",
   "metadata": {},
   "outputs": [],
   "source": []
  }
 ],
 "metadata": {
  "kernelspec": {
   "display_name": "Python 3 (ipykernel)",
   "language": "python",
   "name": "python3"
  },
  "language_info": {
   "codemirror_mode": {
    "name": "ipython",
    "version": 3
   },
   "file_extension": ".py",
   "mimetype": "text/x-python",
   "name": "python",
   "nbconvert_exporter": "python",
   "pygments_lexer": "ipython3",
   "version": "3.12.4"
  }
 },
 "nbformat": 4,
 "nbformat_minor": 5
}
