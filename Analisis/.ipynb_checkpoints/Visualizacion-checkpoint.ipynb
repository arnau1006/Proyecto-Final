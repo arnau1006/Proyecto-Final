{
 "cells": [
  {
   "cell_type": "markdown",
   "id": "68bd0398-b9c5-4985-a45b-8a7219ac9b5c",
   "metadata": {},
   "source": [
    "# VISUALIZACION"
   ]
  },
  {
   "cell_type": "code",
   "execution_count": null,
   "id": "ed016964-c4a8-43be-9dc3-d1719da9a479",
   "metadata": {},
   "outputs": [],
   "source": [
    "import streamlit as st\n",
    "import pandas as pd\n",
    "import numpy as np\n",
    "from sklearn.ensemble import RandomForestClassifier\n",
    "from sklearn.model_selection import train_test_split"
   ]
  },
  {
   "cell_type": "code",
   "execution_count": null,
   "id": "0c852765-a9af-4989-a654-786f6a74451a",
   "metadata": {},
   "outputs": [],
   "source": [
    "\n",
    "\n",
    "# Título de la aplicación\n",
    "st.title(\"Predicción con Random Forest\")\n",
    "\n",
    "# Subir datos\n",
    "uploaded_file = st.file_uploader(\"Sube un archivo CSV con los datos\", type=\"csv\")\n",
    "if uploaded_file is not None:\n",
    "    data = pd.read_csv(uploaded_file)\n",
    "    st.write(\"Datos cargados:\")\n",
    "    st.write(data.head())\n",
    "\n",
    "    # Seleccionar columnas de características y etiqueta\n",
    "    features = st.multiselect(\"Selecciona las columnas de características\", data.columns)\n",
    "    target = st.selectbox(\"Selecciona la columna objetivo\", data.columns)\n",
    "\n",
    "    if features and target:\n",
    "        X = data[features]\n",
    "        y = data[target]\n",
    "\n",
    "        # Dividir los datos\n",
    "        X_train, X_test, y_train, y_test = train_test_split(X, y, test_size=0.3, random_state=42)\n",
    "\n",
    "        # Crear y ajustar el modelo\n",
    "        model = RandomForestClassifier(n_estimators=100, random_state=42)\n",
    "        model.fit(X_train, y_train)\n",
    "\n",
    "        # Predicción\n",
    "        y_pred = model.predict(X_test)\n",
    "        accuracy = model.score(X_test, y_test)\n",
    "\n",
    "        # Mostrar resultados\n",
    "        st.write(f\"Precisión del modelo: {accuracy:.2f}\")\n",
    "        st.write(\"Importancia de características:\")\n",
    "        importances = pd.DataFrame({'Característica': features, 'Importancia': model.feature_importances_})\n",
    "        st.bar_chart(importances.set_index('Característica'))\n",
    "\n",
    "        # Predicción interactiva\n",
    "        st.subheader(\"Hacer predicciones\")\n",
    "        input_data = {feature: st.number_input(f\"Ingresa el valor para {feature}\") for feature in features}\n",
    "        input_df = pd.DataFrame([input_data])\n",
    "        if st.button(\"Predecir\"):\n",
    "            prediction = model.predict(input_df)[0]\n",
    "            st.write(f\"Predicción: {prediction}\")"
   ]
  }
 ],
 "metadata": {
  "kernelspec": {
   "display_name": "Python 3 (ipykernel)",
   "language": "python",
   "name": "python3"
  },
  "language_info": {
   "codemirror_mode": {
    "name": "ipython",
    "version": 3
   },
   "file_extension": ".py",
   "mimetype": "text/x-python",
   "name": "python",
   "nbconvert_exporter": "python",
   "pygments_lexer": "ipython3",
   "version": "3.12.4"
  }
 },
 "nbformat": 4,
 "nbformat_minor": 5
}
