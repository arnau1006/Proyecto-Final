{
 "cells": [
  {
   "cell_type": "markdown",
   "id": "68bd0398-b9c5-4985-a45b-8a7219ac9b5c",
   "metadata": {},
   "source": [
    "# VISUALIZACION"
   ]
  },
  {
   "cell_type": "code",
   "execution_count": 2,
   "id": "ed016964-c4a8-43be-9dc3-d1719da9a479",
   "metadata": {},
   "outputs": [],
   "source": [
    "import streamlit as st\n",
    "import pandas as pd\n",
    "import numpy as np\n",
    "from sklearn.ensemble import RandomForestClassifier\n",
    "from sklearn.model_selection import train_test_split"
   ]
  },
  {
   "cell_type": "code",
   "execution_count": 3,
   "id": "b38b7810-17dd-40dd-b35d-004a83aa4956",
   "metadata": {},
   "outputs": [],
   "source": [
    "Tabla_Final = pd.read_csv(\"Tabla_F.csv\")"
   ]
  },
  {
   "cell_type": "code",
   "execution_count": 4,
   "id": "a06fcf14-8374-4abe-b76a-207dbcede8a2",
   "metadata": {},
   "outputs": [
    {
     "data": {
      "text/html": [
       "<div>\n",
       "<style scoped>\n",
       "    .dataframe tbody tr th:only-of-type {\n",
       "        vertical-align: middle;\n",
       "    }\n",
       "\n",
       "    .dataframe tbody tr th {\n",
       "        vertical-align: top;\n",
       "    }\n",
       "\n",
       "    .dataframe thead th {\n",
       "        text-align: right;\n",
       "    }\n",
       "</style>\n",
       "<table border=\"1\" class=\"dataframe\">\n",
       "  <thead>\n",
       "    <tr style=\"text-align: right;\">\n",
       "      <th></th>\n",
       "      <th>Diagnóstico</th>\n",
       "      <th>Provincia</th>\n",
       "      <th>Sexo</th>\n",
       "      <th>Hospitalizaciones</th>\n",
       "      <th>Habitantes</th>\n",
       "      <th>Porcentaje_H</th>\n",
       "      <th>Metales Pesados</th>\n",
       "      <th>Indice_Contaminación</th>\n",
       "    </tr>\n",
       "  </thead>\n",
       "  <tbody>\n",
       "    <tr>\n",
       "      <th>0</th>\n",
       "      <td>6</td>\n",
       "      <td>3</td>\n",
       "      <td>0</td>\n",
       "      <td>2615</td>\n",
       "      <td>350979</td>\n",
       "      <td>0.75</td>\n",
       "      <td>5.4553</td>\n",
       "      <td>14.13343</td>\n",
       "    </tr>\n",
       "  </tbody>\n",
       "</table>\n",
       "</div>"
      ],
      "text/plain": [
       "   Diagnóstico  Provincia  Sexo  Hospitalizaciones  Habitantes  Porcentaje_H  \\\n",
       "0            6          3     0               2615      350979          0.75   \n",
       "\n",
       "   Metales Pesados  Indice_Contaminación  \n",
       "0           5.4553              14.13343  "
      ]
     },
     "execution_count": 4,
     "metadata": {},
     "output_type": "execute_result"
    }
   ],
   "source": [
    "Tabla_Final.head(1)"
   ]
  },
  {
   "cell_type": "code",
   "execution_count": null,
   "id": "0a4e8c7a-58e3-4152-ad3e-dfbc613e6e5e",
   "metadata": {},
   "outputs": [],
   "source": [
    "X = data_clean.drop(columns=['Porcentaje_H','Provincia_ID','Diagnóstico_ID'])\n",
    "y = data_clean['Porcentaje_H']"
   ]
  },
  {
   "cell_type": "code",
   "execution_count": 1,
   "id": "f8544748-a4bc-483b-a402-54c6c9f1c4b7",
   "metadata": {},
   "outputs": [
    {
     "name": "stderr",
     "output_type": "stream",
     "text": [
      "2024-11-15 15:58:22.597 \n",
      "  \u001b[33m\u001b[1mWarning:\u001b[0m to view this Streamlit app on a browser, run it with the following\n",
      "  command:\n",
      "\n",
      "    streamlit run /opt/anaconda3/lib/python3.12/site-packages/ipykernel_launcher.py [ARGUMENTS]\n"
     ]
    }
   ],
   "source": [
    "import streamlit as st\n",
    "import pandas as pd\n",
    "from sklearn.model_selection import train_test_split\n",
    "from sklearn.ensemble import RandomForestClassifier\n",
    "\n",
    "# Título de la aplicación\n",
    "st.title(\"Predicción con Random Forest\")\n",
    "\n",
    "# Subir datos\n",
    "uploaded_file = st.file_uploader(\"Tabla_F.csv\", type=\"csv\")\n",
    "if uploaded_file is not None:\n",
    "    data_clean = pd.read_csv(uploaded_file)\n",
    "    st.write(\"Datos cargados:\")\n",
    "    st.write(data_clean.head())\n",
    "\n",
    "    # Definir características (X) y columna objetivo (y)\n",
    "    X = data_clean.drop(columns=['Porcentaje_H', 'Hospitalizaciones'])\n",
    "    y = data_clean['Hospitalizaciones']\n",
    "\n",
    "    # Dividir los datos\n",
    "    X_train, X_test, y_train, y_test = train_test_split(X, y, test_size=0.3, random_state=42)\n",
    "\n",
    "    # Crear y ajustar el modelo\n",
    "    model = RandomForestRegressor(n_estimators=300, max_depth=50, min_samples_split=5, min_samples_leaf=4, random_state=42)\n",
    "    model.fit(X_train, y_train)\n",
    "\n",
    "    # Predicción\n",
    "    y_pred = model.predict(X_test)\n",
    "    accuracy = model.score(X_test, y_test)\n",
    "\n",
    "    # Mostrar resultados\n",
    "    st.write(f\"Precisión del modelo: {accuracy:.2f}\")\n",
    "    st.write(\"Importancia de características:\")\n",
    "    importances = pd.DataFrame({'Característica': X.columns, 'Importancia': model.feature_importances_})\n",
    "    st.bar_chart(importances.set_index('Característica'))"
   ]
  },
  {
   "cell_type": "code",
   "execution_count": null,
   "id": "4a95c458-1e69-4284-9134-a66b16730307",
   "metadata": {},
   "outputs": [],
   "source": [
    "\n",
    "joblib.dump(model, 'modelo_random_forest.pkl')\n",
    "st.write(\"El modelo ha sido guardado como 'modelo_random_forest.pkl'.\")"
   ]
  }
 ],
 "metadata": {
  "kernelspec": {
   "display_name": "Python 3 (ipykernel)",
   "language": "python",
   "name": "python3"
  },
  "language_info": {
   "codemirror_mode": {
    "name": "ipython",
    "version": 3
   },
   "file_extension": ".py",
   "mimetype": "text/x-python",
   "name": "python",
   "nbconvert_exporter": "python",
   "pygments_lexer": "ipython3",
   "version": "3.12.4"
  }
 },
 "nbformat": 4,
 "nbformat_minor": 5
}
